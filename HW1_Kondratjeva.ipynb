{
 "cells": [
  {
   "cell_type": "markdown",
   "metadata": {},
   "source": [
    "### 1. Импорт всех нужных инструментов ### "
   ]
  },
  {
   "cell_type": "code",
   "execution_count": 46,
   "metadata": {
    "collapsed": false
   },
   "outputs": [
    {
     "name": "stdout",
     "output_type": "stream",
     "text": [
      "Collecting pymorphy2\n",
      "  Downloading https://files.pythonhosted.org/packages/a3/33/fff9675c68b5f6c63ec8c6e6ff57827dda28a1fa5b2c2d727dffff92dd47/pymorphy2-0.8-py2.py3-none-any.whl (46kB)\n",
      "\u001b[K    100% |████████████████████████████████| 51kB 648kB/s \n",
      "\u001b[?25hCollecting dawg-python>=0.7 (from pymorphy2)\n",
      "  Using cached https://files.pythonhosted.org/packages/6a/84/ff1ce2071d4c650ec85745766c0047ccc3b5036f1d03559fd46bb38b5eeb/DAWG_Python-0.7.2-py2.py3-none-any.whl\n",
      "Collecting docopt>=0.6 (from pymorphy2)\n",
      "  Using cached https://files.pythonhosted.org/packages/a2/55/8f8cab2afd404cf578136ef2cc5dfb50baa1761b68c9da1fb1e4eed343c9/docopt-0.6.2.tar.gz\n",
      "Collecting pymorphy2-dicts<3.0,>=2.4 (from pymorphy2)\n",
      "  Downloading https://files.pythonhosted.org/packages/02/51/2465fd4f72328ab50877b54777764d928da8cb15b74e2680fc1bd8cb3173/pymorphy2_dicts-2.4.393442.3710985-py2.py3-none-any.whl (7.1MB)\n",
      "\u001b[K    100% |████████████████████████████████| 7.1MB 89kB/s \n",
      "\u001b[?25hBuilding wheels for collected packages: docopt\n",
      "  Running setup.py bdist_wheel for docopt ... \u001b[?25l-\b \b\\\b \b|\b \bdone\n",
      "\u001b[?25h  Stored in directory: /home/anna/.cache/pip/wheels/9b/04/dd/7daf4150b6d9b12949298737de9431a324d4b797ffd63f526e\n",
      "Successfully built docopt\n",
      "Installing collected packages: dawg-python, docopt, pymorphy2-dicts, pymorphy2\n",
      "Successfully installed dawg-python-0.7.2 docopt-0.6.2 pymorphy2-0.8 pymorphy2-dicts-2.4.393442.3710985\n",
      "\u001b[33mYou are using pip version 9.0.1, however version 10.0.1 is available.\n",
      "You should consider upgrading via the 'pip install --upgrade pip' command.\u001b[0m\n"
     ]
    }
   ],
   "source": [
    "!pip install pymorphy2"
   ]
  },
  {
   "cell_type": "code",
   "execution_count": 145,
   "metadata": {
    "collapsed": false
   },
   "outputs": [],
   "source": [
    "import numpy as np\n",
    "import pandas as pd\n",
    "import seaborn as sns\n",
    "import matplotlib.pyplot as plt\n",
    "import re\n",
    "from nltk.tokenize import wordpunct_tokenize\n",
    "from pymorphy2 import MorphAnalyzer\n",
    "from nltk.corpus import stopwords\n",
    "import string\n",
    "from sklearn.feature_extraction.text import CountVectorizer, TfidfVectorizer\n",
    "from sklearn.linear_model import LogisticRegression\n",
    "from sklearn.metrics import precision_score, recall_score, f1_score, classification_report, confusion_matrix\n",
    "from sklearn.model_selection import GridSearchCV\n",
    "from sklearn.pipeline import Pipeline\n",
    "\n",
    "%matplotlib inline  \n",
    "pd.set_option('max_colwidth', 1000)"
   ]
  },
  {
   "cell_type": "markdown",
   "metadata": {},
   "source": [
    "### 2. Загрузка данных ###"
   ]
  },
  {
   "cell_type": "code",
   "execution_count": 103,
   "metadata": {
    "collapsed": true
   },
   "outputs": [],
   "source": [
    "train_df = pd.read_csv('data/sentiment_twitter/train_sentiment_ttk.tsv', sep='\\t', encoding='utf-8')\n",
    "test_df = pd.read_csv('data/sentiment_twitter/test_sentiment_ttk.tsv', sep='\\t', encoding='utf-8')"
   ]
  },
  {
   "cell_type": "code",
   "execution_count": 104,
   "metadata": {
    "collapsed": false
   },
   "outputs": [
    {
     "data": {
      "text/html": [
       "<div>\n",
       "<style>\n",
       "    .dataframe thead tr:only-child th {\n",
       "        text-align: right;\n",
       "    }\n",
       "\n",
       "    .dataframe thead th {\n",
       "        text-align: left;\n",
       "    }\n",
       "\n",
       "    .dataframe tbody tr th {\n",
       "        vertical-align: top;\n",
       "    }\n",
       "</style>\n",
       "<table border=\"1\" class=\"dataframe\">\n",
       "  <thead>\n",
       "    <tr style=\"text-align: right;\">\n",
       "      <th></th>\n",
       "      <th>label</th>\n",
       "      <th>text</th>\n",
       "    </tr>\n",
       "  </thead>\n",
       "  <tbody>\n",
       "    <tr>\n",
       "      <th>0</th>\n",
       "      <td>0</td>\n",
       "      <td>@mkomov Максим, Вашем письмо мы получили. Наши сотрудники свяжутся с Вами завтра и направят запрос инженерам для проверки. #билайн</td>\n",
       "    </tr>\n",
       "    <tr>\n",
       "      <th>1</th>\n",
       "      <td>0</td>\n",
       "      <td>«Мегафон» стал владельцем 50% акций «Евросети»</td>\n",
       "    </tr>\n",
       "    <tr>\n",
       "      <th>2</th>\n",
       "      <td>-1</td>\n",
       "      <td>RT @fuckkiev: “@EvaKobb: МТС Россия прислала жителям Херсонщины сообщения, в которых обозвала украинцев фашистами? http://t.co/RbSesXlOUZ” …</td>\n",
       "    </tr>\n",
       "    <tr>\n",
       "      <th>3</th>\n",
       "      <td>1</td>\n",
       "      <td>ВИДЕО: http://t.co/PSMLAhR4fI Реклама со смехом МТС - Супер 0</td>\n",
       "    </tr>\n",
       "    <tr>\n",
       "      <th>4</th>\n",
       "      <td>-1</td>\n",
       "      <td>@parfenov1960 потому что МТС достало, а пчел ненавижу с детства, как и их мёд!</td>\n",
       "    </tr>\n",
       "  </tbody>\n",
       "</table>\n",
       "</div>"
      ],
      "text/plain": [
       "   label  \\\n",
       "0      0   \n",
       "1      0   \n",
       "2     -1   \n",
       "3      1   \n",
       "4     -1   \n",
       "\n",
       "                                                                                                                                           text  \n",
       "0            @mkomov Максим, Вашем письмо мы получили. Наши сотрудники свяжутся с Вами завтра и направят запрос инженерам для проверки. #билайн  \n",
       "1                                                                                                «Мегафон» стал владельцем 50% акций «Евросети»  \n",
       "2  RT @fuckkiev: “@EvaKobb: МТС Россия прислала жителям Херсонщины сообщения, в которых обозвала украинцев фашистами? http://t.co/RbSesXlOUZ” …  \n",
       "3                                                                                 ВИДЕО: http://t.co/PSMLAhR4fI Реклама со смехом МТС - Супер 0  \n",
       "4                                                                @parfenov1960 потому что МТС достало, а пчел ненавижу с детства, как и их мёд!  "
      ]
     },
     "execution_count": 104,
     "metadata": {},
     "output_type": "execute_result"
    }
   ],
   "source": [
    "train_df.head(5)"
   ]
  },
  {
   "cell_type": "code",
   "execution_count": 105,
   "metadata": {
    "collapsed": false
   },
   "outputs": [
    {
     "data": {
      "text/html": [
       "<div>\n",
       "<style>\n",
       "    .dataframe thead tr:only-child th {\n",
       "        text-align: right;\n",
       "    }\n",
       "\n",
       "    .dataframe thead th {\n",
       "        text-align: left;\n",
       "    }\n",
       "\n",
       "    .dataframe tbody tr th {\n",
       "        vertical-align: top;\n",
       "    }\n",
       "</style>\n",
       "<table border=\"1\" class=\"dataframe\">\n",
       "  <thead>\n",
       "    <tr style=\"text-align: right;\">\n",
       "      <th></th>\n",
       "      <th>label</th>\n",
       "      <th>text</th>\n",
       "    </tr>\n",
       "  </thead>\n",
       "  <tbody>\n",
       "    <tr>\n",
       "      <th>0</th>\n",
       "      <td>-1</td>\n",
       "      <td>RT vzglyad: По делу о работе МТС в Узбекистане США предложили заморозить 300 млн</td>\n",
       "    </tr>\n",
       "    <tr>\n",
       "      <th>1</th>\n",
       "      <td>0</td>\n",
       "      <td>RT @kevinuyatukox: http://t.co/ljtrjq91v3 #Кредитные карты мегафон банка</td>\n",
       "    </tr>\n",
       "    <tr>\n",
       "      <th>2</th>\n",
       "      <td>0</td>\n",
       "      <td>#Оформить кредитную карту в банке мтс http://t.co/vv1B6PMWgH</td>\n",
       "    </tr>\n",
       "    <tr>\n",
       "      <th>3</th>\n",
       "      <td>0</td>\n",
       "      <td>#Как перевести деньги с билайна на кредитную карту</td>\n",
       "    </tr>\n",
       "    <tr>\n",
       "      <th>4</th>\n",
       "      <td>0</td>\n",
       "      <td>#Начальник отдела кредитного контроля оао мтс усачева н а</td>\n",
       "    </tr>\n",
       "  </tbody>\n",
       "</table>\n",
       "</div>"
      ],
      "text/plain": [
       "   label  \\\n",
       "0     -1   \n",
       "1      0   \n",
       "2      0   \n",
       "3      0   \n",
       "4      0   \n",
       "\n",
       "                                                                               text  \n",
       "0  RT vzglyad: По делу о работе МТС в Узбекистане США предложили заморозить 300 млн  \n",
       "1          RT @kevinuyatukox: http://t.co/ljtrjq91v3 #Кредитные карты мегафон банка  \n",
       "2                      #Оформить кредитную карту в банке мтс http://t.co/vv1B6PMWgH  \n",
       "3                                #Как перевести деньги с билайна на кредитную карту  \n",
       "4                         #Начальник отдела кредитного контроля оао мтс усачева н а  "
      ]
     },
     "execution_count": 105,
     "metadata": {},
     "output_type": "execute_result"
    }
   ],
   "source": [
    "test_df.head(5)"
   ]
  },
  {
   "cell_type": "code",
   "execution_count": 106,
   "metadata": {
    "collapsed": false
   },
   "outputs": [],
   "source": [
    "X_train, X_test = train_df['text'], test_df['text']\n",
    "y_train, y_test = train_df['label'], test_df['label']"
   ]
  },
  {
   "cell_type": "markdown",
   "metadata": {},
   "source": [
    "### 3. Baseline ###\n",
    "\n",
    "Попробуем натренировать логистическую регрессию с дефолтными параметрами (кроме penalty, тут возьмем значение 'l1') на ненормализованных данных, используя CountVectorizer и TfidfVectorizer - также с дефолтными параметрами."
   ]
  },
  {
   "cell_type": "code",
   "execution_count": 125,
   "metadata": {
    "collapsed": true
   },
   "outputs": [],
   "source": [
    "def train_and_report(X_train, y_train, X_test, y_test, alg, vectorizer):\n",
    "    X_train_vec = vectorizer.fit_transform(X_train)\n",
    "    X_test_vec = vectorizer.transform(X_test)\n",
    "\n",
    "    alg.fit(X_train_vec, y_train)\n",
    "\n",
    "    y_pred = alg.predict(X_test_vec)\n",
    "    \n",
    "    print(classification_report(y_test, y_pred))\n",
    "    print(\"Макросредняя F1 мера - \", f1_score(y_test, y_pred, average=\"macro\"))\n",
    "    print(\"Микросредняя F1 мера - \", f1_score(y_test, y_pred, average=\"micro\"))\n",
    "    \n",
    "    labels = alg.classes_\n",
    "    fig, ax = plt.subplots(figsize=(10,5))\n",
    "    sns.heatmap(data=confusion_matrix(y_test, y_pred), annot=True, \n",
    "                fmt=\"d\", xticklabels=labels, yticklabels=labels, ax=ax)\n",
    "    plt.title(\"Confusion matrix\")\n",
    "    plt.show()"
   ]
  },
  {
   "cell_type": "code",
   "execution_count": 126,
   "metadata": {
    "collapsed": true
   },
   "outputs": [],
   "source": [
    "def print_important(vectorizer, clf, topn=10):\n",
    "    features = vectorizer.get_feature_names()\n",
    "    classes = clf.classes_\n",
    "    importances = clf.coef_\n",
    "    for i, cls in enumerate(classes):\n",
    "        print('Значимые слова для класса - ', cls)\n",
    "        important_words = sorted(list(zip(features, importances[i])), key=lambda x: abs(x[1]), reverse=True)[:topn]\n",
    "        print([word for word,_ in important_words])\n",
    "        print()"
   ]
  },
  {
   "cell_type": "markdown",
   "metadata": {},
   "source": [
    "#### 3.1 Count Vectorizer ####"
   ]
  },
  {
   "cell_type": "code",
   "execution_count": 162,
   "metadata": {
    "collapsed": false
   },
   "outputs": [
    {
     "name": "stdout",
     "output_type": "stream",
     "text": [
      "Classification report: baseline-logistic regression + count vectorizer\n",
      "\n",
      "             precision    recall  f1-score   support\n",
      "\n",
      "         -1       0.74      0.66      0.70       902\n",
      "          0       0.67      0.78      0.72       972\n",
      "          1       0.40      0.26      0.31       180\n",
      "\n",
      "avg / total       0.68      0.68      0.68      2054\n",
      "\n",
      "Макросредняя F1 мера -  0.578306045814\n",
      "Микросредняя F1 мера -  0.684031158715\n"
     ]
    },
    {
     "data": {
      "image/png": "[encoded data removed]",
      "text/plain": [
       "<matplotlib.figure.Figure at 0x7efc89d076d8>"
      ]
     },
     "metadata": {},
     "output_type": "display_data"
    }
   ],
   "source": [
    "cv_vect = CountVectorizer()\n",
    "lr = LogisticRegression(penalty='l1')\n",
    "\n",
    "print('Classification report: baseline-logistic regression + count vectorizer\\n')\n",
    "train_and_report(X_train, y_train, X_test, y_test, lr, cv_vect)"
   ]
  },
  {
   "cell_type": "code",
   "execution_count": 163,
   "metadata": {
    "collapsed": false
   },
   "outputs": [
    {
     "name": "stdout",
     "output_type": "stream",
     "text": [
      "Значимые слова для класса -  -1\n",
      "['сбой', 'собираются', 'перебоями', 'говно', 'обратилась', 'tele2', 'оштрафовать', 'сука', 'гавно', 'аду']\n",
      "\n",
      "Значимые слова для класса -  0\n",
      "['собираются', 'обратилась', 'иа', 'сбой', 'жителям', 'границы', 'гавно', 'просит', 'меры', 'люблю']\n",
      "\n",
      "Значимые слова для класса -  1\n",
      "['люблю', 'обожаю', 'специалистом', 'ожидал', 'здорово', 'выросла', 'мило', 'новогоднее', 'защиту', 'расширяется']\n",
      "\n"
     ]
    }
   ],
   "source": [
    "print_important(cv_vect, lr)"
   ]
  },
  {
   "cell_type": "markdown",
   "metadata": {},
   "source": [
    "#### 3.2 Tf-idf Vectorizer ####"
   ]
  },
  {
   "cell_type": "code",
   "execution_count": 164,
   "metadata": {
    "collapsed": false
   },
   "outputs": [
    {
     "name": "stdout",
     "output_type": "stream",
     "text": [
      "Classification report: baseline-logistic regression + tf-idf vectorizer\n",
      "\n",
      "             precision    recall  f1-score   support\n",
      "\n",
      "         -1       0.70      0.69      0.70       902\n",
      "          0       0.66      0.76      0.71       972\n",
      "          1       0.37      0.09      0.15       180\n",
      "\n",
      "avg / total       0.65      0.67      0.65      2054\n",
      "\n",
      "Макросредняя F1 мера -  0.517951914088\n",
      "Микросредняя F1 мера -  0.671859785784\n"
     ]
    },
    {
     "data": {
      "image/png": "[encoded data removed]",
      "text/plain": [
       "<matplotlib.figure.Figure at 0x7efc920b1cc0>"
      ]
     },
     "metadata": {},
     "output_type": "display_data"
    }
   ],
   "source": [
    "tfidf_vect = TfidfVectorizer()\n",
    "lr = LogisticRegression(penalty='l1')\n",
    "\n",
    "print('Classification report: baseline-logistic regression + tf-idf vectorizer\\n')\n",
    "train_and_report(X_train, y_train, X_test, y_test, lr, tfidf_vect)"
   ]
  },
  {
   "cell_type": "code",
   "execution_count": 165,
   "metadata": {
    "collapsed": false
   },
   "outputs": [
    {
     "name": "stdout",
     "output_type": "stream",
     "text": [
      "Значимые слова для класса -  -1\n",
      "['сбой', 'tele2', 'старые', 'не', 'сука', 'говно', 'просит', 'проблемы', 'крыму', 'фас']\n",
      "\n",
      "Значимые слова для класса -  0\n",
      "['иа', 'просит', 'сбой', 'гонконгские', 'цены', 'границы', 'пожалуйста', 'сн', 'связь', 'ловит']\n",
      "\n",
      "Значимые слова для класса -  1\n",
      "['люблю', 'узбекистан', 'спасибо', 'расходы', 'пожалуйста', 'подарок', 'клиенты', 'бесплатный', 'увеличил', 'защиты']\n",
      "\n"
     ]
    }
   ],
   "source": [
    "print_important(tfidf_vect, lr)"
   ]
  },
  {
   "cell_type": "markdown",
   "metadata": {},
   "source": [
    "#### 3.3 Некоторые выводы ####\n",
    "По матрицам видно, что больше всего проблем вызывает класс 0: алгоритм очень часто путает нейтральные твиты с отрицательными, реже - с положительными, тогда как путаница между отрицательными и положительными твитами встречается гораздо реже.\n",
    "\n",
    "CountVectorizer выделил более адекватные значимые признаки. У класса -1 признаки достаточно яркие за исключением \"собираются\", \"обратилась\" (хотя обращаются обычно с проблемами, так что...) и \"tele2\" (видимо, в датасете было много негативных отзывов о работе этой компании). У Tfidf мусора больше: \"не\", \"просит\", \"крыму\" и \"фас\" кажутся совсем неважными для определения тональности признаками. Аналогично с классом 1: у Tfidf явно совсем лишние \"узбекистан\", \"расходы\", \"клиенты\", у CV вызывают вопросы \"специалистом\" и \"расширяются\".\n",
    " \n",
    "Становится понятно, почему класс 0 всем мешает: некоторые значимые признаки этого класса совпадают с чужими значимыми признаками (\"говно\"/\"гавно\", \"просит\", \"пожалуйста\", \"сбой\".\n",
    "\n",
    "В целом, видно, что CountVectorizer справился с задачей выделений признаков лучше."
   ]
  },
  {
   "cell_type": "markdown",
   "metadata": {},
   "source": [
    "### 4. Нормализация текстов ###\n",
    "\n",
    "На этом этапе:\n",
    "\n",
    "1. Удалим из твитов все юзернеймы и ссылки.\n",
    "\n",
    "2. Токенизируем, используя инструмент NLTK.\n",
    "\n",
    "3. Лемматизируем, используя pymorphy2 (потому что это быстрее, чем майстем), выкинув пунктуацию, стоп-слова по данным NLTK и лемму 'rt', которая появляется в твите, когда кто-то кого-то ретвитит."
   ]
  },
  {
   "cell_type": "code",
   "execution_count": 133,
   "metadata": {
    "collapsed": true
   },
   "outputs": [],
   "source": [
    "def normalize(text):\n",
    "    morph = MorphAnalyzer()\n",
    "    stops = stopwords.words('russian')\n",
    "    punct = string.punctuation + '«»“”—…'\n",
    "    \n",
    "    text = text.lower()\n",
    "    text = re.sub(r'https?:\\/\\/?.*? ', '', text)\n",
    "    text = re.sub(r'@([A-Za-z0-9_]+)', '', text)\n",
    "    \n",
    "    tokens = wordpunct_tokenize(text)\n",
    "    all_lemmas = [morph.parse(token)[0].normal_form for token in tokens]\n",
    "    \n",
    "    cleaned_lemmas = [lemma for lemma in all_lemmas if lemma not in stops \n",
    "                      and lemma not in punct and lemma != 'rt']\n",
    "    \n",
    "    return ' '.join(cleaned_lemmas)"
   ]
  },
  {
   "cell_type": "code",
   "execution_count": 134,
   "metadata": {
    "collapsed": false
   },
   "outputs": [],
   "source": [
    "X_train_norm = train_df['text'].apply(normalize)\n",
    "X_test_norm  = test_df['text'].apply(normalize)"
   ]
  },
  {
   "cell_type": "code",
   "execution_count": 166,
   "metadata": {
    "collapsed": false
   },
   "outputs": [
    {
     "data": {
      "text/plain": [
       "0    максим ваш письмо получить наш сотрудник связаться завтра направить запрос инженер проверка билайн\n",
       "1                                                              мегафон стать владелец 50 акция евросеть\n",
       "2                   “: мтс россия прислать житель херсонщина сообщение который обозвать украинец фашист\n",
       "3                                                                        видео реклама смех мтс супер 0\n",
       "4                                                              мтс достать пчела ненавидеть детство мёд\n",
       "Name: text, dtype: object"
      ]
     },
     "execution_count": 166,
     "metadata": {},
     "output_type": "execute_result"
    }
   ],
   "source": [
    "X_train_norm.head(5)"
   ]
  },
  {
   "cell_type": "markdown",
   "metadata": {},
   "source": [
    "### 6. Baseline-алгоритм на почищенных данных ###\n",
    "\n",
    "Теперь опробуем логрег и векторайзеры с дефолтными параметрами на почищенных данных и посмотрим, изменилось ли что-то."
   ]
  },
  {
   "cell_type": "code",
   "execution_count": 172,
   "metadata": {
    "collapsed": false
   },
   "outputs": [
    {
     "name": "stdout",
     "output_type": "stream",
     "text": [
      "             precision    recall  f1-score   support\n",
      "\n",
      "         -1       0.73      0.59      0.65       902\n",
      "          0       0.64      0.80      0.71       972\n",
      "          1       0.44      0.27      0.34       180\n",
      "\n",
      "avg / total       0.66      0.66      0.65      2054\n",
      "\n",
      "Макросредняя F1 мера -  0.564659634996\n",
      "Микросредняя F1 мера -  0.658714703019\n"
     ]
    },
    {
     "data": {
      "image/png": "[encoded data removed]",
      "text/plain": [
       "<matplotlib.figure.Figure at 0x7efc90059898>"
      ]
     },
     "metadata": {},
     "output_type": "display_data"
    }
   ],
   "source": [
    "train_and_report(X_train_norm, y_train, X_test_norm, y_test, lr, cv_vect)"
   ]
  },
  {
   "cell_type": "code",
   "execution_count": 173,
   "metadata": {
    "collapsed": false
   },
   "outputs": [
    {
     "name": "stdout",
     "output_type": "stream",
     "text": [
      "Значимые слова для класса -  -1\n",
      "['расти', 'оштрафовать', 'задолженность', 'говно', 'восстановление', 'tele2', 'сбой', 'жопа', 'гавный', 'pomogite']\n",
      "\n",
      "Значимые слова для класса -  0\n",
      "['восстановление', 'оштрафовать', 'задолженность', 'иа', 'гавный', 'говно', 'ловить', 'вспомнить', 'экскурсия', 'заебал']\n",
      "\n",
      "Значимые слова для класса -  1\n",
      "['защита', 'понравиться', 'инноватор', 'благодарить', 'поезд', 'расширяться', 'любить', 'ереван', 'мило', 'болтать']\n",
      "\n"
     ]
    }
   ],
   "source": [
    "print_important(cv_vect, lr)"
   ]
  },
  {
   "cell_type": "code",
   "execution_count": 174,
   "metadata": {
    "collapsed": false
   },
   "outputs": [
    {
     "name": "stdout",
     "output_type": "stream",
     "text": [
      "             precision    recall  f1-score   support\n",
      "\n",
      "         -1       0.72      0.52      0.60       902\n",
      "          0       0.60      0.82      0.69       972\n",
      "          1       0.40      0.16      0.23       180\n",
      "\n",
      "avg / total       0.63      0.63      0.61      2054\n",
      "\n",
      "Макросредняя F1 мера -  0.508816830768\n",
      "Микросредняя F1 мера -  0.630963972736\n"
     ]
    },
    {
     "data": {
      "image/png": "[encoded data removed]",
      "text/plain": [
       "<matplotlib.figure.Figure at 0x7efc89c536a0>"
      ]
     },
     "metadata": {},
     "output_type": "display_data"
    }
   ],
   "source": [
    "train_and_report(X_train_norm, y_train, X_test_norm, y_test, lr, tfidf_vect)"
   ]
  },
  {
   "cell_type": "code",
   "execution_count": 175,
   "metadata": {
    "collapsed": false
   },
   "outputs": [
    {
     "name": "stdout",
     "output_type": "stream",
     "text": [
      "Значимые слова для класса -  -1\n",
      "['tele2', 'оштрафовать', 'восстановление', 'сбой', 'говно', 'организовать', 'http', 'лежать', 'подорожать', 'сук']\n",
      "\n",
      "Значимые слова для класса -  0\n",
      "['доллар', 'восстановление', 'иа', 'оштрафовать', 'инструкция', 'ловить', 'донецк', 'экскурсия', 'создание', 'сн']\n",
      "\n",
      "Значимые слова для класса -  1\n",
      "['защита', 'получать', 'понравиться', 'подарок', 'любить', 'узбекистан', 'расход', 'доллар', 'бесплатный', 'хороший']\n",
      "\n"
     ]
    }
   ],
   "source": [
    "print_important(tfidf_vect, lr)"
   ]
  },
  {
   "cell_type": "markdown",
   "metadata": {},
   "source": [
    "### 7. Подбор параметров ###\n",
    "\n",
    "Теперь подберем параметры векторайзеров и логрега. Для логрега будем перебирать параметры 'penalty' и 'C', для векторайзеров - 'ngram_range' и 'max_df'."
   ]
  },
  {
   "cell_type": "code",
   "execution_count": 146,
   "metadata": {
    "collapsed": true
   },
   "outputs": [],
   "source": [
    "full_X = X_train_norm.append(X_test_norm)\n",
    "full_y = y_train.append(y_test)"
   ]
  },
  {
   "cell_type": "code",
   "execution_count": 147,
   "metadata": {
    "collapsed": true
   },
   "outputs": [],
   "source": [
    "def find_best_params(X, y, pipeline, params):\n",
    "    grid = GridSearchCV(pipeline, params, scoring='accuracy', cv=5)\n",
    "    grid.fit(X, y)\n",
    "    \n",
    "    print(\"Best score: %s\" % grid.best_score_)\n",
    "    print(\"Best parameters set:\")\n",
    "    \n",
    "    best_parameters = grid.best_estimator_.get_params()\n",
    "    \n",
    "    for param in sorted(params.keys()):\n",
    "        print(\"\\t%s: %s\" % (param, best_parameters[param]))"
   ]
  },
  {
   "cell_type": "code",
   "execution_count": 152,
   "metadata": {
    "collapsed": false
   },
   "outputs": [
    {
     "name": "stdout",
     "output_type": "stream",
     "text": [
      "Best score: 0.707269538102\n",
      "Best parameters set:\n",
      "\tcv_vect__max_df: 0.5\n",
      "\tcv_vect__ngram_range: (1, 2)\n",
      "\tlr__C: 100\n",
      "\tlr__penalty: l2\n"
     ]
    }
   ],
   "source": [
    "pipeline = Pipeline([('cv_vect', CountVectorizer()), ('lr', LogisticRegression(random_state=42))])\n",
    "params = {'cv_vect__max_df': (0.5, 0.75, 1.0), 'cv_vect__ngram_range': ((1, 1), (1, 2)),\n",
    "          'lr__penalty': ['l1', 'l2'], 'lr__C': [0.01, 0.1, 1, 10, 100]}\n",
    "\n",
    "find_best_params(full_X, full_y, pipeline, params)"
   ]
  },
  {
   "cell_type": "code",
   "execution_count": 153,
   "metadata": {
    "collapsed": false
   },
   "outputs": [
    {
     "name": "stdout",
     "output_type": "stream",
     "text": [
      "Best score: 0.709803157279\n",
      "Best parameters set:\n",
      "\tlr__C: 10\n",
      "\tlr__penalty: l2\n",
      "\ttfidf_vect__max_df: 0.5\n",
      "\ttfidf_vect__ngram_range: (1, 2)\n"
     ]
    }
   ],
   "source": [
    "pipeline = Pipeline([('tfidf_vect', TfidfVectorizer()), ('lr', LogisticRegression(random_state=42))])\n",
    "params = {'tfidf_vect__max_df': (0.5, 0.75, 1.0), 'tfidf_vect__ngram_range': ((1, 1), (1, 2)),\n",
    "          'lr__penalty': ['l1', 'l2'], 'lr__C': [0.01, 0.1, 1, 10, 100]}\n",
    "\n",
    "find_best_params(full_X, full_y, pipeline, params)"
   ]
  },
  {
   "cell_type": "markdown",
   "metadata": {},
   "source": [
    "Лучше всего сработала комбинация tfidf с max_df=0.5 и ngram_range=(1, 2) + логрег с C=10, penalty=l2."
   ]
  },
  {
   "cell_type": "markdown",
   "metadata": {},
   "source": [
    "### 8. Обучение лучшего алгоритма ###"
   ]
  },
  {
   "cell_type": "code",
   "execution_count": 169,
   "metadata": {
    "collapsed": false
   },
   "outputs": [
    {
     "name": "stdout",
     "output_type": "stream",
     "text": [
      "             precision    recall  f1-score   support\n",
      "\n",
      "         -1       0.75      0.63      0.69       902\n",
      "          0       0.66      0.82      0.73       972\n",
      "          1       0.43      0.21      0.28       180\n",
      "\n",
      "avg / total       0.68      0.68      0.67      2054\n",
      "\n",
      "Макросредняя F1 мера -  0.567284034567\n",
      "Микросредняя F1 мера -  0.684518013632\n"
     ]
    },
    {
     "data": {
      "image/png": "[encoded data removed]",
      "text/plain": [
       "<matplotlib.figure.Figure at 0x7efc88a469e8>"
      ]
     },
     "metadata": {},
     "output_type": "display_data"
    }
   ],
   "source": [
    "best_vect = TfidfVectorizer(max_df=0.5, ngram_range=(1, 2))\n",
    "best_lr = LogisticRegression(penalty='l2', C=10)\n",
    "\n",
    "train_and_report(X_train_norm, y_train, X_test_norm, y_test, best_lr, best_vect)"
   ]
  },
  {
   "cell_type": "code",
   "execution_count": 170,
   "metadata": {
    "collapsed": false
   },
   "outputs": [
    {
     "name": "stdout",
     "output_type": "stream",
     "text": [
      "Значимые слова для класса -  -1\n",
      "['tele2', 'говно', 'почему', 'крым', 'сук', 'ловить', 'спасибо', 'связь', 'отключить', 'инструкция']\n",
      "\n",
      "Значимые слова для класса -  0\n",
      "['ловить', 'здравствовать', 'инструкция', 'почему', 'говно', 'настройка', 'работать', 'связь', 'телефон', 'весь работать']\n",
      "\n",
      "Значимые слова для класса -  1\n",
      "['любить', 'узбекистан', 'хороший', 'бесплатный', 'заработать', 'защита', 'подарок', 'ура', 'мило', 'приятно']\n",
      "\n"
     ]
    }
   ],
   "source": [
    "print_important(best_vect, best_lr)"
   ]
  },
  {
   "cell_type": "markdown",
   "metadata": {},
   "source": [
    "На всякий случай обучим лучший алгоритм на ненормализованных данных."
   ]
  },
  {
   "cell_type": "code",
   "execution_count": 171,
   "metadata": {
    "collapsed": false
   },
   "outputs": [
    {
     "name": "stdout",
     "output_type": "stream",
     "text": [
      "             precision    recall  f1-score   support\n",
      "\n",
      "         -1       0.70      0.75      0.72       902\n",
      "          0       0.69      0.73      0.71       972\n",
      "          1       0.50      0.15      0.23       180\n",
      "\n",
      "avg / total       0.68      0.69      0.68      2054\n",
      "\n",
      "Макросредняя F1 мера -  0.556130858592\n",
      "Микросредняя F1 мера -  0.690847127556\n"
     ]
    },
    {
     "data": {
      "image/png": "[encoded data removed]",
      "text/plain": [
       "<matplotlib.figure.Figure at 0x7efc89cc9320>"
      ]
     },
     "metadata": {},
     "output_type": "display_data"
    }
   ],
   "source": [
    "train_and_report(X_train, y_train, X_test, y_test, best_lr, best_vect)"
   ]
  },
  {
   "cell_type": "code",
   "execution_count": 176,
   "metadata": {
    "collapsed": false
   },
   "outputs": [
    {
     "name": "stdout",
     "output_type": "stream",
     "text": [
      "Значимые слова для класса -  -1\n",
      "['не', 'нет', 'tele2', 'крыму', 'не работает', 'сука', 'говно', 'связь', 'спасибо', 'опять']\n",
      "\n",
      "Значимые слова для класса -  0\n",
      "['связь', 'для', 'не', 'здравствуйте', 'пожалуйста', 'beeline_rus', 'даже', 'ловит', 'нет', 'номер']\n",
      "\n",
      "Значимые слова для класса -  1\n",
      "['спасибо', 'люблю', 'не', 'lte', '4g', 'узбекистан', 'области', 'теперь', 'beeline_rus', 'заработал']\n",
      "\n"
     ]
    }
   ],
   "source": [
    "print_important(best_vect, best_lr)"
   ]
  },
  {
   "cell_type": "markdown",
   "metadata": {},
   "source": [
    "Качество обучения на нормализованных данных выросло, но при этом не превзошло бэйзлайн. Лучшее качество получается при обучении алгоритма с лучшими параметрами на ненормализованных данных.\n",
    "\n",
    "Нормализация никак не решила проблему мешающего класса 0 и смешивания значимых признаков. Интересно, что в случае лучшего качества классификации выделяются с виду наиболее \"замусоренные\" значимые признаки. "
   ]
  },
  {
   "cell_type": "markdown",
   "metadata": {},
   "source": [
    "Посмотрим на ошибочно классифицированные твиты."
   ]
  },
  {
   "cell_type": "code",
   "execution_count": 191,
   "metadata": {
    "collapsed": false
   },
   "outputs": [
    {
     "name": "stdout",
     "output_type": "stream",
     "text": [
      "RT @vishtorskayaa: Отказано в доступе при установки драйвера модема мегафон #установки #модема\n"
     ]
    }
   ],
   "source": [
    "print(X_test[8])"
   ]
  },
  {
   "cell_type": "markdown",
   "metadata": {},
   "source": [
    "Этот твит относится к классу -1, но был отнесен к классу 0. Это в целом логично, потому что в твите нет ярких негативно окрашенных слов, кроме, может быть, \"отказано."
   ]
  },
  {
   "cell_type": "code",
   "execution_count": 188,
   "metadata": {
    "collapsed": false
   },
   "outputs": [
    {
     "name": "stdout",
     "output_type": "stream",
     "text": [
      "@adagamov @megafonru вы как Сбербанк 2.0, когда центральный офис не знает что делает подчиненный, надо куда то ходить, звонить.\n"
     ]
    }
   ],
   "source": [
    "print(X_test[12])"
   ]
  },
  {
   "cell_type": "markdown",
   "metadata": {},
   "source": [
    "Этот твит относится к классу -1, но был отнесен к классу 1. Тут вообще сложно уцепиться за что-то, лексика достаточно нейтральная. Возможно, улучшить качество классификации в таких случаях помогло бы увеличение ngram_range."
   ]
  },
  {
   "cell_type": "markdown",
   "metadata": {},
   "source": [
    "### 9. Общий вывод и таблица ###\n",
    "\n",
    "Возможно, улучшить качество классификации помогло бы использование другого алгоритма (может быть, SVM или Random Forest) и вычищение значимых признаков, совпадающих у разных классов.\n",
    "\n",
    "|      | С нормализацией | Без нормализации |\n",
    "|------|------|----------|------------------|\n",
    "|   baseline + cv  | 0.684 | 0.659 |\n",
    "|baseline + tfidf | 0.672 | 0.631 |\n",
    "| tuned logreg (tfidf) | 0.685 | 0.691 |"
   ]
  }
 ],
 "metadata": {
  "anaconda-cloud": {},
  "kernelspec": {
   "display_name": "Python [Root]",
   "language": "python",
   "name": "Python [Root]"
  },
  "language_info": {
   "codemirror_mode": {
    "name": "ipython",
    "version": 3
   },
   "file_extension": ".py",
   "mimetype": "text/x-python",
   "name": "python",
   "nbconvert_exporter": "python",
   "pygments_lexer": "ipython3",
   "version": "3.5.2"
  }
 },
 "nbformat": 4,
 "nbformat_minor": 0
}

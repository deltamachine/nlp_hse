{
 "cells": [
  {
   "cell_type": "markdown",
   "metadata": {},
   "source": [
    "Определение языка (language detection)\n",
    "--------------------\n"
   ]
  },
  {
   "cell_type": "code",
   "execution_count": 129,
   "metadata": {
    "collapsed": true
   },
   "outputs": [],
   "source": [
    "import codecs\n",
    "import collections\n",
    "import sys\n",
    "import json\n",
    "import wikipedia\n",
    "import seaborn as sns\n",
    "import matplotlib.pyplot as plt\n",
    "from math import log\n",
    "from itertools import islice, tee\n",
    "from sklearn.metrics import precision_score, recall_score, f1_score, classification_report, confusion_matrix\n",
    "\n",
    "%matplotlib inline"
   ]
  },
  {
   "cell_type": "markdown",
   "metadata": {},
   "source": [
    "### Первый метод: частотные слова"
   ]
  },
  {
   "cell_type": "markdown",
   "metadata": {},
   "source": [
    "#### Скачаем немного википедии для тестов"
   ]
  },
  {
   "cell_type": "code",
   "execution_count": 1,
   "metadata": {
    "collapsed": false
   },
   "outputs": [],
   "source": [
    "def get_texts_for_lang(lang, n=10): # функция для скачивания статей из википедии\n",
    "    wikipedia.set_lang(lang)\n",
    "    wiki_content = []\n",
    "    pages = wikipedia.random(n)\n",
    "    \n",
    "    for page_name in pages:\n",
    "        try:\n",
    "            page = wikipedia.page(page_name)\n",
    "        except wikipedia.exceptions.WikipediaException:\n",
    "            print('Skipping page {}'.format(page_name))\n",
    "            continue\n",
    "\n",
    "        wiki_content.append('{}\\n{}'.format(page.title, page.content.replace('==', '')))\n",
    "\n",
    "    return wiki_content"
   ]
  },
  {
   "cell_type": "markdown",
   "metadata": {},
   "source": [
    "Сначала скачаем тексты, на которых будем обучаться."
   ]
  },
  {
   "cell_type": "code",
   "execution_count": 2,
   "metadata": {
    "collapsed": false
   },
   "outputs": [
    {
     "name": "stdout",
     "output_type": "stream",
     "text": [
      "kk 100\n"
     ]
    },
    {
     "name": "stderr",
     "output_type": "stream",
     "text": [
      "/home/anna/anaconda3/lib/python3.5/site-packages/bs4/__init__.py:181: UserWarning: No parser was explicitly specified, so I'm using the best available HTML parser for this system (\"lxml\"). This usually isn't a problem, but if you run this code on another system, or in a different virtual environment, it may use a different parser and behave differently.\n",
      "\n",
      "The code that caused this warning is on line 184 of the file /home/anna/anaconda3/lib/python3.5/runpy.py. To get rid of this warning, change code that looks like this:\n",
      "\n",
      " BeautifulSoup([your markup])\n",
      "\n",
      "to this:\n",
      "\n",
      " BeautifulSoup([your markup], \"lxml\")\n",
      "\n",
      "  markup_type=markup_type))\n"
     ]
    },
    {
     "name": "stdout",
     "output_type": "stream",
     "text": [
      "Skipping page Мозель\n",
      "Skipping page Пеньяранда\n",
      "Skipping page Бутівка\n",
      "Skipping page 1222 (значення)\n",
      "Skipping page Леончук\n",
      "Skipping page Сундсвалль (значення)\n",
      "Skipping page Крамськой\n",
      "Skipping page Ґо\n",
      "Skipping page Інтродукція (значення)\n",
      "Skipping page Фульда (значення)\n",
      "Skipping page Фей\n",
      "Skipping page Марко Янкович\n",
      "Skipping page Галтьє\n",
      "uk 87\n",
      "Skipping page Дунай (значэнні)\n",
      "Skipping page Загорцы\n",
      "Skipping page Любанскі бой\n",
      "Skipping page Касцёл Святога Іосіфа\n",
      "Skipping page Джэлам (значэнні)\n",
      "Skipping page Свята-Параскева-Пятніцкая царква\n",
      "Skipping page Зялёны Гай\n",
      "be 93\n",
      "Skipping page Ourlet\n",
      "fr 99\n"
     ]
    }
   ],
   "source": [
    "wiki_texts = {}\n",
    "\n",
    "for lang in ('kk', 'uk', 'be', 'fr'):\n",
    "    wiki_texts[lang] = get_texts_for_lang(lang, 100)\n",
    "    \n",
    "    print(lang, len(wiki_texts[lang]))"
   ]
  },
  {
   "cell_type": "markdown",
   "metadata": {},
   "source": [
    "Теперь - тексты, на которых будем тестировать."
   ]
  },
  {
   "cell_type": "code",
   "execution_count": null,
   "metadata": {
    "collapsed": true
   },
   "outputs": [],
   "source": [
    "test_wiki_texts = {}\n",
    "\n",
    "for lang in ('kk', 'uk', 'be', 'fr'):\n",
    "    test_wiki_texts[lang] = get_texts_for_lang(lang, 100)\n",
    "    \n",
    "    print(lang, len(test_wiki_texts[lang]))"
   ]
  },
  {
   "cell_type": "markdown",
   "metadata": {},
   "source": [
    "#### Считаем частотный список примерно так:"
   ]
  },
  {
   "cell_type": "code",
   "execution_count": 132,
   "metadata": {
    "collapsed": false
   },
   "outputs": [],
   "source": [
    "def tokenize(text):\n",
    "    return text.split(' ')\n",
    "\n",
    "def find_freqs(lang):\n",
    "    freqs = collections.defaultdict(lambda: 0)\n",
    "    probs = collections.defaultdict(lambda: 0)\n",
    "    total_amount = 0\n",
    "\n",
    "    corpus = wiki_texts[lang]\n",
    "    \n",
    "    for article in corpus:\n",
    "        for word in tokenize(article.replace('\\n', '').lower()):\n",
    "            freqs[word] += 1\n",
    "            total_amount += 1\n",
    "    \n",
    "    for key, value in freqs.items():\n",
    "        probs[key] = log(value / total_amount)\n",
    "    \n",
    "    return probs"
   ]
  },
  {
   "cell_type": "markdown",
   "metadata": {},
   "source": [
    "Напишем функцию для удаления повторяющихся слов."
   ]
  },
  {
   "cell_type": "code",
   "execution_count": 133,
   "metadata": {
    "collapsed": false
   },
   "outputs": [],
   "source": [
    "kk_probs = find_freqs('kk')\n",
    "uk_probs = find_freqs('uk')\n",
    "be_probs = find_freqs('be')\n",
    "fr_probs = find_freqs('fr')\n",
    "\n",
    "def remove_duplicates(kk_probs, uk_probs, be_probs, fr_probs):\n",
    "    all_probs = [kk_probs, uk_probs, be_probs, fr_probs]\n",
    "\n",
    "    for i in range(len(all_probs)):\n",
    "        for j in range(i + 1, len(all_probs)):\n",
    "            a = set(all_probs[i].keys())\n",
    "            b = set(all_probs[j].keys())\n",
    "\n",
    "            intersection = a & b\n",
    "\n",
    "            for key in intersection:\n",
    "                del all_probs[i][key]\n",
    "                del all_probs[j][key]\n",
    "\n",
    "    langs = {'kk': kk_probs, 'uk': uk_probs, 'be': be_probs, 'fr': fr_probs}\n",
    "    \n",
    "    return langs"
   ]
  },
  {
   "cell_type": "code",
   "execution_count": 134,
   "metadata": {
    "collapsed": true
   },
   "outputs": [],
   "source": [
    "count_langs = remove_duplicates(kk_probs, uk_probs, be_probs, fr_probs)"
   ]
  },
  {
   "cell_type": "markdown",
   "metadata": {},
   "source": [
    "Сохраним \"тренировочный\" словарь:"
   ]
  },
  {
   "cell_type": "code",
   "execution_count": 135,
   "metadata": {
    "collapsed": false
   },
   "outputs": [],
   "source": [
    "json.dump(count_langs, open('count_method.json', 'w', encoding='utf-8'))"
   ]
  },
  {
   "cell_type": "code",
   "execution_count": 94,
   "metadata": {
    "collapsed": true
   },
   "outputs": [],
   "source": [
    "def сounting_detection(text, langs):\n",
    "    tokens = tokenize(text)\n",
    "    counters = {}\n",
    "    \n",
    "    for lang, probs in langs.items():\n",
    "        i = 0\n",
    "        \n",
    "        for token in tokens:\n",
    "            if token in probs.keys():\n",
    "                i +=1\n",
    "        \n",
    "        counters[lang] = i\n",
    "    \n",
    "    counters = sorted(counters, key=lambda n: counters[n], reverse=True)\n",
    "\n",
    "    return counters[0]"
   ]
  },
  {
   "cell_type": "code",
   "execution_count": 99,
   "metadata": {
    "collapsed": false
   },
   "outputs": [],
   "source": [
    "def estimate_quality(func, test_wiki_texts):  \n",
    "    test_labels = []\n",
    "    pred_labels = []\n",
    "\n",
    "    for lang, texts in test_wiki_texts.items():\n",
    "        test_labels += [lang] * len(texts)\n",
    "        #print(test_labels) \n",
    "\n",
    "        for text in texts:\n",
    "            prediction = func(text, langs)\n",
    "            pred_labels.append(prediction)   \n",
    "\n",
    "    print(classification_report(test_labels, pred_labels))\n",
    "    print(\"Макросредняя F1 мера - \", f1_score(test_labels, pred_labels, average=\"macro\"))\n",
    "    print(\"Микросредняя F1 мера - \", f1_score(test_labels, pred_labels, average=\"micro\"))\n",
    "\n",
    "    fig, ax = plt.subplots(figsize=(10,5))\n",
    "    sns.heatmap(data=confusion_matrix(test_labels, pred_labels), annot=True, \n",
    "                fmt=\"d\", xticklabels=langs.keys(), yticklabels=langs.keys(), ax=ax)\n",
    "    plt.title(\"Confusion matrix\")\n",
    "    plt.show()"
   ]
  },
  {
   "cell_type": "code",
   "execution_count": 101,
   "metadata": {
    "collapsed": false
   },
   "outputs": [
    {
     "name": "stdout",
     "output_type": "stream",
     "text": [
      "             precision    recall  f1-score   support\n",
      "\n",
      "         be       1.00      0.99      0.99        94\n",
      "         fr       0.99      1.00      0.99        92\n",
      "         kk       1.00      1.00      1.00       100\n",
      "         uk       1.00      1.00      1.00        96\n",
      "\n",
      "avg / total       1.00      1.00      1.00       382\n",
      "\n",
      "Макросредняя F1 мера -  0.997311750253\n",
      "Микросредняя F1 мера -  0.997382198953\n"
     ]
    },
    {
     "data": {
      "image/png": "[encoded data removed]",
      "text/plain": [
       "<matplotlib.figure.Figure at 0x7f7375db2518>"
      ]
     },
     "metadata": {},
     "output_type": "display_data"
    }
   ],
   "source": [
    "estimate_quality(сounting_detection, test_wiki_texts)"
   ]
  },
  {
   "cell_type": "markdown",
   "metadata": {},
   "source": [
    "Как видно, качество распознавания на тестовых данных у этого метода почти равно 100%."
   ]
  },
  {
   "cell_type": "markdown",
   "metadata": {},
   "source": [
    "### Второй метод: частотные символьные n-граммы"
   ]
  },
  {
   "cell_type": "markdown",
   "metadata": {},
   "source": [
    "Создадим функцию, которая преобразовывает строку в массив n-грамм заданной длины."
   ]
  },
  {
   "cell_type": "code",
   "execution_count": 136,
   "metadata": {
    "collapsed": false
   },
   "outputs": [],
   "source": [
    "def make_ngrams(text):\n",
    "    N = 3 # задаем длину n-граммы\n",
    "    ngrams = zip(*(islice(seq, index, None) for index, seq in enumerate(tee(text, N))))\n",
    "    ngrams = [''.join(x) for x in ngrams]\n",
    "    return ngrams"
   ]
  },
  {
   "cell_type": "markdown",
   "metadata": {},
   "source": [
    "Теперь создадим частотные словари n-грамм аналогично первому методу."
   ]
  },
  {
   "cell_type": "code",
   "execution_count": 137,
   "metadata": {
    "collapsed": false
   },
   "outputs": [],
   "source": [
    "def find_ngrams(lang):\n",
    "    freqs = collections.defaultdict(lambda: 0)\n",
    "    \n",
    "    corpus = wiki_texts[lang]\n",
    "    \n",
    "    for article in corpus:\n",
    "        for ngram in make_ngrams(article.replace('\\n', '').lower()):\n",
    "            freqs[ngram] += 1\n",
    "\n",
    "    return freqs"
   ]
  },
  {
   "cell_type": "markdown",
   "metadata": {},
   "source": [
    "Удалим дубликаты."
   ]
  },
  {
   "cell_type": "code",
   "execution_count": 138,
   "metadata": {
    "collapsed": false
   },
   "outputs": [],
   "source": [
    "kk_ngrams = find_ngrams('kk')\n",
    "uk_ngrams = find_ngrams('uk')\n",
    "be_ngrams = find_ngrams('be')\n",
    "fr_ngrams = find_ngrams('fr')\n",
    "\n",
    "ngrams_langs = remove_duplicates(kk_ngrams, uk_ngrams, be_ngrams, fr_ngrams)"
   ]
  },
  {
   "cell_type": "markdown",
   "metadata": {},
   "source": [
    "Сохраним тренировочный словарь:"
   ]
  },
  {
   "cell_type": "code",
   "execution_count": 139,
   "metadata": {
    "collapsed": true
   },
   "outputs": [],
   "source": [
    "json.dump(ngrams_langs, open('ngrams_method.json', 'w', encoding='utf-8'))"
   ]
  },
  {
   "cell_type": "code",
   "execution_count": 123,
   "metadata": {
    "collapsed": true
   },
   "outputs": [],
   "source": [
    "def ngrams_detection(text, langs):\n",
    "    ngrams = make_ngrams(text)\n",
    "    counters = {}\n",
    "    \n",
    "    for lang, probs in langs.items():\n",
    "        i = 0\n",
    "        \n",
    "        for ng in ngrams:\n",
    "            if ng in probs.keys():\n",
    "                i +=1\n",
    "        \n",
    "        counters[lang] = i\n",
    "    \n",
    "    counters = sorted(counters, key=lambda n: counters[n], reverse=True)\n",
    "\n",
    "    return counters[0]"
   ]
  },
  {
   "cell_type": "code",
   "execution_count": 124,
   "metadata": {
    "collapsed": false
   },
   "outputs": [
    {
     "name": "stderr",
     "output_type": "stream",
     "text": [
      "/home/anna/anaconda3/lib/python3.5/site-packages/sklearn/metrics/classification.py:1135: UndefinedMetricWarning: Precision and F-score are ill-defined and being set to 0.0 in labels with no predicted samples.\n",
      "  'precision', 'predicted', average, warn_for)\n",
      "/home/anna/anaconda3/lib/python3.5/site-packages/sklearn/metrics/classification.py:1135: UndefinedMetricWarning: F-score is ill-defined and being set to 0.0 in labels with no predicted samples.\n",
      "  'precision', 'predicted', average, warn_for)\n"
     ]
    },
    {
     "name": "stdout",
     "output_type": "stream",
     "text": [
      "             precision    recall  f1-score   support\n",
      "\n",
      "         be       0.33      1.00      0.49        94\n",
      "         fr       0.99      1.00      0.99        92\n",
      "         kk       1.00      0.01      0.02       100\n",
      "         uk       0.00      0.00      0.00        96\n",
      "\n",
      "avg / total       0.58      0.49      0.37       382\n",
      "\n",
      "Макросредняя F1 мера -  0.376635792913\n",
      "Микросредняя F1 мера -  0.489528795812\n"
     ]
    },
    {
     "data": {
      "image/png": "[encoded data removed]",
      "text/plain": [
       "<matplotlib.figure.Figure at 0x7f734dddd7f0>"
      ]
     },
     "metadata": {},
     "output_type": "display_data"
    }
   ],
   "source": [
    "estimate_quality(ngrams_detection, test_wiki_texts)"
   ]
  },
  {
   "cell_type": "markdown",
   "metadata": {},
   "source": [
    "Интересно, но этот метод дает гораздо худшие результаты. Как показала проверка, этому методу противопоказано удаление дубликатов: без него он дает точность в 100% на тестовой выборке."
   ]
  }
 ],
 "metadata": {
  "anaconda-cloud": {},
  "kernelspec": {
   "display_name": "Python [Root]",
   "language": "python",
   "name": "Python [Root]"
  },
  "language_info": {
   "codemirror_mode": {
    "name": "ipython",
    "version": 3
   },
   "file_extension": ".py",
   "mimetype": "text/x-python",
   "name": "python",
   "nbconvert_exporter": "python",
   "pygments_lexer": "ipython3",
   "version": "3.5.2"
  }
 },
 "nbformat": 4,
 "nbformat_minor": 0
}

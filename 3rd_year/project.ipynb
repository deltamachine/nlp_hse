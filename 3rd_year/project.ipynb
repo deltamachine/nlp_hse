{
 "cells": [
  {
   "cell_type": "code",
   "execution_count": 1,
   "metadata": {
    "collapsed": true
   },
   "outputs": [],
   "source": [
    "import numpy as np\n",
    "import pandas as pd"
   ]
  },
  {
   "cell_type": "markdown",
   "metadata": {},
   "source": [
    "### 1. Загрузка и подготовка данных ###\n",
    "\n",
    "Загрузим оба сета и посмотрим на признаки."
   ]
  },
  {
   "cell_type": "code",
   "execution_count": 2,
   "metadata": {
    "collapsed": false
   },
   "outputs": [
    {
     "data": {
      "text/html": [
       "<div>\n",
       "<table border=\"1\" class=\"dataframe\">\n",
       "  <thead>\n",
       "    <tr style=\"text-align: right;\">\n",
       "      <th></th>\n",
       "      <th>item_id</th>\n",
       "      <th>user_id</th>\n",
       "      <th>region</th>\n",
       "      <th>city</th>\n",
       "      <th>parent_category_name</th>\n",
       "      <th>category_name</th>\n",
       "      <th>param_1</th>\n",
       "      <th>param_2</th>\n",
       "      <th>param_3</th>\n",
       "      <th>title</th>\n",
       "      <th>description</th>\n",
       "      <th>price</th>\n",
       "      <th>item_seq_number</th>\n",
       "      <th>activation_date</th>\n",
       "      <th>user_type</th>\n",
       "      <th>image</th>\n",
       "      <th>image_top_1</th>\n",
       "      <th>deal_probability</th>\n",
       "    </tr>\n",
       "  </thead>\n",
       "  <tbody>\n",
       "    <tr>\n",
       "      <th>0</th>\n",
       "      <td>b912c3c6a6ad</td>\n",
       "      <td>e00f8ff2eaf9</td>\n",
       "      <td>Свердловская область</td>\n",
       "      <td>Екатеринбург</td>\n",
       "      <td>Личные вещи</td>\n",
       "      <td>Товары для детей и игрушки</td>\n",
       "      <td>Постельные принадлежности</td>\n",
       "      <td>NaN</td>\n",
       "      <td>NaN</td>\n",
       "      <td>Кокоби(кокон для сна)</td>\n",
       "      <td>Кокон для сна малыша,пользовались меньше месяц...</td>\n",
       "      <td>400.0</td>\n",
       "      <td>2</td>\n",
       "      <td>2017-03-28</td>\n",
       "      <td>Private</td>\n",
       "      <td>d10c7e016e03247a3bf2d13348fe959fe6f436c1caf64c...</td>\n",
       "      <td>1008.0</td>\n",
       "      <td>0.12789</td>\n",
       "    </tr>\n",
       "    <tr>\n",
       "      <th>1</th>\n",
       "      <td>2dac0150717d</td>\n",
       "      <td>39aeb48f0017</td>\n",
       "      <td>Самарская область</td>\n",
       "      <td>Самара</td>\n",
       "      <td>Для дома и дачи</td>\n",
       "      <td>Мебель и интерьер</td>\n",
       "      <td>Другое</td>\n",
       "      <td>NaN</td>\n",
       "      <td>NaN</td>\n",
       "      <td>Стойка для Одежды</td>\n",
       "      <td>Стойка для одежды, под вешалки. С бутика.</td>\n",
       "      <td>3000.0</td>\n",
       "      <td>19</td>\n",
       "      <td>2017-03-26</td>\n",
       "      <td>Private</td>\n",
       "      <td>79c9392cc51a9c81c6eb91eceb8e552171db39d7142700...</td>\n",
       "      <td>692.0</td>\n",
       "      <td>0.00000</td>\n",
       "    </tr>\n",
       "    <tr>\n",
       "      <th>2</th>\n",
       "      <td>ba83aefab5dc</td>\n",
       "      <td>91e2f88dd6e3</td>\n",
       "      <td>Ростовская область</td>\n",
       "      <td>Ростов-на-Дону</td>\n",
       "      <td>Бытовая электроника</td>\n",
       "      <td>Аудио и видео</td>\n",
       "      <td>Видео, DVD и Blu-ray плееры</td>\n",
       "      <td>NaN</td>\n",
       "      <td>NaN</td>\n",
       "      <td>Philips bluray</td>\n",
       "      <td>В хорошем состоянии, домашний кинотеатр с blu ...</td>\n",
       "      <td>4000.0</td>\n",
       "      <td>9</td>\n",
       "      <td>2017-03-20</td>\n",
       "      <td>Private</td>\n",
       "      <td>b7f250ee3f39e1fedd77c141f273703f4a9be59db4b48a...</td>\n",
       "      <td>3032.0</td>\n",
       "      <td>0.43177</td>\n",
       "    </tr>\n",
       "    <tr>\n",
       "      <th>3</th>\n",
       "      <td>02996f1dd2ea</td>\n",
       "      <td>bf5cccea572d</td>\n",
       "      <td>Татарстан</td>\n",
       "      <td>Набережные Челны</td>\n",
       "      <td>Личные вещи</td>\n",
       "      <td>Товары для детей и игрушки</td>\n",
       "      <td>Автомобильные кресла</td>\n",
       "      <td>NaN</td>\n",
       "      <td>NaN</td>\n",
       "      <td>Автокресло</td>\n",
       "      <td>Продам кресло от0-25кг</td>\n",
       "      <td>2200.0</td>\n",
       "      <td>286</td>\n",
       "      <td>2017-03-25</td>\n",
       "      <td>Company</td>\n",
       "      <td>e6ef97e0725637ea84e3d203e82dadb43ed3cc0a1c8413...</td>\n",
       "      <td>796.0</td>\n",
       "      <td>0.80323</td>\n",
       "    </tr>\n",
       "    <tr>\n",
       "      <th>4</th>\n",
       "      <td>7c90be56d2ab</td>\n",
       "      <td>ef50846afc0b</td>\n",
       "      <td>Волгоградская область</td>\n",
       "      <td>Волгоград</td>\n",
       "      <td>Транспорт</td>\n",
       "      <td>Автомобили</td>\n",
       "      <td>С пробегом</td>\n",
       "      <td>ВАЗ (LADA)</td>\n",
       "      <td>2110</td>\n",
       "      <td>ВАЗ 2110, 2003</td>\n",
       "      <td>Все вопросы по телефону.</td>\n",
       "      <td>40000.0</td>\n",
       "      <td>3</td>\n",
       "      <td>2017-03-16</td>\n",
       "      <td>Private</td>\n",
       "      <td>54a687a3a0fc1d68aed99bdaaf551c5c70b761b16fd0a2...</td>\n",
       "      <td>2264.0</td>\n",
       "      <td>0.20797</td>\n",
       "    </tr>\n",
       "  </tbody>\n",
       "</table>\n",
       "</div>"
      ],
      "text/plain": [
       "        item_id       user_id                 region              city  \\\n",
       "0  b912c3c6a6ad  e00f8ff2eaf9   Свердловская область      Екатеринбург   \n",
       "1  2dac0150717d  39aeb48f0017      Самарская область            Самара   \n",
       "2  ba83aefab5dc  91e2f88dd6e3     Ростовская область    Ростов-на-Дону   \n",
       "3  02996f1dd2ea  bf5cccea572d              Татарстан  Набережные Челны   \n",
       "4  7c90be56d2ab  ef50846afc0b  Волгоградская область         Волгоград   \n",
       "\n",
       "  parent_category_name               category_name  \\\n",
       "0          Личные вещи  Товары для детей и игрушки   \n",
       "1      Для дома и дачи           Мебель и интерьер   \n",
       "2  Бытовая электроника               Аудио и видео   \n",
       "3          Личные вещи  Товары для детей и игрушки   \n",
       "4            Транспорт                  Автомобили   \n",
       "\n",
       "                       param_1     param_2 param_3                  title  \\\n",
       "0    Постельные принадлежности         NaN     NaN  Кокоби(кокон для сна)   \n",
       "1                       Другое         NaN     NaN      Стойка для Одежды   \n",
       "2  Видео, DVD и Blu-ray плееры         NaN     NaN         Philips bluray   \n",
       "3         Автомобильные кресла         NaN     NaN             Автокресло   \n",
       "4                   С пробегом  ВАЗ (LADA)    2110         ВАЗ 2110, 2003   \n",
       "\n",
       "                                         description    price  \\\n",
       "0  Кокон для сна малыша,пользовались меньше месяц...    400.0   \n",
       "1          Стойка для одежды, под вешалки. С бутика.   3000.0   \n",
       "2  В хорошем состоянии, домашний кинотеатр с blu ...   4000.0   \n",
       "3                             Продам кресло от0-25кг   2200.0   \n",
       "4                           Все вопросы по телефону.  40000.0   \n",
       "\n",
       "   item_seq_number activation_date user_type  \\\n",
       "0                2      2017-03-28   Private   \n",
       "1               19      2017-03-26   Private   \n",
       "2                9      2017-03-20   Private   \n",
       "3              286      2017-03-25   Company   \n",
       "4                3      2017-03-16   Private   \n",
       "\n",
       "                                               image  image_top_1  \\\n",
       "0  d10c7e016e03247a3bf2d13348fe959fe6f436c1caf64c...       1008.0   \n",
       "1  79c9392cc51a9c81c6eb91eceb8e552171db39d7142700...        692.0   \n",
       "2  b7f250ee3f39e1fedd77c141f273703f4a9be59db4b48a...       3032.0   \n",
       "3  e6ef97e0725637ea84e3d203e82dadb43ed3cc0a1c8413...        796.0   \n",
       "4  54a687a3a0fc1d68aed99bdaaf551c5c70b761b16fd0a2...       2264.0   \n",
       "\n",
       "   deal_probability  \n",
       "0           0.12789  \n",
       "1           0.00000  \n",
       "2           0.43177  \n",
       "3           0.80323  \n",
       "4           0.20797  "
      ]
     },
     "execution_count": 2,
     "metadata": {},
     "output_type": "execute_result"
    }
   ],
   "source": [
    "train_df = pd.read_csv('train.csv')\n",
    "train_df.head()"
   ]
  },
  {
   "cell_type": "code",
   "execution_count": 3,
   "metadata": {
    "collapsed": false
   },
   "outputs": [
    {
     "data": {
      "text/html": [
       "<div>\n",
       "<table border=\"1\" class=\"dataframe\">\n",
       "  <thead>\n",
       "    <tr style=\"text-align: right;\">\n",
       "      <th></th>\n",
       "      <th>item_id</th>\n",
       "      <th>user_id</th>\n",
       "      <th>region</th>\n",
       "      <th>city</th>\n",
       "      <th>parent_category_name</th>\n",
       "      <th>category_name</th>\n",
       "      <th>param_1</th>\n",
       "      <th>param_2</th>\n",
       "      <th>param_3</th>\n",
       "      <th>title</th>\n",
       "      <th>description</th>\n",
       "      <th>price</th>\n",
       "      <th>item_seq_number</th>\n",
       "      <th>activation_date</th>\n",
       "      <th>user_type</th>\n",
       "      <th>image</th>\n",
       "      <th>image_top_1</th>\n",
       "    </tr>\n",
       "  </thead>\n",
       "  <tbody>\n",
       "    <tr>\n",
       "      <th>0</th>\n",
       "      <td>6544e41a8817</td>\n",
       "      <td>dbe73ad6e4b5</td>\n",
       "      <td>Волгоградская область</td>\n",
       "      <td>Волгоград</td>\n",
       "      <td>Личные вещи</td>\n",
       "      <td>Детская одежда и обувь</td>\n",
       "      <td>Для мальчиков</td>\n",
       "      <td>Обувь</td>\n",
       "      <td>25</td>\n",
       "      <td>Отдам бесплатно</td>\n",
       "      <td>На ангарском</td>\n",
       "      <td>NaN</td>\n",
       "      <td>66</td>\n",
       "      <td>2017-04-18</td>\n",
       "      <td>Private</td>\n",
       "      <td>a8b57acb5ab304f9c331ac7a074219aed4d349d8aef386...</td>\n",
       "      <td>2020.0</td>\n",
       "    </tr>\n",
       "    <tr>\n",
       "      <th>1</th>\n",
       "      <td>65b9484d670f</td>\n",
       "      <td>2e11806abe57</td>\n",
       "      <td>Свердловская область</td>\n",
       "      <td>Нижняя Тура</td>\n",
       "      <td>Хобби и отдых</td>\n",
       "      <td>Велосипеды</td>\n",
       "      <td>Дорожные</td>\n",
       "      <td>NaN</td>\n",
       "      <td>NaN</td>\n",
       "      <td>Продам велосипед</td>\n",
       "      <td>Продам велосипед KAMA  F200,в нормальном состо...</td>\n",
       "      <td>3000.0</td>\n",
       "      <td>4</td>\n",
       "      <td>2017-04-16</td>\n",
       "      <td>Private</td>\n",
       "      <td>NaN</td>\n",
       "      <td>NaN</td>\n",
       "    </tr>\n",
       "    <tr>\n",
       "      <th>2</th>\n",
       "      <td>8bab230b2ecd</td>\n",
       "      <td>0b850bbebb10</td>\n",
       "      <td>Новосибирская область</td>\n",
       "      <td>Бердск</td>\n",
       "      <td>Бытовая электроника</td>\n",
       "      <td>Аудио и видео</td>\n",
       "      <td>Телевизоры и проекторы</td>\n",
       "      <td>NaN</td>\n",
       "      <td>NaN</td>\n",
       "      <td>BBK</td>\n",
       "      <td>Продам новый телевизор BBK  32 диагональ смарт...</td>\n",
       "      <td>15000.0</td>\n",
       "      <td>15</td>\n",
       "      <td>2017-04-17</td>\n",
       "      <td>Private</td>\n",
       "      <td>8c361112cb049745ef2d1b0ae73594fc5c107286b0c942...</td>\n",
       "      <td>2960.0</td>\n",
       "    </tr>\n",
       "    <tr>\n",
       "      <th>3</th>\n",
       "      <td>8e348601fefc</td>\n",
       "      <td>5f1d5c3ce0da</td>\n",
       "      <td>Саратовская область</td>\n",
       "      <td>Саратов</td>\n",
       "      <td>Для дома и дачи</td>\n",
       "      <td>Бытовая техника</td>\n",
       "      <td>Для кухни</td>\n",
       "      <td>Вытяжки</td>\n",
       "      <td>NaN</td>\n",
       "      <td>Вытяжка Jetair 60</td>\n",
       "      <td>Продам новую вытяжку в упаковке,с документами....</td>\n",
       "      <td>4500.0</td>\n",
       "      <td>70</td>\n",
       "      <td>2017-04-17</td>\n",
       "      <td>Private</td>\n",
       "      <td>NaN</td>\n",
       "      <td>NaN</td>\n",
       "    </tr>\n",
       "    <tr>\n",
       "      <th>4</th>\n",
       "      <td>8bd2fe400b89</td>\n",
       "      <td>23e2d97bfc7f</td>\n",
       "      <td>Оренбургская область</td>\n",
       "      <td>Бузулук</td>\n",
       "      <td>Личные вещи</td>\n",
       "      <td>Товары для детей и игрушки</td>\n",
       "      <td>Детские коляски</td>\n",
       "      <td>NaN</td>\n",
       "      <td>NaN</td>\n",
       "      <td>Коляска зима-лето</td>\n",
       "      <td>Продам отличную коляску. б/у 1 год. все вопрос...</td>\n",
       "      <td>4900.0</td>\n",
       "      <td>15</td>\n",
       "      <td>2017-04-15</td>\n",
       "      <td>Private</td>\n",
       "      <td>bc3cf6deef10840fc302e38eb48fa7748aa1e28d534f8f...</td>\n",
       "      <td>1002.0</td>\n",
       "    </tr>\n",
       "  </tbody>\n",
       "</table>\n",
       "</div>"
      ],
      "text/plain": [
       "        item_id       user_id                 region         city  \\\n",
       "0  6544e41a8817  dbe73ad6e4b5  Волгоградская область    Волгоград   \n",
       "1  65b9484d670f  2e11806abe57   Свердловская область  Нижняя Тура   \n",
       "2  8bab230b2ecd  0b850bbebb10  Новосибирская область       Бердск   \n",
       "3  8e348601fefc  5f1d5c3ce0da    Саратовская область      Саратов   \n",
       "4  8bd2fe400b89  23e2d97bfc7f   Оренбургская область      Бузулук   \n",
       "\n",
       "  parent_category_name               category_name                 param_1  \\\n",
       "0          Личные вещи      Детская одежда и обувь           Для мальчиков   \n",
       "1        Хобби и отдых                  Велосипеды                Дорожные   \n",
       "2  Бытовая электроника               Аудио и видео  Телевизоры и проекторы   \n",
       "3      Для дома и дачи             Бытовая техника               Для кухни   \n",
       "4          Личные вещи  Товары для детей и игрушки         Детские коляски   \n",
       "\n",
       "   param_2 param_3              title  \\\n",
       "0    Обувь      25    Отдам бесплатно   \n",
       "1      NaN     NaN   Продам велосипед   \n",
       "2      NaN     NaN                BBK   \n",
       "3  Вытяжки     NaN  Вытяжка Jetair 60   \n",
       "4      NaN     NaN  Коляска зима-лето   \n",
       "\n",
       "                                         description    price  \\\n",
       "0                                       На ангарском      NaN   \n",
       "1  Продам велосипед KAMA  F200,в нормальном состо...   3000.0   \n",
       "2  Продам новый телевизор BBK  32 диагональ смарт...  15000.0   \n",
       "3  Продам новую вытяжку в упаковке,с документами....   4500.0   \n",
       "4  Продам отличную коляску. б/у 1 год. все вопрос...   4900.0   \n",
       "\n",
       "   item_seq_number activation_date user_type  \\\n",
       "0               66      2017-04-18   Private   \n",
       "1                4      2017-04-16   Private   \n",
       "2               15      2017-04-17   Private   \n",
       "3               70      2017-04-17   Private   \n",
       "4               15      2017-04-15   Private   \n",
       "\n",
       "                                               image  image_top_1  \n",
       "0  a8b57acb5ab304f9c331ac7a074219aed4d349d8aef386...       2020.0  \n",
       "1                                                NaN          NaN  \n",
       "2  8c361112cb049745ef2d1b0ae73594fc5c107286b0c942...       2960.0  \n",
       "3                                                NaN          NaN  \n",
       "4  bc3cf6deef10840fc302e38eb48fa7748aa1e28d534f8f...       1002.0  "
      ]
     },
     "execution_count": 3,
     "metadata": {},
     "output_type": "execute_result"
    }
   ],
   "source": [
    "test_df = pd.read_csv('test.csv')\n",
    "test_df.head()"
   ]
  },
  {
   "cell_type": "code",
   "execution_count": 4,
   "metadata": {
    "collapsed": false
   },
   "outputs": [
    {
     "name": "stdout",
     "output_type": "stream",
     "text": [
      "Количество объектов в тренировочной выборке:  1503424\n",
      "Количество объектов в тестовой выборке:  508438\n"
     ]
    }
   ],
   "source": [
    "print('Количество объектов в тренировочной выборке: ', train_df.shape[0])\n",
    "print('Количество объектов в тестовой выборке: ', test_df.shape[0])"
   ]
  },
  {
   "cell_type": "markdown",
   "metadata": {},
   "source": [
    "Попробуем поработать с одним признаком - самым информативным - текстовым описанием товара."
   ]
  },
  {
   "cell_type": "code",
   "execution_count": 5,
   "metadata": {
    "collapsed": false
   },
   "outputs": [],
   "source": [
    "X_train = train_df['description']\n",
    "y_train = train_df['deal_probability']\n",
    "X_test_final = test_df['description']"
   ]
  },
  {
   "cell_type": "markdown",
   "metadata": {},
   "source": [
    "Проверим, есть ли наны, и если да, заполним их пробелами."
   ]
  },
  {
   "cell_type": "code",
   "execution_count": 6,
   "metadata": {
    "collapsed": false
   },
   "outputs": [
    {
     "data": {
      "text/plain": [
       "True"
      ]
     },
     "execution_count": 6,
     "metadata": {},
     "output_type": "execute_result"
    }
   ],
   "source": [
    "True in X_train.isnull()"
   ]
  },
  {
   "cell_type": "code",
   "execution_count": 7,
   "metadata": {
    "collapsed": false
   },
   "outputs": [],
   "source": [
    "X_train = X_train.fillna(' ')\n",
    "X_test_final = X_test_final.fillna(' ')"
   ]
  },
  {
   "cell_type": "markdown",
   "metadata": {},
   "source": [
    "Разделим исходную тренировочную выборку на трэйн и тест в пропорции 70% - 30%."
   ]
  },
  {
   "cell_type": "code",
   "execution_count": 8,
   "metadata": {
    "collapsed": true
   },
   "outputs": [],
   "source": [
    "from sklearn.model_selection import train_test_split\n",
    "\n",
    "X_train, X_test, y_train, y_test = train_test_split(X_train, y_train, test_size=0.3, random_state=42)"
   ]
  },
  {
   "cell_type": "markdown",
   "metadata": {},
   "source": [
    "### 2. Baseline: LinearRegression.\n",
    "\n",
    "Сделаем первый базовый сабмит.\n",
    "\n",
    "Преобразуем текст в вектора с помощью TfidfVectorizer (практика показывает, что обычно он работает лучше, чем CountVectorizer). Будем использовать сырой текст. Нормализацию в этом проекте я делать, к сожалению, не буду: она занимает очень много времени и я уже не успею.\n",
    "Стоп-слова возьмем из NLTK. "
   ]
  },
  {
   "cell_type": "code",
   "execution_count": 9,
   "metadata": {
    "collapsed": false
   },
   "outputs": [],
   "source": [
    "from sklearn.feature_extraction.text import TfidfVectorizer\n",
    "from nltk.corpus import stopwords\n",
    "\n",
    "def vectorize_data(X_train, X_test, X_test_final):\n",
    "    stops = stopwords.words('russian')\n",
    "        \n",
    "    tfidf = TfidfVectorizer(min_df=3, max_features=None, strip_accents='unicode', analyzer='word',\n",
    "                            token_pattern=r'\\w{1,}', ngram_range=(1, 2), use_idf=1, sublinear_tf=1, stop_words=stops)\n",
    "\n",
    "    X_train_vec = tfidf.fit_transform(X_train)\n",
    "    X_test_vec = tfidf.transform(X_test)\n",
    "    X_test_final_vec = tfidf.transform(X_test_final)\n",
    "    \n",
    "    return X_train_vec, X_test_vec, X_test_final_vec"
   ]
  },
  {
   "cell_type": "code",
   "execution_count": 11,
   "metadata": {
    "collapsed": true
   },
   "outputs": [],
   "source": [
    "X_train1, X_test1, X_test_final1 = vectorize_data(X_train, X_test, X_test_final)"
   ]
  },
  {
   "cell_type": "code",
   "execution_count": 12,
   "metadata": {
    "collapsed": false
   },
   "outputs": [
    {
     "name": "stdout",
     "output_type": "stream",
     "text": [
      "Количество объектов в тренировочной выборке:  1052396\n",
      "Количество объектов в тестовой выборке:  451028\n",
      "Количество фичей:  1099263\n"
     ]
    }
   ],
   "source": [
    "print('Количество объектов в тренировочной выборке: ', X_train1.shape[0])\n",
    "print('Количество объектов в тестовой выборке: ', X_test1.shape[0])\n",
    "print('Количество фичей: ', X_train1.shape[1])"
   ]
  },
  {
   "cell_type": "markdown",
   "metadata": {},
   "source": [
    "Так как количество объектов и фичей огромное, а времени до дедлайна немного, то для того, чтобы успеть сделать минимум 6 самбитов, используем TruncatedSVD для снижения размерности до 200."
   ]
  },
  {
   "cell_type": "code",
   "execution_count": 10,
   "metadata": {
    "collapsed": false
   },
   "outputs": [],
   "source": [
    "from sklearn.decomposition import TruncatedSVD\n",
    "\n",
    "def truncate_features(X_train, X_test, X_test_final):\n",
    "    tsvd = TruncatedSVD(n_components=200, random_state=42)\n",
    "\n",
    "    X_train_tsvd = tsvd.fit_transform(X_train)\n",
    "    X_test_tsvd = tsvd.transform(X_test)\n",
    "    X_test_final_tsvd = tsvd.transform(X_test_final)\n",
    "    \n",
    "    return X_train_tsvd, X_test_tsvd, X_test_final_tsvd"
   ]
  },
  {
   "cell_type": "code",
   "execution_count": 16,
   "metadata": {
    "collapsed": false
   },
   "outputs": [],
   "source": [
    "X_train1_tsvd, X_test1_tsvd, X_test_final1_tsvd = truncate_features(X_train1, X_test1, X_test_final1)"
   ]
  },
  {
   "cell_type": "markdown",
   "metadata": {},
   "source": [
    "Baseline-алгоритм - LinearRegression с дефолтными параметрами. Метрика - RMSE."
   ]
  },
  {
   "cell_type": "code",
   "execution_count": 15,
   "metadata": {
    "collapsed": false
   },
   "outputs": [],
   "source": [
    "from sklearn.linear_model import LinearRegression\n",
    "from sklearn.metrics import mean_squared_error as mse\n",
    "from math import sqrt\n",
    "\n",
    "def train_alg(alg, X_train, y_train, X_test, y_test):\n",
    "    alg.fit(X_train, y_train)\n",
    "\n",
    "    y_pred = alg.predict(X_test)\n",
    "    score = sqrt(mse(y_pred, y_test))\n",
    "\n",
    "    print('RMSE: ', score)\n",
    "    \n",
    "    return alg"
   ]
  },
  {
   "cell_type": "code",
   "execution_count": 18,
   "metadata": {
    "collapsed": false
   },
   "outputs": [
    {
     "name": "stdout",
     "output_type": "stream",
     "text": [
      "RMSE:  0.24685550665910516\n"
     ]
    }
   ],
   "source": [
    "lr = LinearRegression(n_jobs=-1)\n",
    "lr = train_alg(lr, X_train1_tsvd, y_train, X_test1_tsvd, y_test)"
   ]
  },
  {
   "cell_type": "code",
   "execution_count": 23,
   "metadata": {
    "collapsed": true
   },
   "outputs": [],
   "source": [
    "y_pred_final1 = lr.predict(X_test_final1_tsvd)"
   ]
  },
  {
   "cell_type": "code",
   "execution_count": 18,
   "metadata": {
    "collapsed": false
   },
   "outputs": [],
   "source": [
    "def save_submission(y_pred_final, ids, file_name):\n",
    "    for i in range(len(y_pred_final)):\n",
    "        if y_pred_final[i] < 0:\n",
    "            y_pred_final[i] = 0\n",
    "            \n",
    "    submit = pd.DataFrame(data={'item_id': ids, 'deal_probability': y_pred_final})\n",
    "    submit.to_csv(file_name, index=False)"
   ]
  },
  {
   "cell_type": "code",
   "execution_count": 38,
   "metadata": {
    "collapsed": true
   },
   "outputs": [],
   "source": [
    "save_submission(y_pred_final1, test_df['item_id'], 'submit1.csv')"
   ]
  },
  {
   "cell_type": "markdown",
   "metadata": {},
   "source": [
    "Первый сабмишн показал результат 0.2527."
   ]
  },
  {
   "cell_type": "markdown",
   "metadata": {},
   "source": [
    "### 3. Более сложные и быстрые алгоритмы.\n",
    "\n",
    "В этой секции мы:\n",
    "- приведем данные к нижнему регистру.\n",
    "- обучим два быстрых регрессора с дефолтными параметрами: XGBRegressor из библиотеки py-xgboost и LGBMRegressor из библиотеки lightgbm.\n",
    "- посмотрим, удастся ли улучшить финальный результат, и выберем лучший из регрессоров."
   ]
  },
  {
   "cell_type": "code",
   "execution_count": 11,
   "metadata": {
    "collapsed": false
   },
   "outputs": [],
   "source": [
    "def normalize(text):\n",
    "    text = text.lower()    \n",
    "    \n",
    "    return text"
   ]
  },
  {
   "cell_type": "code",
   "execution_count": 12,
   "metadata": {
    "collapsed": false
   },
   "outputs": [],
   "source": [
    "X_train_norm = X_train.apply(normalize)\n",
    "X_test_norm = X_test.apply(normalize)\n",
    "X_test_final_norm = X_test_final.apply(normalize)"
   ]
  },
  {
   "cell_type": "code",
   "execution_count": 13,
   "metadata": {
    "collapsed": true
   },
   "outputs": [],
   "source": [
    "X_train2, X_test2, X_test_final2 = vectorize_data(X_train_norm, X_test_norm, X_test_final_norm)\n",
    "X_train2_tsvd, X_test2_tsvd, X_test_final2_tsvd = truncate_features(X_train2, X_test2, X_test_final2)"
   ]
  },
  {
   "cell_type": "markdown",
   "metadata": {},
   "source": [
    "#### 3.1 XGBRegressor"
   ]
  },
  {
   "cell_type": "code",
   "execution_count": 16,
   "metadata": {
    "collapsed": false
   },
   "outputs": [
    {
     "name": "stdout",
     "output_type": "stream",
     "text": [
      "RMSE:  0.24574451457112065\n"
     ]
    }
   ],
   "source": [
    "from xgboost import XGBRegressor\n",
    "\n",
    "xgb = XGBRegressor(seed=42)\n",
    "xgb = train_alg(xgb, X_train2_tsvd, y_train, X_test2_tsvd, y_test)"
   ]
  },
  {
   "cell_type": "code",
   "execution_count": 19,
   "metadata": {
    "collapsed": false
   },
   "outputs": [],
   "source": [
    "y_pred_final2 = xgb.predict(X_test_final2_tsvd)\n",
    "save_submission(y_pred_final2, test_df['item_id'], 'submit2.csv')"
   ]
  },
  {
   "cell_type": "markdown",
   "metadata": {},
   "source": [
    "Скор и на отложенной выборке, и на тестовой (0.2517) немного улучшился. Второй сабмишн поднял меня на 2 места.\n",
    "\n",
    "#### 3.2 LGBMRegressor"
   ]
  },
  {
   "cell_type": "code",
   "execution_count": 20,
   "metadata": {
    "collapsed": false
   },
   "outputs": [
    {
     "name": "stdout",
     "output_type": "stream",
     "text": [
      "[1]\tvalid_0's l1: 0.188465\n",
      "Training until validation scores don't improve for 5 rounds.\n",
      "[2]\tvalid_0's l1: 0.186978\n",
      "[3]\tvalid_0's l1: 0.185697\n",
      "[4]\tvalid_0's l1: 0.184661\n",
      "[5]\tvalid_0's l1: 0.183719\n",
      "[6]\tvalid_0's l1: 0.182861\n",
      "[7]\tvalid_0's l1: 0.182086\n",
      "[8]\tvalid_0's l1: 0.181406\n",
      "[9]\tvalid_0's l1: 0.180756\n",
      "[10]\tvalid_0's l1: 0.180169\n",
      "[11]\tvalid_0's l1: 0.179634\n",
      "[12]\tvalid_0's l1: 0.179114\n",
      "[13]\tvalid_0's l1: 0.178676\n",
      "[14]\tvalid_0's l1: 0.17823\n",
      "[15]\tvalid_0's l1: 0.177816\n",
      "[16]\tvalid_0's l1: 0.177432\n",
      "[17]\tvalid_0's l1: 0.177087\n",
      "[18]\tvalid_0's l1: 0.176764\n",
      "[19]\tvalid_0's l1: 0.17647\n",
      "[20]\tvalid_0's l1: 0.176215\n",
      "[21]\tvalid_0's l1: 0.17597\n",
      "[22]\tvalid_0's l1: 0.17574\n",
      "[23]\tvalid_0's l1: 0.175519\n",
      "[24]\tvalid_0's l1: 0.175262\n",
      "[25]\tvalid_0's l1: 0.175018\n",
      "[26]\tvalid_0's l1: 0.174803\n",
      "[27]\tvalid_0's l1: 0.174598\n",
      "[28]\tvalid_0's l1: 0.174432\n",
      "[29]\tvalid_0's l1: 0.174255\n",
      "[30]\tvalid_0's l1: 0.17408\n",
      "[31]\tvalid_0's l1: 0.173915\n",
      "[32]\tvalid_0's l1: 0.173761\n",
      "[33]\tvalid_0's l1: 0.173575\n",
      "[34]\tvalid_0's l1: 0.173427\n",
      "[35]\tvalid_0's l1: 0.17327\n",
      "[36]\tvalid_0's l1: 0.173148\n",
      "[37]\tvalid_0's l1: 0.173024\n",
      "[38]\tvalid_0's l1: 0.172882\n",
      "[39]\tvalid_0's l1: 0.172771\n",
      "[40]\tvalid_0's l1: 0.17266\n",
      "[41]\tvalid_0's l1: 0.172557\n",
      "[42]\tvalid_0's l1: 0.172425\n",
      "[43]\tvalid_0's l1: 0.172328\n",
      "[44]\tvalid_0's l1: 0.172203\n",
      "[45]\tvalid_0's l1: 0.172117\n",
      "[46]\tvalid_0's l1: 0.172013\n",
      "[47]\tvalid_0's l1: 0.171928\n",
      "[48]\tvalid_0's l1: 0.171849\n",
      "[49]\tvalid_0's l1: 0.171754\n",
      "[50]\tvalid_0's l1: 0.171675\n",
      "[51]\tvalid_0's l1: 0.171584\n",
      "[52]\tvalid_0's l1: 0.171511\n",
      "[53]\tvalid_0's l1: 0.171447\n",
      "[54]\tvalid_0's l1: 0.171361\n",
      "[55]\tvalid_0's l1: 0.171295\n",
      "[56]\tvalid_0's l1: 0.171214\n",
      "[57]\tvalid_0's l1: 0.171151\n",
      "[58]\tvalid_0's l1: 0.171088\n",
      "[59]\tvalid_0's l1: 0.171026\n",
      "[60]\tvalid_0's l1: 0.170973\n",
      "[61]\tvalid_0's l1: 0.170915\n",
      "[62]\tvalid_0's l1: 0.170842\n",
      "[63]\tvalid_0's l1: 0.17079\n",
      "[64]\tvalid_0's l1: 0.170726\n",
      "[65]\tvalid_0's l1: 0.170666\n",
      "[66]\tvalid_0's l1: 0.170617\n",
      "[67]\tvalid_0's l1: 0.170577\n",
      "[68]\tvalid_0's l1: 0.170544\n",
      "[69]\tvalid_0's l1: 0.170487\n",
      "[70]\tvalid_0's l1: 0.170445\n",
      "[71]\tvalid_0's l1: 0.170393\n",
      "[72]\tvalid_0's l1: 0.170356\n",
      "[73]\tvalid_0's l1: 0.170306\n",
      "[74]\tvalid_0's l1: 0.170253\n",
      "[75]\tvalid_0's l1: 0.170203\n",
      "[76]\tvalid_0's l1: 0.17016\n",
      "[77]\tvalid_0's l1: 0.170114\n",
      "[78]\tvalid_0's l1: 0.170081\n",
      "[79]\tvalid_0's l1: 0.170029\n",
      "[80]\tvalid_0's l1: 0.169988\n",
      "[81]\tvalid_0's l1: 0.16995\n",
      "[82]\tvalid_0's l1: 0.169912\n",
      "[83]\tvalid_0's l1: 0.169871\n",
      "[84]\tvalid_0's l1: 0.16983\n",
      "[85]\tvalid_0's l1: 0.169788\n",
      "[86]\tvalid_0's l1: 0.169759\n",
      "[87]\tvalid_0's l1: 0.169729\n",
      "[88]\tvalid_0's l1: 0.169693\n",
      "[89]\tvalid_0's l1: 0.169649\n",
      "[90]\tvalid_0's l1: 0.169611\n",
      "[91]\tvalid_0's l1: 0.169586\n",
      "[92]\tvalid_0's l1: 0.169546\n",
      "[93]\tvalid_0's l1: 0.169525\n",
      "[94]\tvalid_0's l1: 0.169507\n",
      "[95]\tvalid_0's l1: 0.169474\n",
      "[96]\tvalid_0's l1: 0.169431\n",
      "[97]\tvalid_0's l1: 0.169406\n",
      "[98]\tvalid_0's l1: 0.169391\n",
      "[99]\tvalid_0's l1: 0.169368\n",
      "[100]\tvalid_0's l1: 0.16933\n",
      "Did not meet early stopping. Best iteration is:\n",
      "[100]\tvalid_0's l1: 0.16933\n",
      "RMSE:  0.24248961203981162\n"
     ]
    }
   ],
   "source": [
    "import lightgbm as lgb\n",
    "\n",
    "gbm = lgb.LGBMRegressor(objective='regression')\n",
    "gbm.fit(X_train2_tsvd, y_train, eval_set=[(X_test2_tsvd, y_test)], eval_metric='l1', early_stopping_rounds=5)\n",
    "y_pred = gbm.predict(X_test2_tsvd, num_iteration=gbm.best_iteration_)\n",
    "\n",
    "print('RMSE: ', sqrt(mse(y_test, y_pred)))"
   ]
  },
  {
   "cell_type": "code",
   "execution_count": 21,
   "metadata": {
    "collapsed": true
   },
   "outputs": [],
   "source": [
    "y_pred_final3 = gbm.predict(X_test_final2_tsvd)\n",
    "save_submission(y_pred_final3, test_df['item_id'], 'submit3.csv')"
   ]
  },
  {
   "cell_type": "markdown",
   "metadata": {},
   "source": [
    "Скор и на отложенной выборке, и на тестовой (0.2484) увеличился на большее количество пунктов. Третий самбишн поднял меня на 11 мест."
   ]
  },
  {
   "cell_type": "markdown",
   "metadata": {},
   "source": [
    "### 4. Новые признаки\n",
    "Попробуем добавить к исходным фичам три новые: регион, название раздела и название категории.\n",
    "Это категориальные признаки, но мы сделаем их бинарными с помощью функции get_dummies, а потом объединим признаки с помощью numpy.hstack.\n",
    "\n",
    "После этого натренируем на новых данных лучший регрессор из уже опробованных = LGBMRegressor (все еще с дефолтными параметрами)."
   ]
  },
  {
   "cell_type": "code",
   "execution_count": 51,
   "metadata": {
    "collapsed": false
   },
   "outputs": [],
   "source": [
    "other_features = train_df[['region', 'parent_category_name', 'category_name']]\n",
    "other_features = pd.get_dummies(other_features)"
   ]
  },
  {
   "cell_type": "code",
   "execution_count": 52,
   "metadata": {
    "collapsed": false
   },
   "outputs": [
    {
     "data": {
      "text/plain": [
       "(1503424, 84)"
      ]
     },
     "execution_count": 52,
     "metadata": {},
     "output_type": "execute_result"
    }
   ],
   "source": [
    "other_features.shape"
   ]
  },
  {
   "cell_type": "code",
   "execution_count": 53,
   "metadata": {
    "collapsed": false
   },
   "outputs": [],
   "source": [
    "X_train_oth, X_test_oth, y_train_oth, y_test_oth = train_test_split(other_features, train_df['deal_probability'],\n",
    "                                                                    test_size=0.3, random_state=42)"
   ]
  },
  {
   "cell_type": "code",
   "execution_count": 54,
   "metadata": {
    "collapsed": false
   },
   "outputs": [],
   "source": [
    "X_train_new = np.hstack((X_train_oth, X_train2_tsvd))\n",
    "X_test_new = np.hstack((X_test_oth, X_test2_tsvd))"
   ]
  },
  {
   "cell_type": "code",
   "execution_count": 55,
   "metadata": {
    "collapsed": false
   },
   "outputs": [
    {
     "name": "stdout",
     "output_type": "stream",
     "text": [
      "[1]\tvalid_0's l1: 0.186951\n",
      "Training until validation scores don't improve for 5 rounds.\n",
      "[2]\tvalid_0's l1: 0.184226\n",
      "[3]\tvalid_0's l1: 0.182043\n",
      "[4]\tvalid_0's l1: 0.18019\n",
      "[5]\tvalid_0's l1: 0.178587\n",
      "[6]\tvalid_0's l1: 0.177204\n",
      "[7]\tvalid_0's l1: 0.175997\n",
      "[8]\tvalid_0's l1: 0.17482\n",
      "[9]\tvalid_0's l1: 0.173872\n",
      "[10]\tvalid_0's l1: 0.172969\n",
      "[11]\tvalid_0's l1: 0.172098\n",
      "[12]\tvalid_0's l1: 0.171386\n",
      "[13]\tvalid_0's l1: 0.170708\n",
      "[14]\tvalid_0's l1: 0.170094\n",
      "[15]\tvalid_0's l1: 0.169535\n",
      "[16]\tvalid_0's l1: 0.169018\n",
      "[17]\tvalid_0's l1: 0.168546\n",
      "[18]\tvalid_0's l1: 0.168128\n",
      "[19]\tvalid_0's l1: 0.167767\n",
      "[20]\tvalid_0's l1: 0.167445\n",
      "[21]\tvalid_0's l1: 0.167135\n",
      "[22]\tvalid_0's l1: 0.166883\n",
      "[23]\tvalid_0's l1: 0.16666\n",
      "[24]\tvalid_0's l1: 0.166348\n",
      "[25]\tvalid_0's l1: 0.166142\n",
      "[26]\tvalid_0's l1: 0.165953\n",
      "[27]\tvalid_0's l1: 0.165729\n",
      "[28]\tvalid_0's l1: 0.165543\n",
      "[29]\tvalid_0's l1: 0.165367\n",
      "[30]\tvalid_0's l1: 0.165208\n",
      "[31]\tvalid_0's l1: 0.165071\n",
      "[32]\tvalid_0's l1: 0.164942\n",
      "[33]\tvalid_0's l1: 0.164826\n",
      "[34]\tvalid_0's l1: 0.16468\n",
      "[35]\tvalid_0's l1: 0.16457\n",
      "[36]\tvalid_0's l1: 0.164474\n",
      "[37]\tvalid_0's l1: 0.16438\n",
      "[38]\tvalid_0's l1: 0.164278\n",
      "[39]\tvalid_0's l1: 0.164164\n",
      "[40]\tvalid_0's l1: 0.164052\n",
      "[41]\tvalid_0's l1: 0.163945\n",
      "[42]\tvalid_0's l1: 0.163879\n",
      "[43]\tvalid_0's l1: 0.163803\n",
      "[44]\tvalid_0's l1: 0.163718\n",
      "[45]\tvalid_0's l1: 0.163619\n",
      "[46]\tvalid_0's l1: 0.163531\n",
      "[47]\tvalid_0's l1: 0.16345\n",
      "[48]\tvalid_0's l1: 0.163365\n",
      "[49]\tvalid_0's l1: 0.163307\n",
      "[50]\tvalid_0's l1: 0.163245\n",
      "[51]\tvalid_0's l1: 0.163181\n",
      "[52]\tvalid_0's l1: 0.163118\n",
      "[53]\tvalid_0's l1: 0.163062\n",
      "[54]\tvalid_0's l1: 0.162996\n",
      "[55]\tvalid_0's l1: 0.162936\n",
      "[56]\tvalid_0's l1: 0.162878\n",
      "[57]\tvalid_0's l1: 0.162841\n",
      "[58]\tvalid_0's l1: 0.16279\n",
      "[59]\tvalid_0's l1: 0.162752\n",
      "[60]\tvalid_0's l1: 0.162709\n",
      "[61]\tvalid_0's l1: 0.162664\n",
      "[62]\tvalid_0's l1: 0.16261\n",
      "[63]\tvalid_0's l1: 0.162568\n",
      "[64]\tvalid_0's l1: 0.162533\n",
      "[65]\tvalid_0's l1: 0.162484\n",
      "[66]\tvalid_0's l1: 0.162455\n",
      "[67]\tvalid_0's l1: 0.162421\n",
      "[68]\tvalid_0's l1: 0.162402\n",
      "[69]\tvalid_0's l1: 0.162365\n",
      "[70]\tvalid_0's l1: 0.16234\n",
      "[71]\tvalid_0's l1: 0.162304\n",
      "[72]\tvalid_0's l1: 0.162259\n",
      "[73]\tvalid_0's l1: 0.162223\n",
      "[74]\tvalid_0's l1: 0.162193\n",
      "[75]\tvalid_0's l1: 0.162173\n",
      "[76]\tvalid_0's l1: 0.162145\n",
      "[77]\tvalid_0's l1: 0.162107\n",
      "[78]\tvalid_0's l1: 0.162089\n",
      "[79]\tvalid_0's l1: 0.162066\n",
      "[80]\tvalid_0's l1: 0.162027\n",
      "[81]\tvalid_0's l1: 0.161998\n",
      "[82]\tvalid_0's l1: 0.161974\n",
      "[83]\tvalid_0's l1: 0.161954\n",
      "[84]\tvalid_0's l1: 0.161917\n",
      "[85]\tvalid_0's l1: 0.161887\n",
      "[86]\tvalid_0's l1: 0.161855\n",
      "[87]\tvalid_0's l1: 0.161831\n",
      "[88]\tvalid_0's l1: 0.161807\n",
      "[89]\tvalid_0's l1: 0.161788\n",
      "[90]\tvalid_0's l1: 0.161776\n",
      "[91]\tvalid_0's l1: 0.161757\n",
      "[92]\tvalid_0's l1: 0.16174\n",
      "[93]\tvalid_0's l1: 0.16171\n",
      "[94]\tvalid_0's l1: 0.161693\n",
      "[95]\tvalid_0's l1: 0.161681\n",
      "[96]\tvalid_0's l1: 0.161666\n",
      "[97]\tvalid_0's l1: 0.161652\n",
      "[98]\tvalid_0's l1: 0.161647\n",
      "[99]\tvalid_0's l1: 0.161631\n",
      "[100]\tvalid_0's l1: 0.161609\n",
      "Did not meet early stopping. Best iteration is:\n",
      "[100]\tvalid_0's l1: 0.161609\n",
      "RMSE:  0.23578999375993914\n"
     ]
    }
   ],
   "source": [
    "gbm.fit(X_train_new, y_train, eval_set=[(X_test_new, y_test)], eval_metric='l1', early_stopping_rounds=5)\n",
    "y_pred = gbm.predict(X_test_new, num_iteration=gbm.best_iteration_)\n",
    "\n",
    "print('RMSE: ', sqrt(mse(y_test, y_pred)))"
   ]
  },
  {
   "cell_type": "code",
   "execution_count": 56,
   "metadata": {
    "collapsed": false
   },
   "outputs": [],
   "source": [
    "other_features_test = test_df[['region', 'parent_category_name', 'category_name']]\n",
    "other_features_test = pd.get_dummies(other_features_test)\n",
    "\n",
    "X_test_final_new = np.hstack((other_features_test, X_test_final2_tsvd))"
   ]
  },
  {
   "cell_type": "code",
   "execution_count": 57,
   "metadata": {
    "collapsed": true
   },
   "outputs": [],
   "source": [
    "y_pred_final4 = gbm.predict(X_test_final_new)\n",
    "save_submission(y_pred_final4, test_df['item_id'], 'submit4.csv')"
   ]
  },
  {
   "cell_type": "markdown",
   "metadata": {},
   "source": [
    "Скор на обеих выборках значительно улучшился. Результат на тестовой - 0.2411. Этот самбишн поднял меня на 62 места.\n",
    "Получается, добавление новых признаков очень хорошо повлияло на результат."
   ]
  },
  {
   "cell_type": "markdown",
   "metadata": {},
   "source": [
    "### 5. Масштабирование данных\n",
    "\n",
    "На результат некоторых моделей может очень сильно влиять то, отмасштабированы данные или нет.\n",
    "Попробуем отмасштабировать наши данные с помощью StandardScaler и снова обучить LGBMRegressor."
   ]
  },
  {
   "cell_type": "code",
   "execution_count": 64,
   "metadata": {
    "collapsed": false
   },
   "outputs": [],
   "source": [
    "from sklearn.preprocessing import StandardScaler\n",
    "\n",
    "scaler = StandardScaler()\n",
    "\n",
    "X_train_scal = scaler.fit_transform(X_train_new)\n",
    "X_test_scal = scaler.fit_transform(X_test_new)\n",
    "X_test_final_scal = scaler.fit_transform(X_test_final_new)"
   ]
  },
  {
   "cell_type": "code",
   "execution_count": 65,
   "metadata": {
    "collapsed": false
   },
   "outputs": [
    {
     "name": "stdout",
     "output_type": "stream",
     "text": [
      "[1]\tvalid_0's l1: 0.186943\n",
      "Training until validation scores don't improve for 5 rounds.\n",
      "[2]\tvalid_0's l1: 0.184197\n",
      "[3]\tvalid_0's l1: 0.182009\n",
      "[4]\tvalid_0's l1: 0.180146\n",
      "[5]\tvalid_0's l1: 0.178671\n",
      "[6]\tvalid_0's l1: 0.177282\n",
      "[7]\tvalid_0's l1: 0.176146\n",
      "[8]\tvalid_0's l1: 0.174968\n",
      "[9]\tvalid_0's l1: 0.174047\n",
      "[10]\tvalid_0's l1: 0.173078\n",
      "[11]\tvalid_0's l1: 0.17225\n",
      "[12]\tvalid_0's l1: 0.171477\n",
      "[13]\tvalid_0's l1: 0.170922\n",
      "[14]\tvalid_0's l1: 0.170381\n",
      "[15]\tvalid_0's l1: 0.169874\n",
      "[16]\tvalid_0's l1: 0.169327\n",
      "[17]\tvalid_0's l1: 0.168885\n",
      "[18]\tvalid_0's l1: 0.168622\n",
      "[19]\tvalid_0's l1: 0.168212\n",
      "[20]\tvalid_0's l1: 0.167935\n",
      "[21]\tvalid_0's l1: 0.167714\n",
      "[22]\tvalid_0's l1: 0.167479\n",
      "[23]\tvalid_0's l1: 0.167235\n",
      "[24]\tvalid_0's l1: 0.167021\n",
      "[25]\tvalid_0's l1: 0.166809\n",
      "[26]\tvalid_0's l1: 0.166562\n",
      "[27]\tvalid_0's l1: 0.166363\n",
      "[28]\tvalid_0's l1: 0.166207\n",
      "[29]\tvalid_0's l1: 0.166035\n",
      "[30]\tvalid_0's l1: 0.165867\n",
      "[31]\tvalid_0's l1: 0.165685\n",
      "[32]\tvalid_0's l1: 0.165607\n",
      "[33]\tvalid_0's l1: 0.165474\n",
      "[34]\tvalid_0's l1: 0.16539\n",
      "[35]\tvalid_0's l1: 0.165247\n",
      "[36]\tvalid_0's l1: 0.165165\n",
      "[37]\tvalid_0's l1: 0.16507\n",
      "[38]\tvalid_0's l1: 0.164953\n",
      "[39]\tvalid_0's l1: 0.164865\n",
      "[40]\tvalid_0's l1: 0.164802\n",
      "[41]\tvalid_0's l1: 0.164738\n",
      "[42]\tvalid_0's l1: 0.164661\n",
      "[43]\tvalid_0's l1: 0.164599\n",
      "[44]\tvalid_0's l1: 0.164525\n",
      "[45]\tvalid_0's l1: 0.164428\n",
      "[46]\tvalid_0's l1: 0.164318\n",
      "[47]\tvalid_0's l1: 0.164238\n",
      "[48]\tvalid_0's l1: 0.164162\n",
      "[49]\tvalid_0's l1: 0.164103\n",
      "[50]\tvalid_0's l1: 0.164078\n",
      "[51]\tvalid_0's l1: 0.16403\n",
      "[52]\tvalid_0's l1: 0.163986\n",
      "[53]\tvalid_0's l1: 0.163921\n",
      "[54]\tvalid_0's l1: 0.163869\n",
      "[55]\tvalid_0's l1: 0.16381\n",
      "[56]\tvalid_0's l1: 0.163745\n",
      "[57]\tvalid_0's l1: 0.163679\n",
      "[58]\tvalid_0's l1: 0.163635\n",
      "[59]\tvalid_0's l1: 0.163606\n",
      "[60]\tvalid_0's l1: 0.163581\n",
      "[61]\tvalid_0's l1: 0.163529\n",
      "[62]\tvalid_0's l1: 0.163494\n",
      "[63]\tvalid_0's l1: 0.163452\n",
      "[64]\tvalid_0's l1: 0.163419\n",
      "[65]\tvalid_0's l1: 0.163378\n",
      "[66]\tvalid_0's l1: 0.16333\n",
      "[67]\tvalid_0's l1: 0.163282\n",
      "[68]\tvalid_0's l1: 0.163252\n",
      "[69]\tvalid_0's l1: 0.163228\n",
      "[70]\tvalid_0's l1: 0.163201\n",
      "[71]\tvalid_0's l1: 0.163164\n",
      "[72]\tvalid_0's l1: 0.163121\n",
      "[73]\tvalid_0's l1: 0.163078\n",
      "[74]\tvalid_0's l1: 0.163043\n",
      "[75]\tvalid_0's l1: 0.163029\n",
      "[76]\tvalid_0's l1: 0.162999\n",
      "[77]\tvalid_0's l1: 0.162976\n",
      "[78]\tvalid_0's l1: 0.162961\n",
      "[79]\tvalid_0's l1: 0.16294\n",
      "[80]\tvalid_0's l1: 0.162912\n",
      "[81]\tvalid_0's l1: 0.162881\n",
      "[82]\tvalid_0's l1: 0.162857\n",
      "[83]\tvalid_0's l1: 0.162817\n",
      "[84]\tvalid_0's l1: 0.162798\n",
      "[85]\tvalid_0's l1: 0.162778\n",
      "[86]\tvalid_0's l1: 0.162754\n",
      "[87]\tvalid_0's l1: 0.162738\n",
      "[88]\tvalid_0's l1: 0.162704\n",
      "[89]\tvalid_0's l1: 0.16269\n",
      "[90]\tvalid_0's l1: 0.162656\n",
      "[91]\tvalid_0's l1: 0.162629\n",
      "[92]\tvalid_0's l1: 0.162616\n",
      "[93]\tvalid_0's l1: 0.1626\n",
      "[94]\tvalid_0's l1: 0.162583\n",
      "[95]\tvalid_0's l1: 0.162558\n",
      "[96]\tvalid_0's l1: 0.162562\n",
      "[97]\tvalid_0's l1: 0.162544\n",
      "[98]\tvalid_0's l1: 0.16254\n",
      "[99]\tvalid_0's l1: 0.162533\n",
      "[100]\tvalid_0's l1: 0.162526\n",
      "Did not meet early stopping. Best iteration is:\n",
      "[100]\tvalid_0's l1: 0.162526\n",
      "RMSE:  0.2359035460489006\n"
     ]
    }
   ],
   "source": [
    "gbm.fit(X_train_scal, y_train, eval_set=[(X_test_scal, y_test)], eval_metric='l1', early_stopping_rounds=5)\n",
    "y_pred = gbm.predict(X_test_scal, num_iteration=gbm.best_iteration_)\n",
    "\n",
    "print('RMSE: ', sqrt(mse(y_test, y_pred)))"
   ]
  },
  {
   "cell_type": "code",
   "execution_count": 66,
   "metadata": {
    "collapsed": true
   },
   "outputs": [],
   "source": [
    "y_pred_final5 = gbm.predict(X_test_final_scal)\n",
    "save_submission(y_pred_final5, test_df['item_id'], 'submit5.csv')"
   ]
  },
  {
   "cell_type": "markdown",
   "metadata": {},
   "source": [
    "Скор на обеих выборках немного ухудшился (на тестовой - 0.2412). Получается, в нашем случае масштабирование ни на что не влияет и даже портит картину, поэтому лучше обойтись без него."
   ]
  },
  {
   "cell_type": "markdown",
   "metadata": {},
   "source": [
    "### 6. Поиск гиперпараметров\n",
    "\n",
    "Подберем некоторые гиперпараметры для нашего регрессора. Для поиска будем использовать RandomizedSearchCV, т.к. он быстрее, чем GridSearchCV, и обычно не уступает в качестве.\n",
    "\n",
    "Согласно рекомендациям здесь: https://lightgbm.readthedocs.io/en/latest/Parameters-Tuning.html (раздел For Better Accuracy), будем тюнить параметры learning_rate и num_leaves. Дефолтные значения - 0.1 для первого и 31 для второго. Также изменим некоторые другие параметры: поставим boosting='dart' (вместо 'gbdt') и увеличим число итераций до 200 (дефолт - 100)."
   ]
  },
  {
   "cell_type": "code",
   "execution_count": 82,
   "metadata": {
    "collapsed": false
   },
   "outputs": [],
   "source": [
    "from sklearn.model_selection import RandomizedSearchCV\n",
    "\n",
    "def parameters_search(X_train, y_train):\n",
    "    rand_results, rand_scores = [], []\n",
    "    gbm = lgb.LGBMRegressor(objective='regression', num_iterations=200, boosting='dart')\n",
    "    params = {'learning_rate': [0.001, 0.01, 0.1], 'num_leaves': range(31, 131, 10)}   \n",
    "        \n",
    "    rand = RandomizedSearchCV(gbm, param_distributions=params, scoring='neg_mean_squared_error', cv=5, \n",
    "                              n_iter=9, random_state=42)\n",
    "    rand.fit(X_train, y_train)\n",
    "    rand_results.append(rand.best_params_)\n",
    "    rand_scores.append(rand.best_score_)\n",
    "    \n",
    "    print('Random Search results')\n",
    "    print(pd.DataFrame(data={'Best score': rand_scores, 'Parameters': rand_results}))"
   ]
  },
  {
   "cell_type": "code",
   "execution_count": 81,
   "metadata": {
    "collapsed": true
   },
   "outputs": [],
   "source": [
    "import warnings\n",
    "warnings.filterwarnings('ignore')"
   ]
  },
  {
   "cell_type": "code",
   "execution_count": 83,
   "metadata": {
    "collapsed": false
   },
   "outputs": [
    {
     "name": "stdout",
     "output_type": "stream",
     "text": [
      "Random Search results\n",
      "   Best score                                 Parameters\n",
      "0   -0.055253  {'learning_rate': 0.1, 'num_leaves': 111}\n"
     ]
    }
   ],
   "source": [
    "parameters_search(X_train_new, y_train)"
   ]
  },
  {
   "cell_type": "markdown",
   "metadata": {},
   "source": [
    "Обучим регрессор с лучшими параметрами. Заодно увеличим число итераций до 500."
   ]
  },
  {
   "cell_type": "code",
   "execution_count": 86,
   "metadata": {
    "collapsed": false
   },
   "outputs": [
    {
     "name": "stdout",
     "output_type": "stream",
     "text": [
      "[1]\tvalid_0's l1: 0.18666\n",
      "Training until validation scores don't improve for 5 rounds.\n",
      "[2]\tvalid_0's l1: 0.183701\n",
      "[3]\tvalid_0's l1: 0.181312\n",
      "[4]\tvalid_0's l1: 0.179253\n",
      "[5]\tvalid_0's l1: 0.177494\n",
      "[6]\tvalid_0's l1: 0.175946\n",
      "[7]\tvalid_0's l1: 0.174602\n",
      "[8]\tvalid_0's l1: 0.173434\n",
      "[9]\tvalid_0's l1: 0.172367\n",
      "[10]\tvalid_0's l1: 0.171396\n",
      "[11]\tvalid_0's l1: 0.170533\n",
      "[12]\tvalid_0's l1: 0.169721\n",
      "[13]\tvalid_0's l1: 0.169012\n",
      "[14]\tvalid_0's l1: 0.168354\n",
      "[15]\tvalid_0's l1: 0.167735\n",
      "[16]\tvalid_0's l1: 0.167215\n",
      "[17]\tvalid_0's l1: 0.166695\n",
      "[18]\tvalid_0's l1: 0.166226\n",
      "[19]\tvalid_0's l1: 0.1658\n",
      "[20]\tvalid_0's l1: 0.165421\n",
      "[21]\tvalid_0's l1: 0.165063\n",
      "[22]\tvalid_0's l1: 0.164749\n",
      "[23]\tvalid_0's l1: 0.164486\n",
      "[24]\tvalid_0's l1: 0.164213\n",
      "[25]\tvalid_0's l1: 0.163974\n",
      "[26]\tvalid_0's l1: 0.163777\n",
      "[27]\tvalid_0's l1: 0.163584\n",
      "[28]\tvalid_0's l1: 0.163371\n",
      "[29]\tvalid_0's l1: 0.163224\n",
      "[30]\tvalid_0's l1: 0.163076\n",
      "[31]\tvalid_0's l1: 0.16295\n",
      "[32]\tvalid_0's l1: 0.16282\n",
      "[33]\tvalid_0's l1: 0.162697\n",
      "[34]\tvalid_0's l1: 0.162575\n",
      "[35]\tvalid_0's l1: 0.162455\n",
      "[36]\tvalid_0's l1: 0.162354\n",
      "[37]\tvalid_0's l1: 0.162274\n",
      "[38]\tvalid_0's l1: 0.162163\n",
      "[39]\tvalid_0's l1: 0.162089\n",
      "[40]\tvalid_0's l1: 0.162018\n",
      "[41]\tvalid_0's l1: 0.161938\n",
      "[42]\tvalid_0's l1: 0.161856\n",
      "[43]\tvalid_0's l1: 0.161764\n",
      "[44]\tvalid_0's l1: 0.161706\n",
      "[45]\tvalid_0's l1: 0.161634\n",
      "[46]\tvalid_0's l1: 0.161564\n",
      "[47]\tvalid_0's l1: 0.161518\n",
      "[48]\tvalid_0's l1: 0.161463\n",
      "[49]\tvalid_0's l1: 0.161404\n",
      "[50]\tvalid_0's l1: 0.161348\n",
      "[51]\tvalid_0's l1: 0.161313\n",
      "[52]\tvalid_0's l1: 0.161273\n",
      "[53]\tvalid_0's l1: 0.161231\n",
      "[54]\tvalid_0's l1: 0.161202\n",
      "[55]\tvalid_0's l1: 0.161151\n",
      "[56]\tvalid_0's l1: 0.161126\n",
      "[57]\tvalid_0's l1: 0.161085\n",
      "[58]\tvalid_0's l1: 0.161052\n",
      "[59]\tvalid_0's l1: 0.161023\n",
      "[60]\tvalid_0's l1: 0.161001\n",
      "[61]\tvalid_0's l1: 0.16096\n",
      "[62]\tvalid_0's l1: 0.160916\n",
      "[63]\tvalid_0's l1: 0.160889\n",
      "[64]\tvalid_0's l1: 0.160851\n",
      "[65]\tvalid_0's l1: 0.160828\n",
      "[66]\tvalid_0's l1: 0.160811\n",
      "[67]\tvalid_0's l1: 0.160789\n",
      "[68]\tvalid_0's l1: 0.160759\n",
      "[69]\tvalid_0's l1: 0.160743\n",
      "[70]\tvalid_0's l1: 0.16072\n",
      "[71]\tvalid_0's l1: 0.160701\n",
      "[72]\tvalid_0's l1: 0.160667\n",
      "[73]\tvalid_0's l1: 0.16065\n",
      "[74]\tvalid_0's l1: 0.160617\n",
      "[75]\tvalid_0's l1: 0.160591\n",
      "[76]\tvalid_0's l1: 0.160569\n",
      "[77]\tvalid_0's l1: 0.160554\n",
      "[78]\tvalid_0's l1: 0.16053\n",
      "[79]\tvalid_0's l1: 0.160504\n",
      "[80]\tvalid_0's l1: 0.160502\n",
      "[81]\tvalid_0's l1: 0.160486\n",
      "[82]\tvalid_0's l1: 0.160472\n",
      "[83]\tvalid_0's l1: 0.160462\n",
      "[84]\tvalid_0's l1: 0.160456\n",
      "[85]\tvalid_0's l1: 0.160446\n",
      "[86]\tvalid_0's l1: 0.160446\n",
      "[87]\tvalid_0's l1: 0.160426\n",
      "[88]\tvalid_0's l1: 0.160407\n",
      "[89]\tvalid_0's l1: 0.160394\n",
      "[90]\tvalid_0's l1: 0.160377\n",
      "[91]\tvalid_0's l1: 0.160362\n",
      "[92]\tvalid_0's l1: 0.160349\n",
      "[93]\tvalid_0's l1: 0.160343\n",
      "[94]\tvalid_0's l1: 0.16034\n",
      "[95]\tvalid_0's l1: 0.160317\n",
      "[96]\tvalid_0's l1: 0.160311\n",
      "[97]\tvalid_0's l1: 0.160309\n",
      "[98]\tvalid_0's l1: 0.160299\n",
      "[99]\tvalid_0's l1: 0.160299\n",
      "[100]\tvalid_0's l1: 0.160286\n",
      "[101]\tvalid_0's l1: 0.160283\n",
      "[102]\tvalid_0's l1: 0.160284\n",
      "[103]\tvalid_0's l1: 0.160281\n",
      "[104]\tvalid_0's l1: 0.160281\n",
      "[105]\tvalid_0's l1: 0.160267\n",
      "[106]\tvalid_0's l1: 0.160251\n",
      "[107]\tvalid_0's l1: 0.160249\n",
      "[108]\tvalid_0's l1: 0.160235\n",
      "[109]\tvalid_0's l1: 0.160232\n",
      "[110]\tvalid_0's l1: 0.160226\n",
      "[111]\tvalid_0's l1: 0.160223\n",
      "[112]\tvalid_0's l1: 0.160228\n",
      "[113]\tvalid_0's l1: 0.160221\n",
      "[114]\tvalid_0's l1: 0.160216\n",
      "[115]\tvalid_0's l1: 0.160214\n",
      "[116]\tvalid_0's l1: 0.160209\n",
      "[117]\tvalid_0's l1: 0.160202\n",
      "[118]\tvalid_0's l1: 0.160201\n",
      "[119]\tvalid_0's l1: 0.160196\n",
      "[120]\tvalid_0's l1: 0.160191\n",
      "[121]\tvalid_0's l1: 0.160188\n",
      "[122]\tvalid_0's l1: 0.160179\n",
      "[123]\tvalid_0's l1: 0.160179\n",
      "[124]\tvalid_0's l1: 0.160177\n",
      "[125]\tvalid_0's l1: 0.160171\n",
      "[126]\tvalid_0's l1: 0.16017\n",
      "[127]\tvalid_0's l1: 0.160163\n",
      "[128]\tvalid_0's l1: 0.160159\n",
      "[129]\tvalid_0's l1: 0.16016\n",
      "[130]\tvalid_0's l1: 0.160156\n",
      "[131]\tvalid_0's l1: 0.160153\n",
      "[132]\tvalid_0's l1: 0.160153\n",
      "[133]\tvalid_0's l1: 0.160149\n",
      "[134]\tvalid_0's l1: 0.160141\n",
      "[135]\tvalid_0's l1: 0.160139\n",
      "[136]\tvalid_0's l1: 0.160136\n",
      "[137]\tvalid_0's l1: 0.160135\n",
      "[138]\tvalid_0's l1: 0.160134\n",
      "[139]\tvalid_0's l1: 0.160132\n",
      "[140]\tvalid_0's l1: 0.160128\n",
      "[141]\tvalid_0's l1: 0.160117\n",
      "[142]\tvalid_0's l1: 0.160116\n",
      "[143]\tvalid_0's l1: 0.160111\n",
      "[144]\tvalid_0's l1: 0.160108\n",
      "[145]\tvalid_0's l1: 0.160103\n",
      "[146]\tvalid_0's l1: 0.16009\n",
      "[147]\tvalid_0's l1: 0.160085\n",
      "[148]\tvalid_0's l1: 0.160083\n",
      "[149]\tvalid_0's l1: 0.160072\n",
      "[150]\tvalid_0's l1: 0.160066\n",
      "[151]\tvalid_0's l1: 0.160062\n",
      "[152]\tvalid_0's l1: 0.160056\n",
      "[153]\tvalid_0's l1: 0.160054\n",
      "[154]\tvalid_0's l1: 0.160051\n",
      "[155]\tvalid_0's l1: 0.16005\n",
      "[156]\tvalid_0's l1: 0.160042\n",
      "[157]\tvalid_0's l1: 0.160035\n",
      "[158]\tvalid_0's l1: 0.160032\n",
      "[159]\tvalid_0's l1: 0.160022\n",
      "[160]\tvalid_0's l1: 0.160015\n",
      "[161]\tvalid_0's l1: 0.160009\n",
      "[162]\tvalid_0's l1: 0.160008\n",
      "[163]\tvalid_0's l1: 0.160006\n",
      "[164]\tvalid_0's l1: 0.160001\n",
      "[165]\tvalid_0's l1: 0.159999\n",
      "[166]\tvalid_0's l1: 0.160001\n",
      "[167]\tvalid_0's l1: 0.159998\n",
      "[168]\tvalid_0's l1: 0.159991\n",
      "[169]\tvalid_0's l1: 0.159989\n",
      "[170]\tvalid_0's l1: 0.159985\n",
      "[171]\tvalid_0's l1: 0.159978\n",
      "[172]\tvalid_0's l1: 0.159977\n",
      "[173]\tvalid_0's l1: 0.159975\n",
      "[174]\tvalid_0's l1: 0.15997\n",
      "[175]\tvalid_0's l1: 0.159965\n",
      "[176]\tvalid_0's l1: 0.159964\n",
      "[177]\tvalid_0's l1: 0.159954\n",
      "[178]\tvalid_0's l1: 0.159951\n",
      "[179]\tvalid_0's l1: 0.159948\n",
      "[180]\tvalid_0's l1: 0.159948\n",
      "[181]\tvalid_0's l1: 0.159948\n",
      "[182]\tvalid_0's l1: 0.15995\n",
      "[183]\tvalid_0's l1: 0.159947\n",
      "[184]\tvalid_0's l1: 0.159947\n",
      "[185]\tvalid_0's l1: 0.159945\n",
      "[186]\tvalid_0's l1: 0.159938\n",
      "[187]\tvalid_0's l1: 0.15993\n",
      "[188]\tvalid_0's l1: 0.159926\n",
      "[189]\tvalid_0's l1: 0.159927\n",
      "[190]\tvalid_0's l1: 0.159919\n",
      "[191]\tvalid_0's l1: 0.159912\n",
      "[192]\tvalid_0's l1: 0.159912\n",
      "[193]\tvalid_0's l1: 0.159913\n",
      "[194]\tvalid_0's l1: 0.15991\n",
      "[195]\tvalid_0's l1: 0.159906\n",
      "[196]\tvalid_0's l1: 0.159905\n",
      "[197]\tvalid_0's l1: 0.159898\n",
      "[198]\tvalid_0's l1: 0.159892\n",
      "[199]\tvalid_0's l1: 0.159888\n",
      "[200]\tvalid_0's l1: 0.159887\n",
      "[201]\tvalid_0's l1: 0.159882\n",
      "[202]\tvalid_0's l1: 0.159875\n",
      "[203]\tvalid_0's l1: 0.159872\n",
      "[204]\tvalid_0's l1: 0.159864\n",
      "[205]\tvalid_0's l1: 0.159862\n",
      "[206]\tvalid_0's l1: 0.159864\n",
      "[207]\tvalid_0's l1: 0.159863\n",
      "[208]\tvalid_0's l1: 0.159859\n",
      "[209]\tvalid_0's l1: 0.159861\n",
      "[210]\tvalid_0's l1: 0.15986\n",
      "[211]\tvalid_0's l1: 0.159857\n",
      "[212]\tvalid_0's l1: 0.159855\n",
      "[213]\tvalid_0's l1: 0.159853\n",
      "[214]\tvalid_0's l1: 0.15985\n",
      "[215]\tvalid_0's l1: 0.159851\n",
      "[216]\tvalid_0's l1: 0.159844\n",
      "[217]\tvalid_0's l1: 0.159843\n",
      "[218]\tvalid_0's l1: 0.159844\n",
      "[219]\tvalid_0's l1: 0.159842\n",
      "[220]\tvalid_0's l1: 0.159841\n",
      "[221]\tvalid_0's l1: 0.159841\n",
      "[222]\tvalid_0's l1: 0.159839\n",
      "[223]\tvalid_0's l1: 0.159832\n",
      "[224]\tvalid_0's l1: 0.159832\n",
      "[225]\tvalid_0's l1: 0.159824\n",
      "[226]\tvalid_0's l1: 0.159822\n",
      "[227]\tvalid_0's l1: 0.159822\n",
      "[228]\tvalid_0's l1: 0.159817\n",
      "[229]\tvalid_0's l1: 0.159815\n",
      "[230]\tvalid_0's l1: 0.159816\n",
      "[231]\tvalid_0's l1: 0.159811\n",
      "[232]\tvalid_0's l1: 0.159811\n",
      "[233]\tvalid_0's l1: 0.15981\n",
      "[234]\tvalid_0's l1: 0.159809\n",
      "[235]\tvalid_0's l1: 0.159806\n",
      "[236]\tvalid_0's l1: 0.159804\n",
      "[237]\tvalid_0's l1: 0.159803\n",
      "[238]\tvalid_0's l1: 0.159801\n",
      "[239]\tvalid_0's l1: 0.159798\n",
      "[240]\tvalid_0's l1: 0.159795\n",
      "[241]\tvalid_0's l1: 0.159793\n",
      "[242]\tvalid_0's l1: 0.159789\n",
      "[243]\tvalid_0's l1: 0.159784\n",
      "[244]\tvalid_0's l1: 0.15979\n",
      "[245]\tvalid_0's l1: 0.159785\n",
      "[246]\tvalid_0's l1: 0.159784\n",
      "[247]\tvalid_0's l1: 0.159781\n",
      "[248]\tvalid_0's l1: 0.159785\n",
      "[249]\tvalid_0's l1: 0.159783\n",
      "[250]\tvalid_0's l1: 0.159782\n",
      "[251]\tvalid_0's l1: 0.15978\n",
      "[252]\tvalid_0's l1: 0.159779\n",
      "[253]\tvalid_0's l1: 0.159773\n",
      "[254]\tvalid_0's l1: 0.159774\n",
      "[255]\tvalid_0's l1: 0.159773\n",
      "[256]\tvalid_0's l1: 0.159773\n",
      "[257]\tvalid_0's l1: 0.159768\n",
      "[258]\tvalid_0's l1: 0.159768\n",
      "[259]\tvalid_0's l1: 0.159765\n",
      "[260]\tvalid_0's l1: 0.159761\n",
      "[261]\tvalid_0's l1: 0.159759\n",
      "[262]\tvalid_0's l1: 0.159756\n",
      "[263]\tvalid_0's l1: 0.159754\n",
      "[264]\tvalid_0's l1: 0.159752\n",
      "[265]\tvalid_0's l1: 0.159747\n",
      "[266]\tvalid_0's l1: 0.159745\n",
      "[267]\tvalid_0's l1: 0.159745\n",
      "[268]\tvalid_0's l1: 0.159739\n",
      "[269]\tvalid_0's l1: 0.15974\n",
      "[270]\tvalid_0's l1: 0.159737\n",
      "[271]\tvalid_0's l1: 0.159737\n",
      "[272]\tvalid_0's l1: 0.159735\n",
      "[273]\tvalid_0's l1: 0.159735\n",
      "[274]\tvalid_0's l1: 0.159732\n",
      "[275]\tvalid_0's l1: 0.159732\n",
      "[276]\tvalid_0's l1: 0.159734\n",
      "[277]\tvalid_0's l1: 0.159732\n",
      "[278]\tvalid_0's l1: 0.159731\n",
      "[279]\tvalid_0's l1: 0.159729\n",
      "[280]\tvalid_0's l1: 0.159724\n",
      "[281]\tvalid_0's l1: 0.159723\n",
      "[282]\tvalid_0's l1: 0.159723\n",
      "[283]\tvalid_0's l1: 0.159721\n",
      "[284]\tvalid_0's l1: 0.159721\n",
      "[285]\tvalid_0's l1: 0.159717\n",
      "[286]\tvalid_0's l1: 0.159714\n",
      "[287]\tvalid_0's l1: 0.159711\n",
      "[288]\tvalid_0's l1: 0.159712\n",
      "[289]\tvalid_0's l1: 0.159713\n",
      "[290]\tvalid_0's l1: 0.159712\n",
      "[291]\tvalid_0's l1: 0.15971\n",
      "[292]\tvalid_0's l1: 0.159712\n",
      "[293]\tvalid_0's l1: 0.159705\n",
      "[294]\tvalid_0's l1: 0.159701\n",
      "[295]\tvalid_0's l1: 0.159695\n",
      "[296]\tvalid_0's l1: 0.159692\n",
      "[297]\tvalid_0's l1: 0.159683\n",
      "[298]\tvalid_0's l1: 0.159682\n",
      "[299]\tvalid_0's l1: 0.159678\n",
      "[300]\tvalid_0's l1: 0.159679\n",
      "[301]\tvalid_0's l1: 0.159678\n",
      "[302]\tvalid_0's l1: 0.159673\n",
      "[303]\tvalid_0's l1: 0.159671\n",
      "[304]\tvalid_0's l1: 0.159673\n",
      "[305]\tvalid_0's l1: 0.159672\n",
      "[306]\tvalid_0's l1: 0.159668\n",
      "[307]\tvalid_0's l1: 0.159664\n",
      "[308]\tvalid_0's l1: 0.159658\n",
      "[309]\tvalid_0's l1: 0.159659\n",
      "[310]\tvalid_0's l1: 0.159657\n",
      "[311]\tvalid_0's l1: 0.159653\n",
      "[312]\tvalid_0's l1: 0.15965\n",
      "[313]\tvalid_0's l1: 0.159649\n",
      "[314]\tvalid_0's l1: 0.15965\n",
      "[315]\tvalid_0's l1: 0.159648\n",
      "[316]\tvalid_0's l1: 0.15965\n",
      "[317]\tvalid_0's l1: 0.159648\n",
      "[318]\tvalid_0's l1: 0.159646\n",
      "[319]\tvalid_0's l1: 0.159645\n",
      "[320]\tvalid_0's l1: 0.159643\n",
      "[321]\tvalid_0's l1: 0.15964\n",
      "[322]\tvalid_0's l1: 0.159638\n",
      "[323]\tvalid_0's l1: 0.159636\n",
      "[324]\tvalid_0's l1: 0.159634\n",
      "[325]\tvalid_0's l1: 0.159631\n",
      "[326]\tvalid_0's l1: 0.159628\n",
      "[327]\tvalid_0's l1: 0.159625\n",
      "[328]\tvalid_0's l1: 0.159623\n",
      "[329]\tvalid_0's l1: 0.159622\n",
      "[330]\tvalid_0's l1: 0.159622\n",
      "[331]\tvalid_0's l1: 0.159617\n",
      "[332]\tvalid_0's l1: 0.159616\n",
      "[333]\tvalid_0's l1: 0.159612\n",
      "[334]\tvalid_0's l1: 0.15961\n",
      "[335]\tvalid_0's l1: 0.159608\n",
      "[336]\tvalid_0's l1: 0.159606\n",
      "[337]\tvalid_0's l1: 0.159602\n",
      "[338]\tvalid_0's l1: 0.159598\n",
      "[339]\tvalid_0's l1: 0.159598\n",
      "[340]\tvalid_0's l1: 0.159595\n",
      "[341]\tvalid_0's l1: 0.159596\n",
      "[342]\tvalid_0's l1: 0.159592\n",
      "[343]\tvalid_0's l1: 0.159592\n",
      "[344]\tvalid_0's l1: 0.15959\n",
      "[345]\tvalid_0's l1: 0.159587\n",
      "[346]\tvalid_0's l1: 0.159586\n",
      "[347]\tvalid_0's l1: 0.159585\n",
      "[348]\tvalid_0's l1: 0.159586\n",
      "[349]\tvalid_0's l1: 0.159587\n",
      "[350]\tvalid_0's l1: 0.159588\n",
      "[351]\tvalid_0's l1: 0.159588\n",
      "[352]\tvalid_0's l1: 0.159594\n",
      "Early stopping, best iteration is:\n",
      "[347]\tvalid_0's l1: 0.159585\n",
      "RMSE:  0.23477748239051494\n"
     ]
    }
   ],
   "source": [
    "tuned_gbm = lgb.LGBMRegressor(objective='regression', num_iterations=500,\n",
    "                             boosting='dart', learning_rate=0.1, num_leaves=111, verbosity=0)\n",
    "\n",
    "tuned_gbm.fit(X_train_new, y_train, eval_set=[(X_test_new, y_test)], eval_metric='l1', early_stopping_rounds=5)\n",
    "y_pred = tuned_gbm.predict(X_test_new, num_iteration=gbm.best_iteration_)\n",
    "\n",
    "print('RMSE: ', sqrt(mse(y_test, y_pred)))"
   ]
  },
  {
   "cell_type": "code",
   "execution_count": 87,
   "metadata": {
    "collapsed": true
   },
   "outputs": [],
   "source": [
    "y_pred_final6 = tuned_gbm.predict(X_test_final_new)\n",
    "save_submission(y_pred_final6, test_df['item_id'], 'submit6.csv')"
   ]
  },
  {
   "cell_type": "markdown",
   "metadata": {},
   "source": [
    "Скор увеличился на обоих выборках. Финальный результат на тестовой - 0.2400. Последний самбишн поднял меня еще на 12 мест."
   ]
  },
  {
   "cell_type": "markdown",
   "metadata": {},
   "source": [
    "### 7. Выводы\n",
    "\n",
    "Финальные результаты:\n",
    "\n",
    "| Submission | Holdout RMSE | Test RMSE |\n",
    "|------|------||------|\n",
    "|1. LinearRegression + 1 feature | 0.247 | 0.2527 |\n",
    "|2. XGBRegressor + 1 feature | 0.246 | 0.2517 |\n",
    "|3. LGBMRegressor + 1 feature | 0.242 | 0.2484 |\n",
    "|4. LGBMRegressor + 4 features | 0.236 | 0.2411 |\n",
    "|5. LGBMRegressor + scaled data (4 features) | 0.236 | 0.2412 |\n",
    "|6. tuned LGBMRegressor + non-scaled data (4 features) | 0.235 | 0.2400 |\n",
    "\n",
    "\n",
    "#### Что еще можно было бы сделать?\n",
    "- нормализовать текстовые данные\n",
    "- добавить еще больше признаков (например, title, city, param_1)\n",
    "- увеличить размерность TruncatedSVD\n",
    "- перебрать больший набор гиперпараметров для регрессора\n",
    "- попробовать настекать алгоритмы\n",
    "\n",
    "Сабмишены: https://www.kaggle.com/c/avito-demand-prediction/submissions?sortBy=date&group=all&page=1"
   ]
  }
 ],
 "metadata": {
  "kernelspec": {
   "display_name": "Python 3",
   "language": "python",
   "name": "python3"
  },
  "language_info": {
   "codemirror_mode": {
    "name": "ipython",
    "version": 3
   },
   "file_extension": ".py",
   "mimetype": "text/x-python",
   "name": "python",
   "nbconvert_exporter": "python",
   "pygments_lexer": "ipython3",
   "version": "3.5.4"
  }
 },
 "nbformat": 4,
 "nbformat_minor": 0
}

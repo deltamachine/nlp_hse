{
 "cells": [
  {
   "cell_type": "code",
   "execution_count": 1,
   "metadata": {
    "collapsed": true
   },
   "outputs": [],
   "source": [
    "import json, os\n",
    "import pandas as pd\n",
    "from nltk.corpus import stopwords\n",
    "import numpy as np\n",
    "from pymorphy2 import MorphAnalyzer\n",
    "from collections import Counter\n",
    "from sklearn.feature_extraction.text import TfidfVectorizer\n",
    "morph = MorphAnalyzer()\n",
    "stops = set(stopwords.words('russian'))"
   ]
  },
  {
   "cell_type": "code",
   "execution_count": 2,
   "metadata": {
    "collapsed": true
   },
   "outputs": [],
   "source": [
    "pd.set_option('display.max_colwidth', 1000)"
   ]
  },
  {
   "cell_type": "markdown",
   "metadata": {},
   "source": [
    "## Данные"
   ]
  },
  {
   "cell_type": "markdown",
   "metadata": {},
   "source": [
    "Возьмем данные вот отсюда - https://github.com/mannefedov/ru_kw_eval_datasets Там лежат 4 датасета (статьи с хабра, с Russia Today, Независимой газеты и научные статьи с Киберленинки). Датасет НГ самый маленький, поэтому возьмем его в качестве примера."
   ]
  },
  {
   "cell_type": "code",
   "execution_count": 5,
   "metadata": {
    "collapsed": true
   },
   "outputs": [],
   "source": [
    "# скачаем данные в папке data и распакуем их\n",
    "PATH_TO_DATA = 'data'"
   ]
  },
  {
   "cell_type": "code",
   "execution_count": 6,
   "metadata": {
    "collapsed": true
   },
   "outputs": [],
   "source": [
    "files = [os.path.join(PATH_TO_DATA, file) for file in os.listdir(PATH_TO_DATA)]"
   ]
  },
  {
   "cell_type": "markdown",
   "metadata": {},
   "source": [
    "Объединим файлы в один датасет."
   ]
  },
  {
   "cell_type": "code",
   "execution_count": 7,
   "metadata": {
    "collapsed": true
   },
   "outputs": [],
   "source": [
    "data = pd.concat([pd.read_json(file, lines=True) for file in files], axis=0, ignore_index=True)"
   ]
  },
  {
   "cell_type": "code",
   "execution_count": 8,
   "metadata": {},
   "outputs": [
    {
     "data": {
      "text/plain": [
       "(1987, 5)"
      ]
     },
     "execution_count": 8,
     "metadata": {},
     "output_type": "execute_result"
    }
   ],
   "source": [
    "data.shape"
   ]
  },
  {
   "cell_type": "code",
   "execution_count": 9,
   "metadata": {},
   "outputs": [
    {
     "data": {
      "text/html": [
       "<div>\n",
       "<style>\n",
       "    .dataframe thead tr:only-child th {\n",
       "        text-align: right;\n",
       "    }\n",
       "\n",
       "    .dataframe thead th {\n",
       "        text-align: left;\n",
       "    }\n",
       "\n",
       "    .dataframe tbody tr th {\n",
       "        vertical-align: top;\n",
       "    }\n",
       "</style>\n",
       "<table border=\"1\" class=\"dataframe\">\n",
       "  <thead>\n",
       "    <tr style=\"text-align: right;\">\n",
       "      <th></th>\n",
       "      <th>content</th>\n",
       "      <th>keywords</th>\n",
       "      <th>summary</th>\n",
       "      <th>title</th>\n",
       "      <th>url</th>\n",
       "    </tr>\n",
       "  </thead>\n",
       "  <tbody>\n",
       "    <tr>\n",
       "      <th>0</th>\n",
       "      <td>В среду состоялось отложенное заседание Совета по федеральным государственным образовательным стандартам (ФГОС) при Министерстве образования и науки РФ. Собрание должно было состояться еще в понедельник, но было перенесено по просьбе членов совета. И вот пришло сообщение, что общественники выразили согласие с позицией министерства. Новые ФГОСы приняты.\\nНа вчерашнем заседании был принят ФГОС по начальной общеобразовательной школе. До 28 марта продлятся косультации по ФГОСам для средней школы.\\nНапомним, что накануне Гильдия словесников разместила открытое письмо на имя министра образования и науки РФ Ольги Васильевой. По мнению авторов письма, новые ФГОСы грубо нарушают права детей, уже проучившихся по существующему стандарту до 6-го класса. Приняв новый стандарт, Министерство образования дает право контролирующим органам ловить детей на незнании большого списка произведений (235 за пять лет обучения). «Это исключает возможность полноценного их освоения, создает риск формального, п...</td>\n",
       "      <td>[школа, образовательные стандарты, литература, история, фгос]</td>\n",
       "      <td>Глава Минобрнауки считает, что в нездоровом ажиотаже вокруг новых образовательных стандартов виноваты издательства учебной литературы</td>\n",
       "      <td>Ольга Васильева обещала \"НГ\" не перегружать школьников</td>\n",
       "      <td>https://amp.ng.ru/?p=http://www.ng.ru/education/2018-03-22/8_7195_school.html</td>\n",
       "    </tr>\n",
       "    <tr>\n",
       "      <th>1</th>\n",
       "      <td>Хорошо, когда красота в глазах смотрящего живет свободно или хотя бы занимает широкий угол зрения. Плохо было б, если б она вовсе не озаряла своим светом космическую темень пустоты зрачка. Слава богу, такое вряд ли возможно. \\nА случается, что красота уходит. Почему вдруг? И куда она девается, когда в один из философских обходов своего организма вы, еще недавно гордый ее обладатель, обескураженно ее  недосчитываетесь? \\nВообразите: прелестнейшее из созданий – ваша кошка пластичнейшими движениями рвет банкноту за банкнотой, забирается на карниз по шелковой занавеске или отгрызает полпаспорта. Где, скажите, теперь красота этой кошки? Или другой пример – с зазнобой сердца. Предмет романтичнейших грез наконец-то садится с вами на заветную скамейку в парке – закат, пение птах… И тут он силой своего обаяния с оглушительным плюхом обрушивает вокруг вас красоту и гармонию столетних дубов, тополей и прочего. Где, спрашивается, красота момента? \\nЕсли от сказки после того, как ее рассказали,...</td>\n",
       "      <td>[красота, законы]</td>\n",
       "      <td>О живительной пользе укорота при выборе между плохим и хорошим</td>\n",
       "      <td>У красоты собственные закон и воля</td>\n",
       "      <td>https://amp.ng.ru/?p=http://www.ng.ru/style/2018-03-19/8_7192_beauty.html</td>\n",
       "    </tr>\n",
       "    <tr>\n",
       "      <th>2</th>\n",
       "      <td>Когда-то Леонид Юзефович написал книгу о монгольской эпопее барона Унгерна «Самодержец пустыни» – она стала интеллектуальным бестселлером и классикой жанра – документальный роман. В то время автор попутно изучал и историю вооруженного восстания в Якутии в 1922–1923 годах под руководством Анатолия Пепеляева. И вот теперь из «якутского» материала сложилась отдельная книга. Тема ее для нынешнего читателя поистине раритетна. Ведь воевавший где-то на самом краю страны Пепеляев практически забыт, притом что о борьбе с ним когда-то в СССР выходили статьи и книги. В памяти потомков, образно говоря, от Пепеляева остался только пепел.\\nЮзефович воскрешает в памяти не только его военные дела, но и человеческие черты. Этот провинциальный интеллигент, неврастеник и фаталист, начал восстание, практически не имея шансов на успех. Однако силою недюжинной харизмы Пепеляев сумел собрать вокруг себя многих боевых офицеров, таежных охотников и недовольных новыми порядками аборигенов. Для своих 32 лет ...</td>\n",
       "      <td>[юзефович, гражданская война, пепеляев, якутия]</td>\n",
       "      <td>Крепость из тел и призрак независимой Якутии</td>\n",
       "      <td>Апокалиптический бунт</td>\n",
       "      <td>https://amp.ng.ru/?p=http://www.ng.ru/zavisimaya/2017-12-19/15_7139_bunt.html</td>\n",
       "    </tr>\n",
       "  </tbody>\n",
       "</table>\n",
       "</div>"
      ],
      "text/plain": [
       "                                                                                                                                                                                                                                                                                                                                                                                                                                                                                                                                                                                                                                                                                                                                                                                                                                                                                                                                                                                                                                   content  \\\n",
       "0  В среду состоялось отложенное заседание Совета по федеральным государственным образовательным стандартам (ФГОС) при Министерстве образования и науки РФ. Собрание должно было состояться еще в понедельник, но было перенесено по просьбе членов совета. И вот пришло сообщение, что общественники выразили согласие с позицией министерства. Новые ФГОСы приняты.\\nНа вчерашнем заседании был принят ФГОС по начальной общеобразовательной школе. До 28 марта продлятся косультации по ФГОСам для средней школы.\\nНапомним, что накануне Гильдия словесников разместила открытое письмо на имя министра образования и науки РФ Ольги Васильевой. По мнению авторов письма, новые ФГОСы грубо нарушают права детей, уже проучившихся по существующему стандарту до 6-го класса. Приняв новый стандарт, Министерство образования дает право контролирующим органам ловить детей на незнании большого списка произведений (235 за пять лет обучения). «Это исключает возможность полноценного их освоения, создает риск формального, п...   \n",
       "1  Хорошо, когда красота в глазах смотрящего живет свободно или хотя бы занимает широкий угол зрения. Плохо было б, если б она вовсе не озаряла своим светом космическую темень пустоты зрачка. Слава богу, такое вряд ли возможно. \\nА случается, что красота уходит. Почему вдруг? И куда она девается, когда в один из философских обходов своего организма вы, еще недавно гордый ее обладатель, обескураженно ее  недосчитываетесь? \\nВообразите: прелестнейшее из созданий – ваша кошка пластичнейшими движениями рвет банкноту за банкнотой, забирается на карниз по шелковой занавеске или отгрызает полпаспорта. Где, скажите, теперь красота этой кошки? Или другой пример – с зазнобой сердца. Предмет романтичнейших грез наконец-то садится с вами на заветную скамейку в парке – закат, пение птах… И тут он силой своего обаяния с оглушительным плюхом обрушивает вокруг вас красоту и гармонию столетних дубов, тополей и прочего. Где, спрашивается, красота момента? \\nЕсли от сказки после того, как ее рассказали,...   \n",
       "2  Когда-то Леонид Юзефович написал книгу о монгольской эпопее барона Унгерна «Самодержец пустыни» – она стала интеллектуальным бестселлером и классикой жанра – документальный роман. В то время автор попутно изучал и историю вооруженного восстания в Якутии в 1922–1923 годах под руководством Анатолия Пепеляева. И вот теперь из «якутского» материала сложилась отдельная книга. Тема ее для нынешнего читателя поистине раритетна. Ведь воевавший где-то на самом краю страны Пепеляев практически забыт, притом что о борьбе с ним когда-то в СССР выходили статьи и книги. В памяти потомков, образно говоря, от Пепеляева остался только пепел.\\nЮзефович воскрешает в памяти не только его военные дела, но и человеческие черты. Этот провинциальный интеллигент, неврастеник и фаталист, начал восстание, практически не имея шансов на успех. Однако силою недюжинной харизмы Пепеляев сумел собрать вокруг себя многих боевых офицеров, таежных охотников и недовольных новыми порядками аборигенов. Для своих 32 лет ...   \n",
       "\n",
       "                                                        keywords  \\\n",
       "0  [школа, образовательные стандарты, литература, история, фгос]   \n",
       "1                                              [красота, законы]   \n",
       "2                [юзефович, гражданская война, пепеляев, якутия]   \n",
       "\n",
       "                                                                                                                                 summary  \\\n",
       "0  Глава Минобрнауки считает, что в нездоровом ажиотаже вокруг новых образовательных стандартов виноваты издательства учебной литературы   \n",
       "1                                                                         О живительной пользе укорота при выборе между плохим и хорошим   \n",
       "2                                                                                           Крепость из тел и призрак независимой Якутии   \n",
       "\n",
       "                                                    title  \\\n",
       "0  Ольга Васильева обещала \"НГ\" не перегружать школьников   \n",
       "1                      У красоты собственные закон и воля   \n",
       "2                                   Апокалиптический бунт   \n",
       "\n",
       "                                                                             url  \n",
       "0  https://amp.ng.ru/?p=http://www.ng.ru/education/2018-03-22/8_7195_school.html  \n",
       "1      https://amp.ng.ru/?p=http://www.ng.ru/style/2018-03-19/8_7192_beauty.html  \n",
       "2  https://amp.ng.ru/?p=http://www.ng.ru/zavisimaya/2017-12-19/15_7139_bunt.html  "
      ]
     },
     "execution_count": 9,
     "metadata": {},
     "output_type": "execute_result"
    }
   ],
   "source": [
    "data.head(3)"
   ]
  },
  {
   "cell_type": "markdown",
   "metadata": {},
   "source": [
    "Каждой статье приписано какое-то количество ключевых слов. Допустим, что это единственно правильный набор ключевых слов (что конечно не так, но других данных у нас нет). Наша задача - придумать как извлекать точно такой же список автоматически.  \n",
    "Зададим несколько метрик, по которым будем определять качество извлекаемых ключевых слов - точность, полноту, ф1-меру и меру жаккарда."
   ]
  },
  {
   "cell_type": "code",
   "execution_count": 11,
   "metadata": {
    "collapsed": true
   },
   "outputs": [],
   "source": [
    "def evaluate(true_kws, predicted_kws):\n",
    "    assert len(true_kws) == len(predicted_kws)\n",
    "    \n",
    "    precisions = []\n",
    "    recalls = []\n",
    "    f1s = []\n",
    "    jaccards = []\n",
    "    \n",
    "    for i in range(len(true_kws)):\n",
    "        true_kw = set(true_kws[i])\n",
    "        predicted_kw = set(predicted_kws[i])\n",
    "        \n",
    "        tp = len(true_kw & predicted_kw)\n",
    "        union = len(true_kw | predicted_kw)\n",
    "        fp = len(predicted_kw - true_kw)\n",
    "        fn = len(true_kw - predicted_kw)\n",
    "        \n",
    "        if (tp+fp) == 0:\n",
    "            prec = 0\n",
    "        else:\n",
    "            prec = tp / (tp + fp)\n",
    "        \n",
    "        if (tp+fn) == 0:\n",
    "            rec = 0\n",
    "        else:\n",
    "            rec = tp / (tp + fn)\n",
    "        if (prec+rec) == 0:\n",
    "            f1 = 0\n",
    "        else:\n",
    "            f1 = (2*(prec*rec))/(prec+rec)\n",
    "            \n",
    "        jac = tp / union\n",
    "        \n",
    "        precisions.append(prec)\n",
    "        recalls.append(rec)\n",
    "        f1s.append(f1)\n",
    "        jaccards.append(jac)\n",
    "    print('Precision - ', round(np.mean(precisions), 2))\n",
    "    print('Recall - ', round(np.mean(recalls), 2))\n",
    "    print('F1 - ', round(np.mean(f1s), 2))\n",
    "    print('Jaccard - ', round(np.mean(jaccards), 2))\n",
    "    \n",
    "    \n",
    "        "
   ]
  },
  {
   "cell_type": "markdown",
   "metadata": {},
   "source": [
    "Проверим, что всё работает как надо."
   ]
  },
  {
   "cell_type": "code",
   "execution_count": 12,
   "metadata": {},
   "outputs": [
    {
     "name": "stdout",
     "output_type": "stream",
     "text": [
      "Precision -  1.0\n",
      "Recall -  1.0\n",
      "F1 -  1.0\n",
      "Jaccard -  1.0\n"
     ]
    }
   ],
   "source": [
    "evaluate(data['keywords'], data['keywords'])"
   ]
  },
  {
   "cell_type": "markdown",
   "metadata": {},
   "source": [
    "# Тупое решение."
   ]
  },
  {
   "cell_type": "markdown",
   "metadata": {},
   "source": [
    "Давайте не будем думать, а попробуем сразу придумать какое-то решение."
   ]
  },
  {
   "cell_type": "markdown",
   "metadata": {},
   "source": [
    "Возьмем первые 5 слов из заголовка."
   ]
  },
  {
   "cell_type": "code",
   "execution_count": 13,
   "metadata": {},
   "outputs": [
    {
     "name": "stdout",
     "output_type": "stream",
     "text": [
      "Precision -  0.06\n",
      "Recall -  0.05\n",
      "F1 -  0.05\n",
      "Jaccard -  0.03\n"
     ]
    }
   ],
   "source": [
    "evaluate(data['keywords'], data['title'].apply(lambda x: x.lower().split()[:5]))"
   ]
  },
  {
   "cell_type": "markdown",
   "metadata": {},
   "source": [
    "Или 10."
   ]
  },
  {
   "cell_type": "code",
   "execution_count": 14,
   "metadata": {},
   "outputs": [
    {
     "name": "stdout",
     "output_type": "stream",
     "text": [
      "Precision -  0.06\n",
      "Recall -  0.06\n",
      "F1 -  0.05\n",
      "Jaccard -  0.03\n"
     ]
    }
   ],
   "source": [
    "evaluate(data['keywords'], data['title'].apply(lambda x: x.lower().split()[:10]))"
   ]
  },
  {
   "cell_type": "markdown",
   "metadata": {},
   "source": [
    "Теперь попробуем взять самые частотные слова."
   ]
  },
  {
   "cell_type": "code",
   "execution_count": 15,
   "metadata": {},
   "outputs": [
    {
     "name": "stdout",
     "output_type": "stream",
     "text": [
      "Precision -  0.02\n",
      "Recall -  0.04\n",
      "F1 -  0.02\n",
      "Jaccard -  0.01\n"
     ]
    }
   ],
   "source": [
    "evaluate(data['keywords'], data['content'].apply(lambda x: \n",
    "                                                 [x[0] for x in Counter(x.lower().split()).most_common(10)]))"
   ]
  },
  {
   "cell_type": "markdown",
   "metadata": {},
   "source": [
    "Или вообще рандомные слова."
   ]
  },
  {
   "cell_type": "code",
   "execution_count": 16,
   "metadata": {},
   "outputs": [
    {
     "name": "stdout",
     "output_type": "stream",
     "text": [
      "Precision -  0.01\n",
      "Recall -  0.01\n",
      "F1 -  0.01\n",
      "Jaccard -  0.0\n"
     ]
    }
   ],
   "source": [
    "evaluate(data['keywords'], data['content'].apply(lambda x: \n",
    "                                                 np.random.choice(list(set(x.lower().split())), 10)))"
   ]
  },
  {
   "cell_type": "markdown",
   "metadata": {},
   "source": [
    "Теперь давайте посмотрим, что вообще извлекается."
   ]
  },
  {
   "cell_type": "code",
   "execution_count": 17,
   "metadata": {},
   "outputs": [
    {
     "data": {
      "text/plain": [
       "0                      [ольга, васильева, обещала, \"нг\", не, перегружать, школьников]\n",
       "1                                           [у, красоты, собственные, закон, и, воля]\n",
       "2                                                            [апокалиптический, бунт]\n",
       "3                   [f1., предсказать, результаты, гран-при, испании, было, несложно]\n",
       "4                                               [возвращение, в, небесное, отечество]\n",
       "5                                       [практическая, медицина, с, большим, будущим]\n",
       "6                     [бумажный, носитель., вселенная,, человек,, язык, человеческий]\n",
       "7                                      [в, багдаде, неспокойно,, а, будет, еще, хуже]\n",
       "8    [ученые, предсказывают, появление, интуиции, у, искусственных, нейронных, сетей]\n",
       "9                                  [россияне, от, вступления, в, вто, не, пострадают]\n",
       "Name: title, dtype: object"
      ]
     },
     "execution_count": 17,
     "metadata": {},
     "output_type": "execute_result"
    }
   ],
   "source": [
    "data['title'].apply(lambda x: x.lower().split()[:10]).head(10)"
   ]
  },
  {
   "cell_type": "code",
   "execution_count": 18,
   "metadata": {},
   "outputs": [
    {
     "data": {
      "text/plain": [
       "0                            [и, в, –, по, на, что, с, о, к, не]\n",
       "1                 [и, в, не, что, –, на, красота, вы, если, как]\n",
       "2                     [в, и, не, на, –, от, о, из, пепеляев, но]\n",
       "3                        [в, не, и, на, что, но, это, как, с, к]\n",
       "4                          [и, в, –, не, он, с, на, что, а, его]\n",
       "5                       [и, в, на, –, с, что, не, это, как, уже]\n",
       "6                           [–, и, в, не, на, из, по, что, с, а]\n",
       "7                       [в, и, не, на, но, ли, ираке, что, -, а]\n",
       "8                           [и, в, на, о, с, –, как, а, что, ai]\n",
       "9    [в, на, по, и, что, кристалина, –, россии, георгиева, том,]\n",
       "Name: content, dtype: object"
      ]
     },
     "execution_count": 18,
     "metadata": {},
     "output_type": "execute_result"
    }
   ],
   "source": [
    "data['content'].apply(lambda x: [x[0] for x in Counter(x.lower().split()).most_common(10)]).head(10)"
   ]
  },
  {
   "cell_type": "markdown",
   "metadata": {},
   "source": [
    "Когда извлекаются частотные слова, то список почти полностью состоит из всяких стоп-слов. Также из-за плохой токенизации некоторые слова в обоих списках - пунктуация или слова с пунктуацией на концах. К тому же извлекаемые слова ненормализованы, а правильные ключевые слова - наоборот."
   ]
  },
  {
   "cell_type": "markdown",
   "metadata": {},
   "source": [
    "## Токенизация, удаление стоп-слов и нормализация."
   ]
  },
  {
   "cell_type": "code",
   "execution_count": 21,
   "metadata": {
    "collapsed": true
   },
   "outputs": [],
   "source": [
    "from string import punctuation\n",
    "from nltk.corpus import stopwords\n",
    "punct = punctuation+'«»—…“”*№–'\n",
    "stops = set(stopwords.words('russian'))"
   ]
  },
  {
   "cell_type": "markdown",
   "metadata": {},
   "source": [
    "Ещё остались некоторые стоп-слова. Вместо того, чтобы расширять список, давайте попробуем выкинуть несуществительные."
   ]
  },
  {
   "cell_type": "code",
   "execution_count": 22,
   "metadata": {
    "collapsed": true
   },
   "outputs": [],
   "source": [
    "def normalize(text):\n",
    "    \n",
    "    words = [word.strip(punct) for word in text.lower().split()]\n",
    "    words = [morph.parse(word)[0] for word in words if word and word not in stops]\n",
    "    words = [word.normal_form for word in words if word.tag.POS == 'NOUN']\n",
    "\n",
    "    return words"
   ]
  },
  {
   "cell_type": "code",
   "execution_count": 23,
   "metadata": {
    "collapsed": true
   },
   "outputs": [],
   "source": [
    "data['content_norm'] = data['content'].apply(normalize)"
   ]
  },
  {
   "cell_type": "code",
   "execution_count": 24,
   "metadata": {},
   "outputs": [
    {
     "name": "stdout",
     "output_type": "stream",
     "text": [
      "Precision -  0.13\n",
      "Recall -  0.25\n",
      "F1 -  0.16\n",
      "Jaccard -  0.1\n"
     ]
    }
   ],
   "source": [
    "evaluate(data['keywords'], data['content_norm'].apply(lambda x: [x[0] for x in Counter(x).most_common(10)]))"
   ]
  },
  {
   "cell_type": "markdown",
   "metadata": {},
   "source": [
    "Ещу улучшения!"
   ]
  },
  {
   "cell_type": "code",
   "execution_count": 25,
   "metadata": {},
   "outputs": [
    {
     "data": {
      "text/plain": [
       "0    [стандарт, источник, фгоса, ольга, васильев, результат, предмет, школа, письмо, произведение]\n",
       "1                      [красота, глаз, отчаяние, порыв, кошка, предмет, дело, руина, место, мечта]\n",
       "2                    [пепеляев, юзеф, книга, якутия, восстание, год, война, место, леонид, сибирь]\n",
       "3                    [гонка, команда, пилот, сезон, время, машина, место, круг, гран-при, испания]\n",
       "4                    [есенин, поэт, клюев, год, жизнь, смерть, сергей, человек, борода, мариенгоф]\n",
       "5       [медицина, кафедра, выпускник, уровень, работа, год, практика, ординатор, рудна, обучение]\n",
       "6               [книга, человек, мозг, говор, анатомия, глава, звезда, вопрос, слово, азербайджан]\n",
       "7       [ирак, война, американец, войско, структура, принцип, взрыв, центр, террорист, количество]\n",
       "8    [нейросеть, клетка, интеллект, время, основа, изображение, задача, работа, система, внимание]\n",
       "9      [россия, вступление, кристалина, георгиев, вто, банка, страна, переговоры, директор, слово]\n",
       "Name: content_norm, dtype: object"
      ]
     },
     "execution_count": 25,
     "metadata": {},
     "output_type": "execute_result"
    }
   ],
   "source": [
    "data['content_norm'].apply(lambda x: [x[0] for x in Counter(x).most_common(10)]).head(10)"
   ]
  },
  {
   "cell_type": "markdown",
   "metadata": {},
   "source": [
    "Не очень значимые слова все ещё остались. Давайте попробуем отсеять стоп-слова с помощью tfidf."
   ]
  },
  {
   "cell_type": "markdown",
   "metadata": {},
   "source": [
    "Воспользуемся TfidfVectorizer."
   ]
  },
  {
   "cell_type": "code",
   "execution_count": 26,
   "metadata": {
    "collapsed": true
   },
   "outputs": [],
   "source": [
    "data['content_norm_str'] = data['content_norm'].apply(' '.join)"
   ]
  },
  {
   "cell_type": "code",
   "execution_count": 27,
   "metadata": {
    "collapsed": true
   },
   "outputs": [],
   "source": [
    "# можно заодно сделать нграммы\n",
    "tfidf = TfidfVectorizer(ngram_range=(1,2), min_df=5)"
   ]
  },
  {
   "cell_type": "code",
   "execution_count": 28,
   "metadata": {},
   "outputs": [
    {
     "data": {
      "text/plain": [
       "TfidfVectorizer(analyzer='word', binary=False, decode_error='strict',\n",
       "        dtype=<class 'numpy.int64'>, encoding='utf-8', input='content',\n",
       "        lowercase=True, max_df=1.0, max_features=None, min_df=5,\n",
       "        ngram_range=(1, 2), norm='l2', preprocessor=None, smooth_idf=True,\n",
       "        stop_words=None, strip_accents=None, sublinear_tf=False,\n",
       "        token_pattern='(?u)\\\\b\\\\w\\\\w+\\\\b', tokenizer=None, use_idf=True,\n",
       "        vocabulary=None)"
      ]
     },
     "execution_count": 28,
     "metadata": {},
     "output_type": "execute_result"
    }
   ],
   "source": [
    "tfidf.fit(data['content_norm_str'])"
   ]
  },
  {
   "cell_type": "code",
   "execution_count": 29,
   "metadata": {
    "collapsed": true
   },
   "outputs": [],
   "source": [
    "id2word = {i:word for i,word in enumerate(tfidf.get_feature_names())}"
   ]
  },
  {
   "cell_type": "markdown",
   "metadata": {},
   "source": [
    "Преобразуем наши тексты в векторы, где на позиции i стоит tfidf коэффициент слова i из словаря."
   ]
  },
  {
   "cell_type": "code",
   "execution_count": 30,
   "metadata": {
    "collapsed": true
   },
   "outputs": [],
   "source": [
    "texts_vectors = tfidf.transform(data['content_norm_str'])"
   ]
  },
  {
   "cell_type": "markdown",
   "metadata": {},
   "source": [
    "Отсортируем векторы текстов по этим коэффициентам и возьмем топ-10."
   ]
  },
  {
   "cell_type": "code",
   "execution_count": 31,
   "metadata": {
    "collapsed": true
   },
   "outputs": [],
   "source": [
    "# сортировка по убыванию, поэтому нужно развернуть список\n",
    "keywords = [[id2word[w] for w in top] for top in texts_vectors.toarray().argsort()[:,:-11:-1]] "
   ]
  },
  {
   "cell_type": "code",
   "execution_count": 32,
   "metadata": {},
   "outputs": [
    {
     "data": {
      "text/plain": [
       "[['ольга васильев',\n",
       "  'стандарт',\n",
       "  'васильев',\n",
       "  'ольга',\n",
       "  'источник',\n",
       "  'предмет',\n",
       "  'произведение',\n",
       "  'письмо',\n",
       "  'редакция',\n",
       "  'содержание'],\n",
       " ['красота',\n",
       "  'отчаяние',\n",
       "  'порыв',\n",
       "  'кошка',\n",
       "  'глаз',\n",
       "  'руина',\n",
       "  'предмет',\n",
       "  'нелепость',\n",
       "  'занавеска',\n",
       "  'мечта'],\n",
       " ['пепеляев',\n",
       "  'юзеф',\n",
       "  'якутия',\n",
       "  'восстание',\n",
       "  'книга',\n",
       "  'леонид юзеф',\n",
       "  'сибирь',\n",
       "  'леонид',\n",
       "  '20 ха',\n",
       "  'красных']]"
      ]
     },
     "execution_count": 32,
     "metadata": {},
     "output_type": "execute_result"
    }
   ],
   "source": [
    "keywords[:3]"
   ]
  },
  {
   "cell_type": "code",
   "execution_count": 33,
   "metadata": {},
   "outputs": [
    {
     "name": "stdout",
     "output_type": "stream",
     "text": [
      "Precision -  0.13\n",
      "Recall -  0.25\n",
      "F1 -  0.16\n",
      "Jaccard -  0.09\n"
     ]
    }
   ],
   "source": [
    "evaluate(data['keywords'], keywords)"
   ]
  },
  {
   "cell_type": "markdown",
   "metadata": {},
   "source": [
    "Результат ещё немного улучшился. Немного подросла точность. Теперь вместо стоп-слов в ключевые попадают имена и все такое. Иногда это хорощо, а иногда нет (собянин - может быть ключевым словом, а дарья - вряд ли)"
   ]
  },
  {
   "cell_type": "markdown",
   "metadata": {},
   "source": [
    "Возьмем этот результат за baseline. "
   ]
  },
  {
   "cell_type": "markdown",
   "metadata": {},
   "source": [
    "Precision -  0.13\n",
    "Recall -  0.24\n",
    "F1 -  0.16\n",
    "Jaccard -  0.09"
   ]
  },
  {
   "cell_type": "markdown",
   "metadata": {},
   "source": [
    "## Домашнее задание"
   ]
  },
  {
   "cell_type": "markdown",
   "metadata": {},
   "source": [
    "В семинаре установлен такой бейзлан - F1 -  0.16 (не будем учитывать точность и полноту по отдельности и отбросим жаккара)."
   ]
  },
  {
   "cell_type": "markdown",
   "metadata": {},
   "source": [
    "**Ваша задача - предложить 3 способа побить бейзлайн. **"
   ]
  },
  {
   "cell_type": "markdown",
   "metadata": {},
   "source": [
    "Нет никаких ограничений кроме:\n",
    "\n",
    "1) нельзя изменять метрику\n",
    "2) решение должно быть воспроизводимым"
   ]
  },
  {
   "cell_type": "markdown",
   "metadata": {},
   "source": [
    "В качестве ответа нужно предоставить jupyter тетрадку с экспериментами (обязательное условие!) и описать каждую из идей в форме - https://goo.gl/forms/H9lBH9wCxqq1T0ru2"
   ]
  },
  {
   "cell_type": "markdown",
   "metadata": {},
   "source": [
    "Каждый реализованный и описанный способ оценивается в 3 балла. Дополнительный балл можно получить, если способы затрагивают разные аспекты решения (например, первая идея - улучшить нормализацию, вторая - улучшить способ представления текста в виде графа, третья - предложить способ удаления из топа идентичных ключевых слов (рф, россия))."
   ]
  },
  {
   "cell_type": "markdown",
   "metadata": {},
   "source": [
    "Можно использовать мой код как основу, а можно придумать что-то полностью другой."
   ]
  },
  {
   "cell_type": "markdown",
   "metadata": {},
   "source": [
    "Если у вас никак не получается побить бейзлайн вы можете предоставить реализацию и описание неудавшихся экспериментов (каждый оценивается в 0.5 баллов)."
   ]
  },
  {
   "cell_type": "markdown",
   "metadata": {},
   "source": [
    "## Способ 1 (+)"
   ]
  },
  {
   "cell_type": "markdown",
   "metadata": {},
   "source": [
    "Можно попробовать добавить к существительным прилагательные в именительном падеже с сохранением числа и рода."
   ]
  },
  {
   "cell_type": "code",
   "execution_count": 124,
   "metadata": {
    "collapsed": true
   },
   "outputs": [],
   "source": [
    "def find_noun_adjf(text):   \n",
    "    words = [word.strip(punct) for word in text.lower().split()]\n",
    "    words = [morph.parse(word)[0] for word in words if word and word not in stops]\n",
    "    words = [word.inflect({'nomn'}).word for word in words if word.tag.POS == 'NOUN' or word.tag.POS == 'ADJF']\n",
    "\n",
    "    return words"
   ]
  },
  {
   "cell_type": "code",
   "execution_count": 126,
   "metadata": {
    "collapsed": true
   },
   "outputs": [],
   "source": [
    "data['content_norm_with_adj'] = data['content'].apply(find_noun_adjf)"
   ]
  },
  {
   "cell_type": "code",
   "execution_count": 454,
   "metadata": {},
   "outputs": [
    {
     "name": "stdout",
     "output_type": "stream",
     "text": [
      "Precision -  0.14\n",
      "Recall -  0.27\n",
      "F1 -  0.18\n",
      "Jaccard -  0.1\n"
     ]
    }
   ],
   "source": [
    "data['content_norm_with_adj_str'] = data['content_norm_with_adj'].apply(' '.join)\n",
    "\n",
    "tfidf = TfidfVectorizer(ngram_range=(1,2), max_features=10000)\n",
    "tfidf.fit(data['content_norm_with_adj_str'])\n",
    "\n",
    "id2word = {i:word for i,word in enumerate(tfidf.get_feature_names())}\n",
    "texts_vectors = tfidf.transform(data['content_norm_with_adj_str'])\n",
    "\n",
    "keywords = [[id2word[w] for w in top] for top in texts_vectors.toarray().argsort()[:,:-11:-1]] \n",
    "evaluate(data['keywords'], keywords)"
   ]
  },
  {
   "cell_type": "markdown",
   "metadata": {},
   "source": [
    "F1 выросла, идем дальше."
   ]
  },
  {
   "cell_type": "markdown",
   "metadata": {},
   "source": [
    "## Способ 2 (+)"
   ]
  },
  {
   "cell_type": "markdown",
   "metadata": {},
   "source": [
    "Можно попробовать вытащить существительные из заголовков и добавить их к нашим последним ключевым словам."
   ]
  },
  {
   "cell_type": "code",
   "execution_count": 464,
   "metadata": {},
   "outputs": [
    {
     "data": {
      "text/html": [
       "<div>\n",
       "<style>\n",
       "    .dataframe thead tr:only-child th {\n",
       "        text-align: right;\n",
       "    }\n",
       "\n",
       "    .dataframe thead th {\n",
       "        text-align: left;\n",
       "    }\n",
       "\n",
       "    .dataframe tbody tr th {\n",
       "        vertical-align: top;\n",
       "    }\n",
       "</style>\n",
       "<table border=\"1\" class=\"dataframe\">\n",
       "  <thead>\n",
       "    <tr style=\"text-align: right;\">\n",
       "      <th></th>\n",
       "      <th>title</th>\n",
       "      <th>keywords</th>\n",
       "    </tr>\n",
       "  </thead>\n",
       "  <tbody>\n",
       "    <tr>\n",
       "      <th>0</th>\n",
       "      <td>Ольга Васильева обещала \"НГ\" не перегружать школьников</td>\n",
       "      <td>[школа, образовательные стандарты, литература, история, фгос]</td>\n",
       "    </tr>\n",
       "    <tr>\n",
       "      <th>1</th>\n",
       "      <td>У красоты собственные закон и воля</td>\n",
       "      <td>[красота, законы]</td>\n",
       "    </tr>\n",
       "    <tr>\n",
       "      <th>2</th>\n",
       "      <td>Апокалиптический бунт</td>\n",
       "      <td>[юзефович, гражданская война, пепеляев, якутия]</td>\n",
       "    </tr>\n",
       "    <tr>\n",
       "      <th>3</th>\n",
       "      <td>F1. Предсказать результаты Гран-При Испании было несложно</td>\n",
       "      <td>[формула1, автоспорт, гонки, испания, квят]</td>\n",
       "    </tr>\n",
       "    <tr>\n",
       "      <th>4</th>\n",
       "      <td>Возвращение в небесное отечество</td>\n",
       "      <td>[есенин, православие, святая русь, поэзия, год литературы, клюев, мариенгоф, стихи, россия]</td>\n",
       "    </tr>\n",
       "    <tr>\n",
       "      <th>5</th>\n",
       "      <td>Практическая медицина с большим будущим</td>\n",
       "      <td>[медвузы, медицинское образование, рудн, николай стуров, интервью]</td>\n",
       "    </tr>\n",
       "    <tr>\n",
       "      <th>6</th>\n",
       "      <td>Бумажный носитель. Вселенная, человек, язык человеческий</td>\n",
       "      <td>[литература, книги, периодика, космос, небо, астрономия, анатомия, филология]</td>\n",
       "    </tr>\n",
       "    <tr>\n",
       "      <th>7</th>\n",
       "      <td>В Багдаде неспокойно, а будет еще хуже</td>\n",
       "      <td>[сша, ирак, война]</td>\n",
       "    </tr>\n",
       "    <tr>\n",
       "      <th>8</th>\n",
       "      <td>Ученые предсказывают появление интуиции у искусственных нейронных сетей</td>\n",
       "      <td>[искусственный интеллект, робот, компьютер, технологии]</td>\n",
       "    </tr>\n",
       "    <tr>\n",
       "      <th>9</th>\n",
       "      <td>Россияне от вступления в ВТО не пострадают</td>\n",
       "      <td>[вб, вто, переговоры, тарифы]</td>\n",
       "    </tr>\n",
       "    <tr>\n",
       "      <th>10</th>\n",
       "      <td>Медведем по \"Роже\": слабый Берлинале наградил сильных женщин</td>\n",
       "      <td>[берлинале, довлатов, германмладший, адина пинтилие, малгожата шумовская, альфред бауэр, уэс андерсон, елена окопная, гаэль гарсия берналь, содерберг, гас ван сент]</td>\n",
       "    </tr>\n",
       "    <tr>\n",
       "      <th>11</th>\n",
       "      <td>Лысина загадочной формы</td>\n",
       "      <td>[житейские истории, больница, больничные истории]</td>\n",
       "    </tr>\n",
       "    <tr>\n",
       "      <th>12</th>\n",
       "      <td>Князь Андрей и неопифагорейцы</td>\n",
       "      <td>[псков, туризм, путешествие]</td>\n",
       "    </tr>\n",
       "    <tr>\n",
       "      <th>13</th>\n",
       "      <td>Экстремизм - дитя глобализации</td>\n",
       "      <td>[индонезия, экстремизм, терроризм, глобализация]</td>\n",
       "    </tr>\n",
       "    <tr>\n",
       "      <th>14</th>\n",
       "      <td>Игра в жизнь не понарошку</td>\n",
       "      <td>[youtube, интернет, сеть, общество, саша спилберг]</td>\n",
       "    </tr>\n",
       "    <tr>\n",
       "      <th>15</th>\n",
       "      <td>Запад попросили не признавать выборы в РФ</td>\n",
       "      <td>[президентские выборы, путин, запад, политэмигранты]</td>\n",
       "    </tr>\n",
       "    <tr>\n",
       "      <th>16</th>\n",
       "      <td>Девятый вал проблем водоочистки</td>\n",
       "      <td>[вода, экология, экономика, водное пространство, гост, качество]</td>\n",
       "    </tr>\n",
       "    <tr>\n",
       "      <th>17</th>\n",
       "      <td>Город образования и столица интеллектуальных олимпийцев</td>\n",
       "      <td>[образование, олимпиада мегаполисов, образовательный форум, школы, модернизация, москва]</td>\n",
       "    </tr>\n",
       "    <tr>\n",
       "      <th>18</th>\n",
       "      <td>Снять фильм на смартфон - и умереть: Содерберг и Ван Сент выигрывают без призов</td>\n",
       "      <td>[берлин, германия, кинофестиваль, берлинале, кино, фильм, содерберг, ван сент]</td>\n",
       "    </tr>\n",
       "    <tr>\n",
       "      <th>19</th>\n",
       "      <td>Что могли противопоставить шведы чудовищной силе канадцев в олимпийском финале?</td>\n",
       "      <td>[хоккей, финал, сочи, олимпиада, канада, швеция]</td>\n",
       "    </tr>\n",
       "  </tbody>\n",
       "</table>\n",
       "</div>"
      ],
      "text/plain": [
       "                                                                              title  \\\n",
       "0                            Ольга Васильева обещала \"НГ\" не перегружать школьников   \n",
       "1                                                У красоты собственные закон и воля   \n",
       "2                                                             Апокалиптический бунт   \n",
       "3                         F1. Предсказать результаты Гран-При Испании было несложно   \n",
       "4                                                  Возвращение в небесное отечество   \n",
       "5                                           Практическая медицина с большим будущим   \n",
       "6                          Бумажный носитель. Вселенная, человек, язык человеческий   \n",
       "7                                            В Багдаде неспокойно, а будет еще хуже   \n",
       "8           Ученые предсказывают появление интуиции у искусственных нейронных сетей   \n",
       "9                                        Россияне от вступления в ВТО не пострадают   \n",
       "10                     Медведем по \"Роже\": слабый Берлинале наградил сильных женщин   \n",
       "11                                                          Лысина загадочной формы   \n",
       "12                                                    Князь Андрей и неопифагорейцы   \n",
       "13                                                   Экстремизм - дитя глобализации   \n",
       "14                                                        Игра в жизнь не понарошку   \n",
       "15                                        Запад попросили не признавать выборы в РФ   \n",
       "16                                                  Девятый вал проблем водоочистки   \n",
       "17                          Город образования и столица интеллектуальных олимпийцев   \n",
       "18  Снять фильм на смартфон - и умереть: Содерберг и Ван Сент выигрывают без призов   \n",
       "19  Что могли противопоставить шведы чудовищной силе канадцев в олимпийском финале?   \n",
       "\n",
       "                                                                                                                                                                keywords  \n",
       "0                                                                                                          [школа, образовательные стандарты, литература, история, фгос]  \n",
       "1                                                                                                                                                      [красота, законы]  \n",
       "2                                                                                                                        [юзефович, гражданская война, пепеляев, якутия]  \n",
       "3                                                                                                                            [формула1, автоспорт, гонки, испания, квят]  \n",
       "4                                                                            [есенин, православие, святая русь, поэзия, год литературы, клюев, мариенгоф, стихи, россия]  \n",
       "5                                                                                                     [медвузы, медицинское образование, рудн, николай стуров, интервью]  \n",
       "6                                                                                          [литература, книги, периодика, космос, небо, астрономия, анатомия, филология]  \n",
       "7                                                                                                                                                     [сша, ирак, война]  \n",
       "8                                                                                                                [искусственный интеллект, робот, компьютер, технологии]  \n",
       "9                                                                                                                                          [вб, вто, переговоры, тарифы]  \n",
       "10  [берлинале, довлатов, германмладший, адина пинтилие, малгожата шумовская, альфред бауэр, уэс андерсон, елена окопная, гаэль гарсия берналь, содерберг, гас ван сент]  \n",
       "11                                                                                                                     [житейские истории, больница, больничные истории]  \n",
       "12                                                                                                                                          [псков, туризм, путешествие]  \n",
       "13                                                                                                                      [индонезия, экстремизм, терроризм, глобализация]  \n",
       "14                                                                                                                    [youtube, интернет, сеть, общество, саша спилберг]  \n",
       "15                                                                                                                  [президентские выборы, путин, запад, политэмигранты]  \n",
       "16                                                                                                      [вода, экология, экономика, водное пространство, гост, качество]  \n",
       "17                                                                              [образование, олимпиада мегаполисов, образовательный форум, школы, модернизация, москва]  \n",
       "18                                                                                        [берлин, германия, кинофестиваль, берлинале, кино, фильм, содерберг, ван сент]  \n",
       "19                                                                                                                      [хоккей, финал, сочи, олимпиада, канада, швеция]  "
      ]
     },
     "execution_count": 464,
     "metadata": {},
     "output_type": "execute_result"
    }
   ],
   "source": [
    "data[['title', 'keywords']][:20]"
   ]
  },
  {
   "cell_type": "code",
   "execution_count": 457,
   "metadata": {
    "collapsed": true
   },
   "outputs": [],
   "source": [
    "def find_noun(text):   \n",
    "    words = [word.strip(punct) for word in text.lower().split()]\n",
    "    words = [morph.parse(word)[0] for word in words if word and word not in stops]\n",
    "    words = [word.inflect({'nomn'}).word for word in words if word.tag.POS == 'NOUN']\n",
    "\n",
    "    return words"
   ]
  },
  {
   "cell_type": "code",
   "execution_count": 458,
   "metadata": {},
   "outputs": [],
   "source": [
    "data['title_norm'] = data['title'].apply(find_noun)"
   ]
  },
  {
   "cell_type": "code",
   "execution_count": 692,
   "metadata": {},
   "outputs": [],
   "source": [
    "keywords2 = [a + b for a, b in zip(keywords, data['title_norm'])]"
   ]
  },
  {
   "cell_type": "code",
   "execution_count": 693,
   "metadata": {},
   "outputs": [
    {
     "name": "stdout",
     "output_type": "stream",
     "text": [
      "Precision -  0.14\n",
      "Recall -  0.32\n",
      "F1 -  0.19\n",
      "Jaccard -  0.11\n"
     ]
    }
   ],
   "source": [
    "evaluate(data['keywords'], keywords2)"
   ]
  },
  {
   "cell_type": "markdown",
   "metadata": {},
   "source": [
    "Есть улучшение еще на одну сотую."
   ]
  },
  {
   "cell_type": "markdown",
   "metadata": {},
   "source": [
    "## Cпособ 3 (-)"
   ]
  },
  {
   "cell_type": "markdown",
   "metadata": {},
   "source": [
    "Можно попробовать вытащить из саммари имена, аббревиатуры (типа ГЭС), слова, написанные латиницей (youtube), слова, не распознанные парсером, и географические объекты (Псков), потому что все это часто попадает в ключевые слова."
   ]
  },
  {
   "cell_type": "code",
   "execution_count": 549,
   "metadata": {},
   "outputs": [
    {
     "data": {
      "text/html": [
       "<div>\n",
       "<style>\n",
       "    .dataframe thead tr:only-child th {\n",
       "        text-align: right;\n",
       "    }\n",
       "\n",
       "    .dataframe thead th {\n",
       "        text-align: left;\n",
       "    }\n",
       "\n",
       "    .dataframe tbody tr th {\n",
       "        vertical-align: top;\n",
       "    }\n",
       "</style>\n",
       "<table border=\"1\" class=\"dataframe\">\n",
       "  <thead>\n",
       "    <tr style=\"text-align: right;\">\n",
       "      <th></th>\n",
       "      <th>summary</th>\n",
       "      <th>keywords</th>\n",
       "    </tr>\n",
       "  </thead>\n",
       "  <tbody>\n",
       "    <tr>\n",
       "      <th>20</th>\n",
       "      <td>Лондон намерен представить уже второй пакет ограничений против РФ</td>\n",
       "      <td>[британия, антироссийские санкции, отравление, скрипаль, химоружие, дипломаты, высылка]</td>\n",
       "    </tr>\n",
       "    <tr>\n",
       "      <th>21</th>\n",
       "      <td>Как снизить факторы риска заболевания артрозом</td>\n",
       "      <td>[суставы, артроз, заболевания, причины, симптомы, лечение]</td>\n",
       "    </tr>\n",
       "    <tr>\n",
       "      <th>22</th>\n",
       "      <td></td>\n",
       "      <td>[конкурс, красоты, технополис, вдв, шойгу, путин, научная, рота, минобороны, инновации, технологии, ученые]</td>\n",
       "    </tr>\n",
       "    <tr>\n",
       "      <th>23</th>\n",
       "      <td></td>\n",
       "      <td>[вгтрк, добродеев, реорганизация, дума]</td>\n",
       "    </tr>\n",
       "    <tr>\n",
       "      <th>24</th>\n",
       "      <td></td>\n",
       "      <td>[украина, оон, резолюция, правозащита, крым, севастополь]</td>\n",
       "    </tr>\n",
       "    <tr>\n",
       "      <th>25</th>\n",
       "      <td>Общественный штаб проконтролировал законность и прозрачность процедуры голосования в столице</td>\n",
       "      <td>[президентские выборы, москва, наблюдатели, волонтеры, инциденты]</td>\n",
       "    </tr>\n",
       "    <tr>\n",
       "      <th>26</th>\n",
       "      <td>Все те же лица, тот же мыслей ход...</td>\n",
       "      <td>[путин, политика, экономика, выборы, президентские выборы, элита, власть]</td>\n",
       "    </tr>\n",
       "    <tr>\n",
       "      <th>27</th>\n",
       "      <td>Судьбу проектов строительства ГЭС в Монголии должны решать ученые</td>\n",
       "      <td>[экология, байкал, гэс, монголия, юнеско, иркутская область, бурятия, общественные слушания]</td>\n",
       "    </tr>\n",
       "    <tr>\n",
       "      <th>28</th>\n",
       "      <td>Самолеты и субмарины обер-прокурора</td>\n",
       "      <td>[история, россия, константин победоносцев, реформы, александр ii, александр iii, николай ii, политика, религия, флот, армия, империя, славянофилы, западники, александр блок, достоевский]</td>\n",
       "    </tr>\n",
       "    <tr>\n",
       "      <th>29</th>\n",
       "      <td>Киев обрадовался катарскому газу</td>\n",
       "      <td>[украина, россия, газ, газпром, нафтогаз, катар, порошенко]</td>\n",
       "    </tr>\n",
       "    <tr>\n",
       "      <th>30</th>\n",
       "      <td>Экономический ущерб от нерешенных экологических проблем в РФ достигает 6% ВВП</td>\n",
       "      <td>[экология, зеленые технологии, россия, германия]</td>\n",
       "    </tr>\n",
       "    <tr>\n",
       "      <th>31</th>\n",
       "      <td>Тереза Мэй потребовала от Москвы объяснений в связи с покушением на Скрипаля</td>\n",
       "      <td>[великобритания, гру, шпионаж, убийство, скрипаль, мэй]</td>\n",
       "    </tr>\n",
       "    <tr>\n",
       "      <th>32</th>\n",
       "      <td>Выбор тренеров для нового/старого проекта СТС – ход неожиданный и интересный</td>\n",
       "      <td>[телевидение, стс, реалити, похудение, взвешенные люди, тренеры]</td>\n",
       "    </tr>\n",
       "    <tr>\n",
       "      <th>33</th>\n",
       "      <td>Прозаик Леонид Юзефович об истории нормальных людей в ужасных \\r\\nобстоятельствах</td>\n",
       "      <td>[юзефович, гражданская война, пепеляев, роман, строд]</td>\n",
       "    </tr>\n",
       "    <tr>\n",
       "      <th>34</th>\n",
       "      <td>Фактов вины Москвы мало, а обвинений в ее адрес все больше и больше</td>\n",
       "      <td>[новичок, тереза мэй, великобритания, скандал, убийство, скрипаль, нато]</td>\n",
       "    </tr>\n",
       "    <tr>\n",
       "      <th>35</th>\n",
       "      <td>Революция в веселых и невеселых картинках</td>\n",
       "      <td>[революция, литература, сатира, юмор, стихи, шаржи, пародии, николай ii, ленин, керенский, коллонтай]</td>\n",
       "    </tr>\n",
       "    <tr>\n",
       "      <th>36</th>\n",
       "      <td>Провокация с химоружием и новый удар по Сирии откладываются</td>\n",
       "      <td>[генштаб, сирия, провокация, химоружие, спецслужбы, сша, турция, африн, манбидж]</td>\n",
       "    </tr>\n",
       "    <tr>\n",
       "      <th>37</th>\n",
       "      <td>Руководитель управляющей компании Дитер Клостерманн уверен в его успехе и востребованности</td>\n",
       "      <td>[интервью, дитером клостерманн, клуб, отдых, неформат]</td>\n",
       "    </tr>\n",
       "    <tr>\n",
       "      <th>38</th>\n",
       "      <td></td>\n",
       "      <td>[минздрав, назначение, олег салагай]</td>\n",
       "    </tr>\n",
       "    <tr>\n",
       "      <th>39</th>\n",
       "      <td>Исследования студентов и аспирантов становятся все более конкурентоспособными</td>\n",
       "      <td>[вузовская наука, исследования, губернаторы, судебные решения, тестостерон, репрессивность]</td>\n",
       "    </tr>\n",
       "  </tbody>\n",
       "</table>\n",
       "</div>"
      ],
      "text/plain": [
       "                                                                                         summary  \\\n",
       "20                             Лондон намерен представить уже второй пакет ограничений против РФ   \n",
       "21                                                Как снизить факторы риска заболевания артрозом   \n",
       "22                                                                                                 \n",
       "23                                                                                                 \n",
       "24                                                                                                 \n",
       "25  Общественный штаб проконтролировал законность и прозрачность процедуры голосования в столице   \n",
       "26                                                          Все те же лица, тот же мыслей ход...   \n",
       "27                             Судьбу проектов строительства ГЭС в Монголии должны решать ученые   \n",
       "28                                                           Самолеты и субмарины обер-прокурора   \n",
       "29                                                              Киев обрадовался катарскому газу   \n",
       "30                 Экономический ущерб от нерешенных экологических проблем в РФ достигает 6% ВВП   \n",
       "31                  Тереза Мэй потребовала от Москвы объяснений в связи с покушением на Скрипаля   \n",
       "32                Выбор тренеров для нового/старого проекта СТС – ход неожиданный и интересный     \n",
       "33             Прозаик Леонид Юзефович об истории нормальных людей в ужасных \\r\\nобстоятельствах   \n",
       "34                           Фактов вины Москвы мало, а обвинений в ее адрес все больше и больше   \n",
       "35                                                     Революция в веселых и невеселых картинках   \n",
       "36                                   Провокация с химоружием и новый удар по Сирии откладываются   \n",
       "37    Руководитель управляющей компании Дитер Клостерманн уверен в его успехе и востребованности   \n",
       "38                                                                                                 \n",
       "39                 Исследования студентов и аспирантов становятся все более конкурентоспособными   \n",
       "\n",
       "                                                                                                                                                                                      keywords  \n",
       "20                                                                                                     [британия, антироссийские санкции, отравление, скрипаль, химоружие, дипломаты, высылка]  \n",
       "21                                                                                                                                  [суставы, артроз, заболевания, причины, симптомы, лечение]  \n",
       "22                                                                                 [конкурс, красоты, технополис, вдв, шойгу, путин, научная, рота, минобороны, инновации, технологии, ученые]  \n",
       "23                                                                                                                                                     [вгтрк, добродеев, реорганизация, дума]  \n",
       "24                                                                                                                                   [украина, оон, резолюция, правозащита, крым, севастополь]  \n",
       "25                                                                                                                           [президентские выборы, москва, наблюдатели, волонтеры, инциденты]  \n",
       "26                                                                                                                   [путин, политика, экономика, выборы, президентские выборы, элита, власть]  \n",
       "27                                                                                                [экология, байкал, гэс, монголия, юнеско, иркутская область, бурятия, общественные слушания]  \n",
       "28  [история, россия, константин победоносцев, реформы, александр ii, александр iii, николай ii, политика, религия, флот, армия, империя, славянофилы, западники, александр блок, достоевский]  \n",
       "29                                                                                                                                 [украина, россия, газ, газпром, нафтогаз, катар, порошенко]  \n",
       "30                                                                                                                                            [экология, зеленые технологии, россия, германия]  \n",
       "31                                                                                                                                     [великобритания, гру, шпионаж, убийство, скрипаль, мэй]  \n",
       "32                                                                                                                            [телевидение, стс, реалити, похудение, взвешенные люди, тренеры]  \n",
       "33                                                                                                                                       [юзефович, гражданская война, пепеляев, роман, строд]  \n",
       "34                                                                                                                    [новичок, тереза мэй, великобритания, скандал, убийство, скрипаль, нато]  \n",
       "35                                                                                       [революция, литература, сатира, юмор, стихи, шаржи, пародии, николай ii, ленин, керенский, коллонтай]  \n",
       "36                                                                                                            [генштаб, сирия, провокация, химоружие, спецслужбы, сша, турция, африн, манбидж]  \n",
       "37                                                                                                                                      [интервью, дитером клостерманн, клуб, отдых, неформат]  \n",
       "38                                                                                                                                                        [минздрав, назначение, олег салагай]  \n",
       "39                                                                                                 [вузовская наука, исследования, губернаторы, судебные решения, тестостерон, репрессивность]  "
      ]
     },
     "execution_count": 549,
     "metadata": {},
     "output_type": "execute_result"
    }
   ],
   "source": [
    "data[['summary', 'keywords']][:10]"
   ]
  },
  {
   "cell_type": "code",
   "execution_count": 609,
   "metadata": {},
   "outputs": [],
   "source": [
    "def find_stuff(text):   \n",
    "    words = [word.strip(punct) for word in text.lower().split()]\n",
    "    words = [morph.parse(word)[0] for word in words if word and word not in stops]\n",
    "    final = []\n",
    "    \n",
    "    for word in words:\n",
    "        if word != None and 'Surn' in word.tag or 'Geox' in word.tag or 'Name' in word.tag:\n",
    "            try:\n",
    "                final.append(word.inflect({'nomn'}).word)\n",
    "            except:\n",
    "                pass\n",
    "        elif 'Abbr' in word.tag or 'LATN' in word.tag or 'UNKN' in word.tag:\n",
    "            try:\n",
    "                final.append(word.word)\n",
    "            except:\n",
    "                pass\n",
    "\n",
    "    return final"
   ]
  },
  {
   "cell_type": "code",
   "execution_count": 647,
   "metadata": {},
   "outputs": [],
   "source": [
    "data['summary_stuff'] = data['summary'].apply(find_stuff)"
   ]
  },
  {
   "cell_type": "code",
   "execution_count": 649,
   "metadata": {},
   "outputs": [
    {
     "data": {
      "text/plain": [
       "0                            []\n",
       "1                            []\n",
       "2                      [якутия]\n",
       "3                   [формулы-1]\n",
       "4              [сергей, есенин]\n",
       "5                            []\n",
       "6                            []\n",
       "7                            []\n",
       "8                            []\n",
       "9                            []\n",
       "10                     [россия]\n",
       "11                         [бг]\n",
       "12                      [псков]\n",
       "13                           []\n",
       "14                    [youtube]\n",
       "15    [сша, британия, евросоюз]\n",
       "16                           []\n",
       "17                           []\n",
       "18          [берлинал, хоакины]\n",
       "19                           []\n",
       "Name: summary_stuff, dtype: object"
      ]
     },
     "execution_count": 649,
     "metadata": {},
     "output_type": "execute_result"
    }
   ],
   "source": [
    "data['summary_stuff'][:20]"
   ]
  },
  {
   "cell_type": "code",
   "execution_count": 700,
   "metadata": {
    "collapsed": true
   },
   "outputs": [],
   "source": [
    "keywords3 = [list(set(a) | set(b)) for a, b in zip(keywords2, data['summary_stuff'])]"
   ]
  },
  {
   "cell_type": "code",
   "execution_count": 696,
   "metadata": {},
   "outputs": [
    {
     "name": "stdout",
     "output_type": "stream",
     "text": [
      "Precision -  0.14\n",
      "Recall -  0.33\n",
      "F1 -  0.19\n",
      "Jaccard -  0.11\n"
     ]
    }
   ],
   "source": [
    "evaluate(data['keywords'], keywords3)"
   ]
  },
  {
   "cell_type": "markdown",
   "metadata": {},
   "source": [
    "Бэйзлайн, конечно, все еще побивается, но этот способ не дал улучшений :(\n",
    "\n",
    "(хотя немного выросла полнота)"
   ]
  },
  {
   "cell_type": "markdown",
   "metadata": {},
   "source": [
    "## Способ 4 (-)\n",
    "\n",
    "Сочетания \"имя + фамилия\" очень часто встречаются в ключевых словах. Можно использовать Наташу, чтобы корректно вытаскивать их и добавлять к нашим ключевым словам."
   ]
  },
  {
   "cell_type": "code",
   "execution_count": 665,
   "metadata": {},
   "outputs": [],
   "source": [
    "from natasha import PersonExtractor\n",
    "\n",
    "\n",
    "def find_names(text):\n",
    "    extractor = PersonExtractor()\n",
    "    matches = extractor(text)\n",
    "    names = []\n",
    "\n",
    "    for match in matches:\n",
    "        try:\n",
    "            name = match.fact.name.first + ' ' + match.fact.name.last\n",
    "            names.append(name)\n",
    "        except:\n",
    "            pass\n",
    "        \n",
    "    top = Counter(names).most_common(2)\n",
    "    top = [elem[0] for elem in top]\n",
    "    \n",
    "    return top"
   ]
  },
  {
   "cell_type": "code",
   "execution_count": 671,
   "metadata": {},
   "outputs": [],
   "source": [
    "data['content_names'] = data['content'].apply(find_names)"
   ]
  },
  {
   "cell_type": "code",
   "execution_count": 710,
   "metadata": {},
   "outputs": [
    {
     "data": {
      "text/plain": [
       "0                               [ольга васильева, сергей волков]\n",
       "1                                                             []\n",
       "2           [леонид юзефович, анатолий пепеляев, леонид малышев]\n",
       "3              [себастьян феттель, нико росберг, хэмилтон льюис]\n",
       "4      [августа миклашевская, лев толстой, сергей александрович]\n",
       "5                                                             []\n",
       "6                      [анна урысон, П лебедева, яков перельман]\n",
       "7                                                             []\n",
       "8                 [николай карамзин, иммануил кант, иван павлов]\n",
       "9     [кристалина георгиева, владимир ткаченко, алексей гордеев]\n",
       "10                   [елена окопная, алексей герман, тыквер тот]\n",
       "11                                                            []\n",
       "12                   [лев толстой, иван сусанин, ярослав мудрый]\n",
       "13                                [абу бакар, джек строу, май в]\n",
       "14          [николай соболев, саша спилберг, владимир мединский]\n",
       "15       [владимир путин, алексей навальный, андрей сидельников]\n",
       "16                                                            []\n",
       "17                  [павел кузьмин, М ломоносов, сергей собянин]\n",
       "18                   [стивен содерберг, каллахана с, сентом ван]\n",
       "19                                                            []\n",
       "Name: content_names, dtype: object"
      ]
     },
     "execution_count": 710,
     "metadata": {},
     "output_type": "execute_result"
    }
   ],
   "source": [
    "data['content_names'][:20]"
   ]
  },
  {
   "cell_type": "markdown",
   "metadata": {},
   "source": [
    "Сейчас можно отсеять имена, которые были вытащены раньше и добавить к ключевым словам как полное имя, так и отдельно фамилию."
   ]
  },
  {
   "cell_type": "code",
   "execution_count": 775,
   "metadata": {
    "collapsed": true
   },
   "outputs": [],
   "source": [
    "keywords4 = [[] for i in range(len(keywords3))]\n",
    "\n",
    "for i, elem in enumerate(keywords3):\n",
    "    for word in elem:\n",
    "        check = False\n",
    "        \n",
    "        for name in data['content_names'][i]:\n",
    "            if word in name:\n",
    "                check = True\n",
    "                \n",
    "        if check == False:\n",
    "            keywords4[i].append(word)\n",
    "    \n",
    "    for name in data['content_names'][i]:\n",
    "        keywords4[i].append(name)\n",
    "        keywords4[i].append(name.split()[1])"
   ]
  },
  {
   "cell_type": "code",
   "execution_count": 776,
   "metadata": {},
   "outputs": [
    {
     "name": "stdout",
     "output_type": "stream",
     "text": [
      "Precision -  0.12\n",
      "Recall -  0.36\n",
      "F1 -  0.17\n",
      "Jaccard -  0.1\n"
     ]
    }
   ],
   "source": [
    "evaluate(data['keywords'], keywords4)"
   ]
  },
  {
   "cell_type": "markdown",
   "metadata": {},
   "source": [
    "Бэйзлайн все еще побивается, но F1 упала."
   ]
  },
  {
   "cell_type": "markdown",
   "metadata": {},
   "source": [
    "## Способ 5"
   ]
  },
  {
   "cell_type": "markdown",
   "metadata": {},
   "source": [
    "В датасете даны url статей. Статьи по разным тематикам публикают в разных разделах. Можно попробовать вытащить названия разделов из ссылок и посмотреть, есть ли какая-то корреляция с ключевыми разделами."
   ]
  },
  {
   "cell_type": "code",
   "execution_count": 781,
   "metadata": {
    "collapsed": true
   },
   "outputs": [],
   "source": [
    "def find_cats(string):\n",
    "    try:\n",
    "        cat = re.search('.*?http://www.ng.ru/(.*?)/', string).group(1)\n",
    "    except:\n",
    "        cat = ''\n",
    "        \n",
    "    return cat"
   ]
  },
  {
   "cell_type": "code",
   "execution_count": 782,
   "metadata": {},
   "outputs": [
    {
     "data": {
      "text/plain": [
       "Counter({'': 58,\n",
       "         'accent': 1,\n",
       "         'antiquare': 2,\n",
       "         'antrakt': 23,\n",
       "         'antrakt_plus': 1,\n",
       "         'armament': 5,\n",
       "         'armies': 33,\n",
       "         'autosport': 68,\n",
       "         'before': 12,\n",
       "         'bogoslovie': 4,\n",
       "         'capacity': 5,\n",
       "         'chess': 1,\n",
       "         'cinematograph': 41,\n",
       "         'cis': 122,\n",
       "         'columnist': 22,\n",
       "         'concepts': 5,\n",
       "         'courier': 38,\n",
       "         'culture': 42,\n",
       "         'dipkurer': 34,\n",
       "         'ecology': 10,\n",
       "         'economics': 130,\n",
       "         'ecoprom': 20,\n",
       "         'editorial': 25,\n",
       "         'education': 29,\n",
       "         'energy': 33,\n",
       "         'events': 19,\n",
       "         'facts': 19,\n",
       "         'faith': 12,\n",
       "         'fakty': 23,\n",
       "         'five': 10,\n",
       "         'glavkniga': 11,\n",
       "         'health': 30,\n",
       "         'history': 3,\n",
       "         'ideas': 34,\n",
       "         'internet': 1,\n",
       "         'kafedra': 10,\n",
       "         'kartblansh': 36,\n",
       "         'kids': 10,\n",
       "         'koncep': 2,\n",
       "         'lit': 22,\n",
       "         'moscow': 23,\n",
       "         'n2018': 2,\n",
       "         'nauka': 25,\n",
       "         'newsng': 7,\n",
       "         'ng_ecology': 3,\n",
       "         'ng_ekologiya': 32,\n",
       "         'ng_energiya': 33,\n",
       "         'ng_exlibris': 46,\n",
       "         'ng_politics': 30,\n",
       "         'ng_religii': 30,\n",
       "         'ng_stolitsa': 30,\n",
       "         'ngregions': 1,\n",
       "         'non-fiction': 25,\n",
       "         'nonformat': 1,\n",
       "         'notes': 3,\n",
       "         'nvo': 4,\n",
       "         'nvoevents': 7,\n",
       "         'people': 6,\n",
       "         'people_regulations': 2,\n",
       "         'person': 11,\n",
       "         'philanthropy': 1,\n",
       "         'poetry': 18,\n",
       "         'polemics': 1,\n",
       "         'politic': 2,\n",
       "         'politics': 122,\n",
       "         'printing': 1,\n",
       "         'problems': 5,\n",
       "         'realty': 6,\n",
       "         'regions': 70,\n",
       "         'saturday': 5,\n",
       "         'scenario': 11,\n",
       "         'science': 47,\n",
       "         'sochi2014': 15,\n",
       "         'society': 2,\n",
       "         'spforces': 3,\n",
       "         'stolitsa': 5,\n",
       "         'stsenarii': 35,\n",
       "         'style': 45,\n",
       "         'subject': 18,\n",
       "         'titus': 30,\n",
       "         'tv': 10,\n",
       "         'vision': 20,\n",
       "         'wars': 5,\n",
       "         'week': 26,\n",
       "         'world': 135,\n",
       "         'zavisimaya': 22})"
      ]
     },
     "execution_count": 782,
     "metadata": {},
     "output_type": "execute_result"
    }
   ],
   "source": [
    "categories = data['url'].apply(find_cats)\n",
    "\n",
    "Counter(categories)"
   ]
  },
  {
   "cell_type": "markdown",
   "metadata": {},
   "source": [
    "Какие-то категории, типа style или world, слишком общие. Но можно попробовать использовать несколько очевидных."
   ]
  },
  {
   "cell_type": "code",
   "execution_count": 787,
   "metadata": {},
   "outputs": [],
   "source": [
    "def find_themes(string):\n",
    "    try:\n",
    "        cat = re.search('.*?http://www.ng.ru/(.*?)/', string).group(1)\n",
    "    except:\n",
    "        cat = ''\n",
    "    \n",
    "    themes = []\n",
    "        \n",
    "    if cat == 'autosport':\n",
    "        themes.append('автоспорт')\n",
    "    elif cat == 'ecoprom' or cat == 'ecology' or cat == 'ng_ecology' or cat == 'ng_ekologiya':\n",
    "        themes.append('экология')\n",
    "    elif cat == 'sochi2014':\n",
    "        themes.append('олимпиада')\n",
    "    elif cat == 'poetry':\n",
    "        themes.append('поэзия')\n",
    "             \n",
    "    return themes"
   ]
  },
  {
   "cell_type": "code",
   "execution_count": 788,
   "metadata": {
    "collapsed": true
   },
   "outputs": [],
   "source": [
    "data['themes'] = data['url'].apply(find_themes)"
   ]
  },
  {
   "cell_type": "markdown",
   "metadata": {},
   "source": [
    "Прибавим темы к предыдущему лучшему сету ключевых слов (из способа 3)."
   ]
  },
  {
   "cell_type": "code",
   "execution_count": 789,
   "metadata": {
    "collapsed": true
   },
   "outputs": [],
   "source": [
    "keywords5 = [list(set(a) | set(b)) for a, b in zip(keywords3, data['themes'])]"
   ]
  },
  {
   "cell_type": "code",
   "execution_count": 790,
   "metadata": {},
   "outputs": [
    {
     "name": "stdout",
     "output_type": "stream",
     "text": [
      "Precision -  0.15\n",
      "Recall -  0.34\n",
      "F1 -  0.2\n",
      "Jaccard -  0.11\n"
     ]
    }
   ],
   "source": [
    "evaluate(data['keywords'], keywords5)"
   ]
  },
  {
   "cell_type": "markdown",
   "metadata": {},
   "source": [
    "Даже несколько тем дали прирост на одну сотую - это неплохо.\n",
    "\n",
    "Можно не добавлять теги руками, а использовать на вытащенных категориях пакет transliterate или API переводчиков."
   ]
  }
 ],
 "metadata": {
  "kernelspec": {
   "display_name": "Python 3",
   "language": "python",
   "name": "python3"
  },
  "language_info": {
   "codemirror_mode": {
    "name": "ipython",
    "version": 3
   },
   "file_extension": ".py",
   "mimetype": "text/x-python",
   "name": "python",
   "nbconvert_exporter": "python",
   "pygments_lexer": "ipython3",
   "version": "3.6.3"
  }
 },
 "nbformat": 4,
 "nbformat_minor": 2
}
